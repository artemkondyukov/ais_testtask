{
 "cells": [
  {
   "cell_type": "markdown",
   "metadata": {},
   "source": [
    "### Required imports"
   ]
  },
  {
   "cell_type": "code",
   "execution_count": 437,
   "metadata": {
    "collapsed": true
   },
   "outputs": [],
   "source": [
    "from matplotlib import pyplot as plt\n",
    "import numpy as np\n",
    "import pandas as pd \n",
    "from sklearn.decomposition import TruncatedSVD\n",
    "from sklearn.grid_search import GridSearchCV\n",
    "from sklearn.multiclass import OneVsRestClassifier\n",
    "from sklearn.preprocessing import LabelBinarizer, LabelEncoder, scale\n",
    "from sklearn.svm import LinearSVC\n",
    "from sklearn.utils.extmath import randomized_svd\n",
    "from xgboost import XGBClassifier\n",
    "\n",
    "%matplotlib inline"
   ]
  },
  {
   "cell_type": "markdown",
   "metadata": {},
   "source": [
    "### Data load"
   ]
  },
  {
   "cell_type": "code",
   "execution_count": 106,
   "metadata": {
    "collapsed": false
   },
   "outputs": [],
   "source": [
    "data_mat = pd.read_csv(\"./data/student/student-mat.csv\", sep=\";\")\n",
    "data_por = pd.read_csv(\"./data/student/student-por.csv\", sep=\";\")"
   ]
  },
  {
   "cell_type": "code",
   "execution_count": 41,
   "metadata": {
    "collapsed": false
   },
   "outputs": [
    {
     "data": {
      "text/plain": [
       "(395, 33)"
      ]
     },
     "execution_count": 41,
     "metadata": {},
     "output_type": "execute_result"
    }
   ],
   "source": [
    "data_mat.shape"
   ]
  },
  {
   "cell_type": "code",
   "execution_count": 107,
   "metadata": {
    "collapsed": false
   },
   "outputs": [
    {
     "data": {
      "text/plain": [
       "(649, 33)"
      ]
     },
     "execution_count": 107,
     "metadata": {},
     "output_type": "execute_result"
    }
   ],
   "source": [
    "data_por.shape"
   ]
  },
  {
   "cell_type": "markdown",
   "metadata": {},
   "source": [
    "Probably, we'd better to concatenate data keeping the course taken as a feature."
   ]
  },
  {
   "cell_type": "code",
   "execution_count": 117,
   "metadata": {
    "collapsed": false
   },
   "outputs": [],
   "source": [
    "# zeros and ones are chosen so as to more abundant class to be represented as ones.\n",
    "data = pd.concat([\n",
    "        pd.concat([data_mat, pd.DataFrame(np.ones((data_mat.shape[0], 1)), columns=[\"Course\"])], axis=1),\n",
    "        pd.concat([data_por, pd.DataFrame(np.zeros((data_por.shape[0], 1)), columns=[\"Course\"])], axis=1),\n",
    "    ], axis=0)"
   ]
  },
  {
   "cell_type": "code",
   "execution_count": 119,
   "metadata": {
    "collapsed": false
   },
   "outputs": [
    {
     "data": {
      "text/plain": [
       "age           1044.0\n",
       "Medu          1044.0\n",
       "Fedu          1044.0\n",
       "traveltime    1044.0\n",
       "studytime     1044.0\n",
       "failures      1044.0\n",
       "famrel        1044.0\n",
       "freetime      1044.0\n",
       "goout         1044.0\n",
       "Dalc          1044.0\n",
       "Walc          1044.0\n",
       "health        1044.0\n",
       "absences      1044.0\n",
       "G1            1044.0\n",
       "G2            1044.0\n",
       "G3            1044.0\n",
       "Course        1044.0\n",
       "Name: count, dtype: float64"
      ]
     },
     "execution_count": 119,
     "metadata": {},
     "output_type": "execute_result"
    }
   ],
   "source": [
    "data.describe().ix[\"count\"]"
   ]
  },
  {
   "cell_type": "markdown",
   "metadata": {},
   "source": [
    "Thank God, every cell is filled"
   ]
  },
  {
   "cell_type": "markdown",
   "metadata": {},
   "source": [
    "### Data exploration"
   ]
  },
  {
   "cell_type": "code",
   "execution_count": 120,
   "metadata": {
    "collapsed": false
   },
   "outputs": [
    {
     "data": {
      "text/html": [
       "<div>\n",
       "<table border=\"1\" class=\"dataframe\">\n",
       "  <thead>\n",
       "    <tr style=\"text-align: right;\">\n",
       "      <th></th>\n",
       "      <th>school</th>\n",
       "      <th>sex</th>\n",
       "      <th>age</th>\n",
       "      <th>address</th>\n",
       "      <th>famsize</th>\n",
       "      <th>Pstatus</th>\n",
       "      <th>Medu</th>\n",
       "      <th>Fedu</th>\n",
       "      <th>Mjob</th>\n",
       "      <th>Fjob</th>\n",
       "      <th>...</th>\n",
       "      <th>freetime</th>\n",
       "      <th>goout</th>\n",
       "      <th>Dalc</th>\n",
       "      <th>Walc</th>\n",
       "      <th>health</th>\n",
       "      <th>absences</th>\n",
       "      <th>G1</th>\n",
       "      <th>G2</th>\n",
       "      <th>G3</th>\n",
       "      <th>Course</th>\n",
       "    </tr>\n",
       "  </thead>\n",
       "  <tbody>\n",
       "    <tr>\n",
       "      <th>0</th>\n",
       "      <td>GP</td>\n",
       "      <td>F</td>\n",
       "      <td>18</td>\n",
       "      <td>U</td>\n",
       "      <td>GT3</td>\n",
       "      <td>A</td>\n",
       "      <td>4</td>\n",
       "      <td>4</td>\n",
       "      <td>at_home</td>\n",
       "      <td>teacher</td>\n",
       "      <td>...</td>\n",
       "      <td>3</td>\n",
       "      <td>4</td>\n",
       "      <td>1</td>\n",
       "      <td>1</td>\n",
       "      <td>3</td>\n",
       "      <td>6</td>\n",
       "      <td>5</td>\n",
       "      <td>6</td>\n",
       "      <td>6</td>\n",
       "      <td>1.0</td>\n",
       "    </tr>\n",
       "    <tr>\n",
       "      <th>1</th>\n",
       "      <td>GP</td>\n",
       "      <td>F</td>\n",
       "      <td>17</td>\n",
       "      <td>U</td>\n",
       "      <td>GT3</td>\n",
       "      <td>T</td>\n",
       "      <td>1</td>\n",
       "      <td>1</td>\n",
       "      <td>at_home</td>\n",
       "      <td>other</td>\n",
       "      <td>...</td>\n",
       "      <td>3</td>\n",
       "      <td>3</td>\n",
       "      <td>1</td>\n",
       "      <td>1</td>\n",
       "      <td>3</td>\n",
       "      <td>4</td>\n",
       "      <td>5</td>\n",
       "      <td>5</td>\n",
       "      <td>6</td>\n",
       "      <td>1.0</td>\n",
       "    </tr>\n",
       "    <tr>\n",
       "      <th>2</th>\n",
       "      <td>GP</td>\n",
       "      <td>F</td>\n",
       "      <td>15</td>\n",
       "      <td>U</td>\n",
       "      <td>LE3</td>\n",
       "      <td>T</td>\n",
       "      <td>1</td>\n",
       "      <td>1</td>\n",
       "      <td>at_home</td>\n",
       "      <td>other</td>\n",
       "      <td>...</td>\n",
       "      <td>3</td>\n",
       "      <td>2</td>\n",
       "      <td>2</td>\n",
       "      <td>3</td>\n",
       "      <td>3</td>\n",
       "      <td>10</td>\n",
       "      <td>7</td>\n",
       "      <td>8</td>\n",
       "      <td>10</td>\n",
       "      <td>1.0</td>\n",
       "    </tr>\n",
       "    <tr>\n",
       "      <th>3</th>\n",
       "      <td>GP</td>\n",
       "      <td>F</td>\n",
       "      <td>15</td>\n",
       "      <td>U</td>\n",
       "      <td>GT3</td>\n",
       "      <td>T</td>\n",
       "      <td>4</td>\n",
       "      <td>2</td>\n",
       "      <td>health</td>\n",
       "      <td>services</td>\n",
       "      <td>...</td>\n",
       "      <td>2</td>\n",
       "      <td>2</td>\n",
       "      <td>1</td>\n",
       "      <td>1</td>\n",
       "      <td>5</td>\n",
       "      <td>2</td>\n",
       "      <td>15</td>\n",
       "      <td>14</td>\n",
       "      <td>15</td>\n",
       "      <td>1.0</td>\n",
       "    </tr>\n",
       "    <tr>\n",
       "      <th>4</th>\n",
       "      <td>GP</td>\n",
       "      <td>F</td>\n",
       "      <td>16</td>\n",
       "      <td>U</td>\n",
       "      <td>GT3</td>\n",
       "      <td>T</td>\n",
       "      <td>3</td>\n",
       "      <td>3</td>\n",
       "      <td>other</td>\n",
       "      <td>other</td>\n",
       "      <td>...</td>\n",
       "      <td>3</td>\n",
       "      <td>2</td>\n",
       "      <td>1</td>\n",
       "      <td>2</td>\n",
       "      <td>5</td>\n",
       "      <td>4</td>\n",
       "      <td>6</td>\n",
       "      <td>10</td>\n",
       "      <td>10</td>\n",
       "      <td>1.0</td>\n",
       "    </tr>\n",
       "  </tbody>\n",
       "</table>\n",
       "<p>5 rows × 34 columns</p>\n",
       "</div>"
      ],
      "text/plain": [
       "  school sex  age address famsize Pstatus  Medu  Fedu     Mjob      Fjob  \\\n",
       "0     GP   F   18       U     GT3       A     4     4  at_home   teacher   \n",
       "1     GP   F   17       U     GT3       T     1     1  at_home     other   \n",
       "2     GP   F   15       U     LE3       T     1     1  at_home     other   \n",
       "3     GP   F   15       U     GT3       T     4     2   health  services   \n",
       "4     GP   F   16       U     GT3       T     3     3    other     other   \n",
       "\n",
       "   ...   freetime goout  Dalc  Walc  health absences  G1  G2  G3 Course  \n",
       "0  ...          3     4     1     1       3        6   5   6   6    1.0  \n",
       "1  ...          3     3     1     1       3        4   5   5   6    1.0  \n",
       "2  ...          3     2     2     3       3       10   7   8  10    1.0  \n",
       "3  ...          2     2     1     1       5        2  15  14  15    1.0  \n",
       "4  ...          3     2     1     2       5        4   6  10  10    1.0  \n",
       "\n",
       "[5 rows x 34 columns]"
      ]
     },
     "execution_count": 120,
     "metadata": {},
     "output_type": "execute_result"
    }
   ],
   "source": [
    "data.head()"
   ]
  },
  {
   "cell_type": "markdown",
   "metadata": {},
   "source": [
    "### Data preprocessing"
   ]
  },
  {
   "cell_type": "code",
   "execution_count": 121,
   "metadata": {
    "collapsed": false
   },
   "outputs": [
    {
     "data": {
      "text/plain": [
       "Index(['school', 'sex', 'age', 'address', 'famsize', 'Pstatus', 'Medu', 'Fedu',\n",
       "       'Mjob', 'Fjob', 'reason', 'guardian', 'traveltime', 'studytime',\n",
       "       'failures', 'schoolsup', 'famsup', 'paid', 'activities', 'nursery',\n",
       "       'higher', 'internet', 'romantic', 'famrel', 'freetime', 'goout', 'Dalc',\n",
       "       'Walc', 'health', 'absences', 'G1', 'G2', 'G3', 'Course'],\n",
       "      dtype='object')"
      ]
     },
     "execution_count": 121,
     "metadata": {},
     "output_type": "execute_result"
    }
   ],
   "source": [
    "data.columns"
   ]
  },
  {
   "cell_type": "code",
   "execution_count": 122,
   "metadata": {
    "collapsed": false
   },
   "outputs": [
    {
     "data": {
      "text/plain": [
       "array([18, 17, 15, 16, 19, 22, 20, 21])"
      ]
     },
     "execution_count": 122,
     "metadata": {},
     "output_type": "execute_result"
    }
   ],
   "source": [
    "data.age.unique()"
   ]
  },
  {
   "cell_type": "markdown",
   "metadata": {},
   "source": [
    "Probably, it's better to consider this column as categorical feature because it has only 8 distinct values and distances between 17 and 18 years old and between 21 and 22 years old definitely aren't equal. However, dealing with this as categorical feature will lead to excess sparsity so we need to test different models."
   ]
  },
  {
   "cell_type": "markdown",
   "metadata": {},
   "source": [
    "Different types of features should be preprocessed differently (surprise!)"
   ]
  },
  {
   "cell_type": "code",
   "execution_count": 173,
   "metadata": {
    "collapsed": false
   },
   "outputs": [],
   "source": [
    "binary_features = []\n",
    "categorical_features = []\n",
    "numerical_features = []\n",
    "\n",
    "for column in data.columns:\n",
    "    if len(data[column].unique()) == 2:\n",
    "        binary_features.append(column)\n",
    "    elif len(data[column].unique()) < 10:    # 10 is a magic number, but it fits to the current dataset\n",
    "        categorical_features.append(column)\n",
    "    else:\n",
    "        numerical_features.append(column)"
   ]
  },
  {
   "cell_type": "code",
   "execution_count": 174,
   "metadata": {
    "collapsed": false
   },
   "outputs": [
    {
     "name": "stdout",
     "output_type": "stream",
     "text": [
      "Binary: \n",
      "['school', 'sex', 'address', 'famsize', 'Pstatus', 'schoolsup', 'famsup', 'paid', 'activities', 'nursery', 'higher', 'internet', 'romantic', 'Course']\n",
      "\n",
      "Categorical: \n",
      "['age', 'Medu', 'Fedu', 'Mjob', 'Fjob', 'reason', 'guardian', 'traveltime', 'studytime', 'failures', 'famrel', 'freetime', 'goout', 'Dalc', 'Walc', 'health']\n",
      "\n",
      "Numerical: \n",
      "['absences', 'G1', 'G2', 'G3']\n",
      "\n"
     ]
    }
   ],
   "source": [
    "print(\"Binary: \")\n",
    "print(binary_features)\n",
    "print()\n",
    "\n",
    "print(\"Categorical: \")\n",
    "print(categorical_features)\n",
    "print()\n",
    "\n",
    "print(\"Numerical: \")\n",
    "print(numerical_features)\n",
    "print()"
   ]
  },
  {
   "cell_type": "markdown",
   "metadata": {},
   "source": [
    "Looks very reasonable. We need to get the 10 most important features. There several ways to obtain importancies of features. Usually, PCA and random forest methods tend to be very good at evaluating feature importancies."
   ]
  },
  {
   "cell_type": "code",
   "execution_count": 348,
   "metadata": {
    "collapsed": false
   },
   "outputs": [],
   "source": [
    "binary_features = \\\n",
    "    ['school', 'sex', 'address', 'famsize', 'Pstatus', 'schoolsup', \n",
    "     'famsup', 'paid', 'activities', 'nursery', 'higher', 'internet', \n",
    "     'romantic', 'Course']\n",
    "    \n",
    "# Probably, it's good idea to drop first, because otherwise \n",
    "# we will get redundancy and problems fitting linear models (singular matrix)\n",
    "binary_vectors = pd.get_dummies(data[binary_features], drop_first=True).astype(np.int8)"
   ]
  },
  {
   "cell_type": "code",
   "execution_count": 349,
   "metadata": {
    "collapsed": false
   },
   "outputs": [
    {
     "data": {
      "text/plain": [
       "(1044, 14)"
      ]
     },
     "execution_count": 349,
     "metadata": {},
     "output_type": "execute_result"
    }
   ],
   "source": [
    "binary_vectors.shape"
   ]
  },
  {
   "cell_type": "code",
   "execution_count": 350,
   "metadata": {
    "collapsed": false
   },
   "outputs": [
    {
     "data": {
      "text/html": [
       "<div>\n",
       "<table border=\"1\" class=\"dataframe\">\n",
       "  <thead>\n",
       "    <tr style=\"text-align: right;\">\n",
       "      <th></th>\n",
       "      <th>Course</th>\n",
       "      <th>school_MS</th>\n",
       "      <th>sex_M</th>\n",
       "      <th>address_U</th>\n",
       "      <th>famsize_LE3</th>\n",
       "      <th>Pstatus_T</th>\n",
       "      <th>schoolsup_yes</th>\n",
       "      <th>famsup_yes</th>\n",
       "      <th>paid_yes</th>\n",
       "      <th>activities_yes</th>\n",
       "      <th>nursery_yes</th>\n",
       "      <th>higher_yes</th>\n",
       "      <th>internet_yes</th>\n",
       "      <th>romantic_yes</th>\n",
       "    </tr>\n",
       "  </thead>\n",
       "  <tbody>\n",
       "    <tr>\n",
       "      <th>0</th>\n",
       "      <td>1</td>\n",
       "      <td>0</td>\n",
       "      <td>0</td>\n",
       "      <td>1</td>\n",
       "      <td>0</td>\n",
       "      <td>0</td>\n",
       "      <td>1</td>\n",
       "      <td>0</td>\n",
       "      <td>0</td>\n",
       "      <td>0</td>\n",
       "      <td>1</td>\n",
       "      <td>1</td>\n",
       "      <td>0</td>\n",
       "      <td>0</td>\n",
       "    </tr>\n",
       "    <tr>\n",
       "      <th>1</th>\n",
       "      <td>1</td>\n",
       "      <td>0</td>\n",
       "      <td>0</td>\n",
       "      <td>1</td>\n",
       "      <td>0</td>\n",
       "      <td>1</td>\n",
       "      <td>0</td>\n",
       "      <td>1</td>\n",
       "      <td>0</td>\n",
       "      <td>0</td>\n",
       "      <td>0</td>\n",
       "      <td>1</td>\n",
       "      <td>1</td>\n",
       "      <td>0</td>\n",
       "    </tr>\n",
       "    <tr>\n",
       "      <th>2</th>\n",
       "      <td>1</td>\n",
       "      <td>0</td>\n",
       "      <td>0</td>\n",
       "      <td>1</td>\n",
       "      <td>1</td>\n",
       "      <td>1</td>\n",
       "      <td>1</td>\n",
       "      <td>0</td>\n",
       "      <td>1</td>\n",
       "      <td>0</td>\n",
       "      <td>1</td>\n",
       "      <td>1</td>\n",
       "      <td>1</td>\n",
       "      <td>0</td>\n",
       "    </tr>\n",
       "    <tr>\n",
       "      <th>3</th>\n",
       "      <td>1</td>\n",
       "      <td>0</td>\n",
       "      <td>0</td>\n",
       "      <td>1</td>\n",
       "      <td>0</td>\n",
       "      <td>1</td>\n",
       "      <td>0</td>\n",
       "      <td>1</td>\n",
       "      <td>1</td>\n",
       "      <td>1</td>\n",
       "      <td>1</td>\n",
       "      <td>1</td>\n",
       "      <td>1</td>\n",
       "      <td>1</td>\n",
       "    </tr>\n",
       "    <tr>\n",
       "      <th>4</th>\n",
       "      <td>1</td>\n",
       "      <td>0</td>\n",
       "      <td>0</td>\n",
       "      <td>1</td>\n",
       "      <td>0</td>\n",
       "      <td>1</td>\n",
       "      <td>0</td>\n",
       "      <td>1</td>\n",
       "      <td>1</td>\n",
       "      <td>0</td>\n",
       "      <td>1</td>\n",
       "      <td>1</td>\n",
       "      <td>0</td>\n",
       "      <td>0</td>\n",
       "    </tr>\n",
       "  </tbody>\n",
       "</table>\n",
       "</div>"
      ],
      "text/plain": [
       "   Course  school_MS  sex_M  address_U  famsize_LE3  Pstatus_T  schoolsup_yes  \\\n",
       "0       1          0      0          1            0          0              1   \n",
       "1       1          0      0          1            0          1              0   \n",
       "2       1          0      0          1            1          1              1   \n",
       "3       1          0      0          1            0          1              0   \n",
       "4       1          0      0          1            0          1              0   \n",
       "\n",
       "   famsup_yes  paid_yes  activities_yes  nursery_yes  higher_yes  \\\n",
       "0           0         0               0            1           1   \n",
       "1           1         0               0            0           1   \n",
       "2           0         1               0            1           1   \n",
       "3           1         1               1            1           1   \n",
       "4           1         1               0            1           1   \n",
       "\n",
       "   internet_yes  romantic_yes  \n",
       "0             0             0  \n",
       "1             1             0  \n",
       "2             1             0  \n",
       "3             1             1  \n",
       "4             0             0  "
      ]
     },
     "execution_count": 350,
     "metadata": {},
     "output_type": "execute_result"
    }
   ],
   "source": [
    "binary_vectors.head()"
   ]
  },
  {
   "cell_type": "code",
   "execution_count": 351,
   "metadata": {
    "collapsed": false
   },
   "outputs": [],
   "source": [
    "categorical_features = \\\n",
    "    ['age', 'Medu', 'Fedu', 'Mjob', 'Fjob', 'reason', 'guardian', \n",
    "     'traveltime', 'studytime', 'failures', 'famrel', 'freetime', \n",
    "     'goout', 'health']\n",
    "    \n",
    "# Probably, it's good idea to drop first, because otherwise \n",
    "# we will get redundancy and problems fitting linear models (singular matrix)\n",
    "# Furthermore, it reduces sparsity (a bit)\n",
    "label_vectors = pd.get_dummies(data[categorical_features].astype(object)).astype(np.int8)"
   ]
  },
  {
   "cell_type": "code",
   "execution_count": 352,
   "metadata": {
    "collapsed": false
   },
   "outputs": [
    {
     "data": {
      "text/html": [
       "<div>\n",
       "<table border=\"1\" class=\"dataframe\">\n",
       "  <thead>\n",
       "    <tr style=\"text-align: right;\">\n",
       "      <th></th>\n",
       "      <th>age_15</th>\n",
       "      <th>age_16</th>\n",
       "      <th>age_17</th>\n",
       "      <th>age_18</th>\n",
       "      <th>age_19</th>\n",
       "      <th>age_20</th>\n",
       "      <th>age_21</th>\n",
       "      <th>age_22</th>\n",
       "      <th>Medu_0</th>\n",
       "      <th>Medu_1</th>\n",
       "      <th>...</th>\n",
       "      <th>goout_1</th>\n",
       "      <th>goout_2</th>\n",
       "      <th>goout_3</th>\n",
       "      <th>goout_4</th>\n",
       "      <th>goout_5</th>\n",
       "      <th>health_1</th>\n",
       "      <th>health_2</th>\n",
       "      <th>health_3</th>\n",
       "      <th>health_4</th>\n",
       "      <th>health_5</th>\n",
       "    </tr>\n",
       "  </thead>\n",
       "  <tbody>\n",
       "    <tr>\n",
       "      <th>0</th>\n",
       "      <td>0</td>\n",
       "      <td>0</td>\n",
       "      <td>0</td>\n",
       "      <td>1</td>\n",
       "      <td>0</td>\n",
       "      <td>0</td>\n",
       "      <td>0</td>\n",
       "      <td>0</td>\n",
       "      <td>0</td>\n",
       "      <td>0</td>\n",
       "      <td>...</td>\n",
       "      <td>0</td>\n",
       "      <td>0</td>\n",
       "      <td>0</td>\n",
       "      <td>1</td>\n",
       "      <td>0</td>\n",
       "      <td>0</td>\n",
       "      <td>0</td>\n",
       "      <td>1</td>\n",
       "      <td>0</td>\n",
       "      <td>0</td>\n",
       "    </tr>\n",
       "    <tr>\n",
       "      <th>1</th>\n",
       "      <td>0</td>\n",
       "      <td>0</td>\n",
       "      <td>1</td>\n",
       "      <td>0</td>\n",
       "      <td>0</td>\n",
       "      <td>0</td>\n",
       "      <td>0</td>\n",
       "      <td>0</td>\n",
       "      <td>0</td>\n",
       "      <td>1</td>\n",
       "      <td>...</td>\n",
       "      <td>0</td>\n",
       "      <td>0</td>\n",
       "      <td>1</td>\n",
       "      <td>0</td>\n",
       "      <td>0</td>\n",
       "      <td>0</td>\n",
       "      <td>0</td>\n",
       "      <td>1</td>\n",
       "      <td>0</td>\n",
       "      <td>0</td>\n",
       "    </tr>\n",
       "    <tr>\n",
       "      <th>2</th>\n",
       "      <td>1</td>\n",
       "      <td>0</td>\n",
       "      <td>0</td>\n",
       "      <td>0</td>\n",
       "      <td>0</td>\n",
       "      <td>0</td>\n",
       "      <td>0</td>\n",
       "      <td>0</td>\n",
       "      <td>0</td>\n",
       "      <td>1</td>\n",
       "      <td>...</td>\n",
       "      <td>0</td>\n",
       "      <td>1</td>\n",
       "      <td>0</td>\n",
       "      <td>0</td>\n",
       "      <td>0</td>\n",
       "      <td>0</td>\n",
       "      <td>0</td>\n",
       "      <td>1</td>\n",
       "      <td>0</td>\n",
       "      <td>0</td>\n",
       "    </tr>\n",
       "    <tr>\n",
       "      <th>3</th>\n",
       "      <td>1</td>\n",
       "      <td>0</td>\n",
       "      <td>0</td>\n",
       "      <td>0</td>\n",
       "      <td>0</td>\n",
       "      <td>0</td>\n",
       "      <td>0</td>\n",
       "      <td>0</td>\n",
       "      <td>0</td>\n",
       "      <td>0</td>\n",
       "      <td>...</td>\n",
       "      <td>0</td>\n",
       "      <td>1</td>\n",
       "      <td>0</td>\n",
       "      <td>0</td>\n",
       "      <td>0</td>\n",
       "      <td>0</td>\n",
       "      <td>0</td>\n",
       "      <td>0</td>\n",
       "      <td>0</td>\n",
       "      <td>1</td>\n",
       "    </tr>\n",
       "    <tr>\n",
       "      <th>4</th>\n",
       "      <td>0</td>\n",
       "      <td>1</td>\n",
       "      <td>0</td>\n",
       "      <td>0</td>\n",
       "      <td>0</td>\n",
       "      <td>0</td>\n",
       "      <td>0</td>\n",
       "      <td>0</td>\n",
       "      <td>0</td>\n",
       "      <td>0</td>\n",
       "      <td>...</td>\n",
       "      <td>0</td>\n",
       "      <td>1</td>\n",
       "      <td>0</td>\n",
       "      <td>0</td>\n",
       "      <td>0</td>\n",
       "      <td>0</td>\n",
       "      <td>0</td>\n",
       "      <td>0</td>\n",
       "      <td>0</td>\n",
       "      <td>1</td>\n",
       "    </tr>\n",
       "  </tbody>\n",
       "</table>\n",
       "<p>5 rows × 67 columns</p>\n",
       "</div>"
      ],
      "text/plain": [
       "   age_15  age_16  age_17  age_18  age_19  age_20  age_21  age_22  Medu_0  \\\n",
       "0       0       0       0       1       0       0       0       0       0   \n",
       "1       0       0       1       0       0       0       0       0       0   \n",
       "2       1       0       0       0       0       0       0       0       0   \n",
       "3       1       0       0       0       0       0       0       0       0   \n",
       "4       0       1       0       0       0       0       0       0       0   \n",
       "\n",
       "   Medu_1    ...     goout_1  goout_2  goout_3  goout_4  goout_5  health_1  \\\n",
       "0       0    ...           0        0        0        1        0         0   \n",
       "1       1    ...           0        0        1        0        0         0   \n",
       "2       1    ...           0        1        0        0        0         0   \n",
       "3       0    ...           0        1        0        0        0         0   \n",
       "4       0    ...           0        1        0        0        0         0   \n",
       "\n",
       "   health_2  health_3  health_4  health_5  \n",
       "0         0         1         0         0  \n",
       "1         0         1         0         0  \n",
       "2         0         1         0         0  \n",
       "3         0         0         0         1  \n",
       "4         0         0         0         1  \n",
       "\n",
       "[5 rows x 67 columns]"
      ]
     },
     "execution_count": 352,
     "metadata": {},
     "output_type": "execute_result"
    }
   ],
   "source": [
    "label_vectors.head()"
   ]
  },
  {
   "cell_type": "code",
   "execution_count": 353,
   "metadata": {
    "collapsed": true
   },
   "outputs": [],
   "source": [
    "numerical_features = ['absences', 'G1', 'G2', 'G3']\n",
    "numerical_features = data[numerical_features].astype(np.int8)"
   ]
  },
  {
   "cell_type": "code",
   "execution_count": 354,
   "metadata": {
    "collapsed": false
   },
   "outputs": [],
   "source": [
    "Y = data[[\"Dalc\", \"Walc\"]].astype(np.int8)"
   ]
  },
  {
   "cell_type": "code",
   "execution_count": 355,
   "metadata": {
    "collapsed": false
   },
   "outputs": [],
   "source": [
    "X = pd.concat([binary_vectors, label_vectors, numerical_features], axis=1)"
   ]
  },
  {
   "cell_type": "code",
   "execution_count": 356,
   "metadata": {
    "collapsed": false
   },
   "outputs": [
    {
     "data": {
      "text/plain": [
       "(1044, 85)"
      ]
     },
     "execution_count": 356,
     "metadata": {},
     "output_type": "execute_result"
    }
   ],
   "source": [
    "X.shape"
   ]
  },
  {
   "cell_type": "markdown",
   "metadata": {},
   "source": [
    "Looks a bit sparse, maybe we'll face some troubles using random forest approach and linear models will be better. However we are able to use stacking of models :)"
   ]
  },
  {
   "cell_type": "code",
   "execution_count": 357,
   "metadata": {
    "collapsed": false
   },
   "outputs": [
    {
     "data": {
      "text/html": [
       "<div>\n",
       "<table border=\"1\" class=\"dataframe\">\n",
       "  <thead>\n",
       "    <tr style=\"text-align: right;\">\n",
       "      <th></th>\n",
       "      <th>Course</th>\n",
       "      <th>school_MS</th>\n",
       "      <th>sex_M</th>\n",
       "      <th>address_U</th>\n",
       "      <th>famsize_LE3</th>\n",
       "      <th>Pstatus_T</th>\n",
       "      <th>schoolsup_yes</th>\n",
       "      <th>famsup_yes</th>\n",
       "      <th>paid_yes</th>\n",
       "      <th>activities_yes</th>\n",
       "      <th>...</th>\n",
       "      <th>goout_5</th>\n",
       "      <th>health_1</th>\n",
       "      <th>health_2</th>\n",
       "      <th>health_3</th>\n",
       "      <th>health_4</th>\n",
       "      <th>health_5</th>\n",
       "      <th>absences</th>\n",
       "      <th>G1</th>\n",
       "      <th>G2</th>\n",
       "      <th>G3</th>\n",
       "    </tr>\n",
       "  </thead>\n",
       "  <tbody>\n",
       "    <tr>\n",
       "      <th>0</th>\n",
       "      <td>1</td>\n",
       "      <td>0</td>\n",
       "      <td>0</td>\n",
       "      <td>1</td>\n",
       "      <td>0</td>\n",
       "      <td>0</td>\n",
       "      <td>1</td>\n",
       "      <td>0</td>\n",
       "      <td>0</td>\n",
       "      <td>0</td>\n",
       "      <td>...</td>\n",
       "      <td>0</td>\n",
       "      <td>0</td>\n",
       "      <td>0</td>\n",
       "      <td>1</td>\n",
       "      <td>0</td>\n",
       "      <td>0</td>\n",
       "      <td>6</td>\n",
       "      <td>5</td>\n",
       "      <td>6</td>\n",
       "      <td>6</td>\n",
       "    </tr>\n",
       "    <tr>\n",
       "      <th>1</th>\n",
       "      <td>1</td>\n",
       "      <td>0</td>\n",
       "      <td>0</td>\n",
       "      <td>1</td>\n",
       "      <td>0</td>\n",
       "      <td>1</td>\n",
       "      <td>0</td>\n",
       "      <td>1</td>\n",
       "      <td>0</td>\n",
       "      <td>0</td>\n",
       "      <td>...</td>\n",
       "      <td>0</td>\n",
       "      <td>0</td>\n",
       "      <td>0</td>\n",
       "      <td>1</td>\n",
       "      <td>0</td>\n",
       "      <td>0</td>\n",
       "      <td>4</td>\n",
       "      <td>5</td>\n",
       "      <td>5</td>\n",
       "      <td>6</td>\n",
       "    </tr>\n",
       "    <tr>\n",
       "      <th>2</th>\n",
       "      <td>1</td>\n",
       "      <td>0</td>\n",
       "      <td>0</td>\n",
       "      <td>1</td>\n",
       "      <td>1</td>\n",
       "      <td>1</td>\n",
       "      <td>1</td>\n",
       "      <td>0</td>\n",
       "      <td>1</td>\n",
       "      <td>0</td>\n",
       "      <td>...</td>\n",
       "      <td>0</td>\n",
       "      <td>0</td>\n",
       "      <td>0</td>\n",
       "      <td>1</td>\n",
       "      <td>0</td>\n",
       "      <td>0</td>\n",
       "      <td>10</td>\n",
       "      <td>7</td>\n",
       "      <td>8</td>\n",
       "      <td>10</td>\n",
       "    </tr>\n",
       "    <tr>\n",
       "      <th>3</th>\n",
       "      <td>1</td>\n",
       "      <td>0</td>\n",
       "      <td>0</td>\n",
       "      <td>1</td>\n",
       "      <td>0</td>\n",
       "      <td>1</td>\n",
       "      <td>0</td>\n",
       "      <td>1</td>\n",
       "      <td>1</td>\n",
       "      <td>1</td>\n",
       "      <td>...</td>\n",
       "      <td>0</td>\n",
       "      <td>0</td>\n",
       "      <td>0</td>\n",
       "      <td>0</td>\n",
       "      <td>0</td>\n",
       "      <td>1</td>\n",
       "      <td>2</td>\n",
       "      <td>15</td>\n",
       "      <td>14</td>\n",
       "      <td>15</td>\n",
       "    </tr>\n",
       "    <tr>\n",
       "      <th>4</th>\n",
       "      <td>1</td>\n",
       "      <td>0</td>\n",
       "      <td>0</td>\n",
       "      <td>1</td>\n",
       "      <td>0</td>\n",
       "      <td>1</td>\n",
       "      <td>0</td>\n",
       "      <td>1</td>\n",
       "      <td>1</td>\n",
       "      <td>0</td>\n",
       "      <td>...</td>\n",
       "      <td>0</td>\n",
       "      <td>0</td>\n",
       "      <td>0</td>\n",
       "      <td>0</td>\n",
       "      <td>0</td>\n",
       "      <td>1</td>\n",
       "      <td>4</td>\n",
       "      <td>6</td>\n",
       "      <td>10</td>\n",
       "      <td>10</td>\n",
       "    </tr>\n",
       "  </tbody>\n",
       "</table>\n",
       "<p>5 rows × 85 columns</p>\n",
       "</div>"
      ],
      "text/plain": [
       "   Course  school_MS  sex_M  address_U  famsize_LE3  Pstatus_T  schoolsup_yes  \\\n",
       "0       1          0      0          1            0          0              1   \n",
       "1       1          0      0          1            0          1              0   \n",
       "2       1          0      0          1            1          1              1   \n",
       "3       1          0      0          1            0          1              0   \n",
       "4       1          0      0          1            0          1              0   \n",
       "\n",
       "   famsup_yes  paid_yes  activities_yes ...  goout_5  health_1  health_2  \\\n",
       "0           0         0               0 ...        0         0         0   \n",
       "1           1         0               0 ...        0         0         0   \n",
       "2           0         1               0 ...        0         0         0   \n",
       "3           1         1               1 ...        0         0         0   \n",
       "4           1         1               0 ...        0         0         0   \n",
       "\n",
       "   health_3  health_4  health_5  absences  G1  G2  G3  \n",
       "0         1         0         0         6   5   6   6  \n",
       "1         1         0         0         4   5   5   6  \n",
       "2         1         0         0        10   7   8  10  \n",
       "3         0         0         1         2  15  14  15  \n",
       "4         0         0         1         4   6  10  10  \n",
       "\n",
       "[5 rows x 85 columns]"
      ]
     },
     "execution_count": 357,
     "metadata": {},
     "output_type": "execute_result"
    }
   ],
   "source": [
    "X.head()"
   ]
  },
  {
   "cell_type": "code",
   "execution_count": 370,
   "metadata": {
    "collapsed": false,
    "scrolled": true
   },
   "outputs": [
    {
     "name": "stdout",
     "output_type": "stream",
     "text": [
      "Fitting 5 folds for each of 120 candidates, totalling 600 fits\n",
      "[CV] n_estimators=50, max_depth=3, learning_rate=0.01 ................\n",
      "[CV] n_estimators=50, max_depth=3, learning_rate=0.01 ................\n",
      "[CV] n_estimators=50, max_depth=3, learning_rate=0.01 ................\n",
      "[CV] n_estimators=50, max_depth=3, learning_rate=0.01 ................\n",
      "[CV]  n_estimators=50, max_depth=3, learning_rate=0.01, score=0.698113 -   0.9s\n",
      "[CV] n_estimators=50, max_depth=3, learning_rate=0.01 ................\n",
      "[CV]  n_estimators=50, max_depth=3, learning_rate=0.01, score=0.706731 -   0.9s\n",
      "[CV]  n_estimators=50, max_depth=3, learning_rate=0.01, score=0.669856 -   0.9s\n",
      "[CV]  n_estimators=50, max_depth=3, learning_rate=0.01, score=0.706731 -   0.9s\n",
      "[CV] n_estimators=150, max_depth=3, learning_rate=0.01 ...............\n",
      "[CV] n_estimators=150, max_depth=3, learning_rate=0.01 ...............\n",
      "[CV] n_estimators=150, max_depth=3, learning_rate=0.01 ...............\n",
      "[CV]  n_estimators=50, max_depth=3, learning_rate=0.01, score=0.705314 -   1.1s\n",
      "[CV] n_estimators=150, max_depth=3, learning_rate=0.01 ...............\n"
     ]
    },
    {
     "name": "stderr",
     "output_type": "stream",
     "text": [
      "[Parallel(n_jobs=4)]: Done   5 tasks      | elapsed:    2.0s\n"
     ]
    },
    {
     "name": "stdout",
     "output_type": "stream",
     "text": [
      "[CV]  n_estimators=150, max_depth=3, learning_rate=0.01, score=0.707547 -   3.1s\n",
      "[CV]  n_estimators=150, max_depth=3, learning_rate=0.01, score=0.693780 -   3.1s\n",
      "[CV]  n_estimators=150, max_depth=3, learning_rate=0.01, score=0.697115 -   3.0s\n",
      "[CV] n_estimators=150, max_depth=3, learning_rate=0.01 ...............\n",
      "[CV] n_estimators=250, max_depth=3, learning_rate=0.01 ...............\n",
      "[CV] n_estimators=250, max_depth=3, learning_rate=0.01 ...............\n",
      "[CV]  n_estimators=150, max_depth=3, learning_rate=0.01, score=0.711538 -   3.2s\n",
      "[CV] n_estimators=250, max_depth=3, learning_rate=0.01 ...............\n",
      "[CV]  n_estimators=150, max_depth=3, learning_rate=0.01, score=0.695652 -   3.8s\n",
      "[CV] n_estimators=250, max_depth=3, learning_rate=0.01 ...............\n"
     ]
    },
    {
     "name": "stderr",
     "output_type": "stream",
     "text": [
      "[Parallel(n_jobs=4)]: Done  10 tasks      | elapsed:    8.0s\n"
     ]
    },
    {
     "name": "stdout",
     "output_type": "stream",
     "text": [
      "[CV]  n_estimators=250, max_depth=3, learning_rate=0.01, score=0.707547 -   6.6s\n",
      "[CV] n_estimators=250, max_depth=3, learning_rate=0.01 ...............\n",
      "[CV]  n_estimators=250, max_depth=3, learning_rate=0.01, score=0.708134 -   6.6s\n",
      "[CV] n_estimators=350, max_depth=3, learning_rate=0.01 ...............\n",
      "[CV]  n_estimators=250, max_depth=3, learning_rate=0.01, score=0.706731 -   6.3s\n",
      "[CV] n_estimators=350, max_depth=3, learning_rate=0.01 ...............\n",
      "[CV]  n_estimators=250, max_depth=3, learning_rate=0.01, score=0.711538 -   5.0s\n",
      "[CV] n_estimators=350, max_depth=3, learning_rate=0.01 ...............\n",
      "[CV]  n_estimators=250, max_depth=3, learning_rate=0.01, score=0.700483 -   3.8s\n",
      "[CV] n_estimators=350, max_depth=3, learning_rate=0.01 ...............\n",
      "[CV]  n_estimators=350, max_depth=3, learning_rate=0.01, score=0.721698 -   5.1s\n",
      "[CV] n_estimators=350, max_depth=3, learning_rate=0.01 ...............\n",
      "[CV]  n_estimators=350, max_depth=3, learning_rate=0.01, score=0.708134 -   5.1s\n",
      "[CV] n_estimators=450, max_depth=3, learning_rate=0.01 ...............\n"
     ]
    },
    {
     "name": "stderr",
     "output_type": "stream",
     "text": [
      "[Parallel(n_jobs=4)]: Done  17 tasks      | elapsed:   16.7s\n"
     ]
    },
    {
     "name": "stdout",
     "output_type": "stream",
     "text": [
      "[CV]  n_estimators=350, max_depth=3, learning_rate=0.01, score=0.711538 -   5.2s\n",
      "[CV] n_estimators=450, max_depth=3, learning_rate=0.01 ...............\n",
      "[CV]  n_estimators=350, max_depth=3, learning_rate=0.01, score=0.721154 -   5.2s\n",
      "[CV] n_estimators=450, max_depth=3, learning_rate=0.01 ...............\n",
      "[CV]  n_estimators=350, max_depth=3, learning_rate=0.01, score=0.705314 -   5.1s\n",
      "[CV] n_estimators=450, max_depth=3, learning_rate=0.01 ...............\n",
      "[CV]  n_estimators=450, max_depth=3, learning_rate=0.01, score=0.726415 -   6.6s\n",
      "[CV] n_estimators=450, max_depth=3, learning_rate=0.01 ...............\n",
      "[CV]  n_estimators=450, max_depth=3, learning_rate=0.01, score=0.708134 -   6.6s\n",
      "[CV] n_estimators=50, max_depth=4, learning_rate=0.01 ................\n",
      "[CV]  n_estimators=50, max_depth=4, learning_rate=0.01, score=0.726415 -   0.9s\n",
      "[CV] n_estimators=50, max_depth=4, learning_rate=0.01 ................\n",
      "[CV]  n_estimators=450, max_depth=3, learning_rate=0.01, score=0.711538 -   6.6s\n",
      "[CV] n_estimators=50, max_depth=4, learning_rate=0.01 ................\n"
     ]
    },
    {
     "name": "stderr",
     "output_type": "stream",
     "text": [
      "[Parallel(n_jobs=4)]: Done  24 tasks      | elapsed:   26.4s\n"
     ]
    },
    {
     "name": "stdout",
     "output_type": "stream",
     "text": [
      "[CV]  n_estimators=50, max_depth=4, learning_rate=0.01, score=0.679426 -   1.0s\n",
      "[CV] n_estimators=50, max_depth=4, learning_rate=0.01 ................\n",
      "[CV]  n_estimators=50, max_depth=4, learning_rate=0.01, score=0.721154 -   0.9s\n",
      "[CV] n_estimators=50, max_depth=4, learning_rate=0.01 ................\n",
      "[CV]  n_estimators=450, max_depth=3, learning_rate=0.01, score=0.721154 -   6.6s\n",
      "[CV] n_estimators=150, max_depth=4, learning_rate=0.01 ...............\n",
      "[CV]  n_estimators=50, max_depth=4, learning_rate=0.01, score=0.697115 -   1.0s\n",
      "[CV] n_estimators=150, max_depth=4, learning_rate=0.01 ...............\n",
      "[CV]  n_estimators=50, max_depth=4, learning_rate=0.01, score=0.700483 -   0.9s\n",
      "[CV] n_estimators=150, max_depth=4, learning_rate=0.01 ...............\n",
      "[CV]  n_estimators=450, max_depth=3, learning_rate=0.01, score=0.710145 -   6.6s\n",
      "[CV] n_estimators=150, max_depth=4, learning_rate=0.01 ...............\n",
      "[CV]  n_estimators=150, max_depth=4, learning_rate=0.01, score=0.735849 -   2.8s\n",
      "[CV] n_estimators=150, max_depth=4, learning_rate=0.01 ...............\n",
      "[CV]  n_estimators=150, max_depth=4, learning_rate=0.01, score=0.688995 -   2.8s\n",
      "[CV] n_estimators=250, max_depth=4, learning_rate=0.01 ...............\n",
      "[CV]  n_estimators=150, max_depth=4, learning_rate=0.01, score=0.721154 -   2.8s\n",
      "[CV] n_estimators=250, max_depth=4, learning_rate=0.01 ...............\n"
     ]
    },
    {
     "name": "stderr",
     "output_type": "stream",
     "text": [
      "[Parallel(n_jobs=4)]: Done  33 tasks      | elapsed:   31.0s\n"
     ]
    },
    {
     "name": "stdout",
     "output_type": "stream",
     "text": [
      "[CV]  n_estimators=150, max_depth=4, learning_rate=0.01, score=0.711538 -   2.8s\n",
      "[CV] n_estimators=250, max_depth=4, learning_rate=0.01 ...............\n",
      "[CV]  n_estimators=150, max_depth=4, learning_rate=0.01, score=0.695652 -   2.8s\n",
      "[CV] n_estimators=250, max_depth=4, learning_rate=0.01 ...............\n",
      "[CV]  n_estimators=250, max_depth=4, learning_rate=0.01, score=0.745283 -   4.7s\n",
      "[CV] n_estimators=250, max_depth=4, learning_rate=0.01 ...............\n",
      "[CV]  n_estimators=250, max_depth=4, learning_rate=0.01, score=0.712919 -   4.8s\n",
      "[CV] n_estimators=350, max_depth=4, learning_rate=0.01 ...............\n",
      "[CV]  n_estimators=250, max_depth=4, learning_rate=0.01, score=0.725962 -   5.0s\n",
      "[CV] n_estimators=350, max_depth=4, learning_rate=0.01 ...............\n",
      "[CV]  n_estimators=250, max_depth=4, learning_rate=0.01, score=0.716346 -   5.0s\n",
      "[CV] n_estimators=350, max_depth=4, learning_rate=0.01 ...............\n",
      "[CV]  n_estimators=250, max_depth=4, learning_rate=0.01, score=0.705314 -   4.8s\n",
      "[CV] n_estimators=350, max_depth=4, learning_rate=0.01 ...............\n",
      "[CV]  n_estimators=350, max_depth=4, learning_rate=0.01, score=0.745283 -   6.5s\n",
      "[CV] n_estimators=350, max_depth=4, learning_rate=0.01 ...............\n",
      "[CV]  n_estimators=350, max_depth=4, learning_rate=0.01, score=0.727273 -   6.5s\n",
      "[CV] n_estimators=450, max_depth=4, learning_rate=0.01 ...............\n"
     ]
    },
    {
     "name": "stderr",
     "output_type": "stream",
     "text": [
      "[Parallel(n_jobs=4)]: Done  42 tasks      | elapsed:   44.3s\n"
     ]
    },
    {
     "name": "stdout",
     "output_type": "stream",
     "text": [
      "[CV]  n_estimators=350, max_depth=4, learning_rate=0.01, score=0.735577 -   6.5s\n",
      "[CV] n_estimators=450, max_depth=4, learning_rate=0.01 ...............\n",
      "[CV]  n_estimators=350, max_depth=4, learning_rate=0.01, score=0.721154 -   6.4s\n",
      "[CV] n_estimators=450, max_depth=4, learning_rate=0.01 ...............\n",
      "[CV]  n_estimators=350, max_depth=4, learning_rate=0.01, score=0.710145 -   6.3s\n",
      "[CV] n_estimators=450, max_depth=4, learning_rate=0.01 ...............\n",
      "[CV]  n_estimators=450, max_depth=4, learning_rate=0.01, score=0.754717 -   8.2s\n",
      "[CV] n_estimators=450, max_depth=4, learning_rate=0.01 ...............\n",
      "[CV]  n_estimators=450, max_depth=4, learning_rate=0.01, score=0.746411 -   8.2s\n",
      "[CV] n_estimators=50, max_depth=5, learning_rate=0.01 ................\n",
      "[CV]  n_estimators=50, max_depth=5, learning_rate=0.01, score=0.745283 -   1.1s\n",
      "[CV] n_estimators=50, max_depth=5, learning_rate=0.01 ................\n",
      "[CV]  n_estimators=450, max_depth=4, learning_rate=0.01, score=0.740385 -   8.2s\n",
      "[CV] n_estimators=50, max_depth=5, learning_rate=0.01 ................\n",
      "[CV]  n_estimators=50, max_depth=5, learning_rate=0.01, score=0.674641 -   1.1s\n",
      "[CV] n_estimators=50, max_depth=5, learning_rate=0.01 ................\n",
      "[CV]  n_estimators=50, max_depth=5, learning_rate=0.01, score=0.735577 -   1.2s\n",
      "[CV] n_estimators=50, max_depth=5, learning_rate=0.01 ................\n",
      "[CV]  n_estimators=50, max_depth=5, learning_rate=0.01, score=0.711538 -   1.2s\n",
      "[CV] n_estimators=150, max_depth=5, learning_rate=0.01 ...............\n",
      "[CV]  n_estimators=50, max_depth=5, learning_rate=0.01, score=0.700483 -   1.1s\n",
      "[CV]  n_estimators=450, max_depth=4, learning_rate=0.01, score=0.725962 -   8.4s\n",
      "[CV] n_estimators=150, max_depth=5, learning_rate=0.01 ...............\n",
      "[CV] n_estimators=150, max_depth=5, learning_rate=0.01 ...............\n"
     ]
    },
    {
     "name": "stderr",
     "output_type": "stream",
     "text": [
      "[Parallel(n_jobs=4)]: Done  53 tasks      | elapsed:   57.2s\n"
     ]
    },
    {
     "name": "stdout",
     "output_type": "stream",
     "text": [
      "[CV]  n_estimators=150, max_depth=5, learning_rate=0.01, score=0.759434 -   3.3s\n",
      "[CV] n_estimators=150, max_depth=5, learning_rate=0.01 ...............\n",
      "[CV]  n_estimators=150, max_depth=5, learning_rate=0.01, score=0.703349 -   3.3s\n",
      "[CV] n_estimators=150, max_depth=5, learning_rate=0.01 ...............\n",
      "[CV]  n_estimators=150, max_depth=5, learning_rate=0.01, score=0.725962 -   3.3s\n",
      "[CV] n_estimators=250, max_depth=5, learning_rate=0.01 ...............\n",
      "[CV]  n_estimators=450, max_depth=4, learning_rate=0.01, score=0.700483 -   8.4s\n",
      "[CV] n_estimators=250, max_depth=5, learning_rate=0.01 ...............\n",
      "[CV]  n_estimators=150, max_depth=5, learning_rate=0.01, score=0.706731 -   3.3s\n",
      "[CV] n_estimators=250, max_depth=5, learning_rate=0.01 ...............\n",
      "[CV]  n_estimators=150, max_depth=5, learning_rate=0.01, score=0.700483 -   3.4s\n",
      "[CV] n_estimators=250, max_depth=5, learning_rate=0.01 ...............\n",
      "[CV]  n_estimators=250, max_depth=5, learning_rate=0.01, score=0.778302 -   5.5s\n",
      "[CV] n_estimators=250, max_depth=5, learning_rate=0.01 ...............\n",
      "[CV]  n_estimators=250, max_depth=5, learning_rate=0.01, score=0.732057 -   5.5s\n",
      "[CV] n_estimators=350, max_depth=5, learning_rate=0.01 ...............\n",
      "[CV]  n_estimators=250, max_depth=5, learning_rate=0.01, score=0.750000 -   5.5s\n",
      "[CV] n_estimators=350, max_depth=5, learning_rate=0.01 ...............\n",
      "[CV]  n_estimators=250, max_depth=5, learning_rate=0.01, score=0.716346 -   5.5s\n",
      "[CV] n_estimators=350, max_depth=5, learning_rate=0.01 ...............\n"
     ]
    },
    {
     "name": "stderr",
     "output_type": "stream",
     "text": [
      "[Parallel(n_jobs=4)]: Done  64 tasks      | elapsed:  1.2min\n"
     ]
    },
    {
     "name": "stdout",
     "output_type": "stream",
     "text": [
      "[CV]  n_estimators=250, max_depth=5, learning_rate=0.01, score=0.671498 -   5.5s\n",
      "[CV] n_estimators=350, max_depth=5, learning_rate=0.01 ...............\n",
      "[CV]  n_estimators=350, max_depth=5, learning_rate=0.01, score=0.778302 -   7.8s\n",
      "[CV] n_estimators=350, max_depth=5, learning_rate=0.01 ...............\n",
      "[CV]  n_estimators=350, max_depth=5, learning_rate=0.01, score=0.741627 -   7.7s\n",
      "[CV] n_estimators=450, max_depth=5, learning_rate=0.01 ...............\n",
      "[CV]  n_estimators=350, max_depth=5, learning_rate=0.01, score=0.774038 -   7.8s\n",
      "[CV] n_estimators=450, max_depth=5, learning_rate=0.01 ...............\n",
      "[CV]  n_estimators=350, max_depth=5, learning_rate=0.01, score=0.721154 -   7.7s\n",
      "[CV] n_estimators=450, max_depth=5, learning_rate=0.01 ...............\n",
      "[CV]  n_estimators=350, max_depth=5, learning_rate=0.01, score=0.681159 -   7.7s\n",
      "[CV] n_estimators=450, max_depth=5, learning_rate=0.01 ...............\n",
      "[CV]  n_estimators=450, max_depth=5, learning_rate=0.01, score=0.792453 -   9.9s\n",
      "[CV] n_estimators=450, max_depth=5, learning_rate=0.01 ...............\n",
      "[CV]  n_estimators=450, max_depth=5, learning_rate=0.01, score=0.770335 -   9.9s\n",
      "[CV] n_estimators=50, max_depth=6, learning_rate=0.01 ................\n",
      "[CV]  n_estimators=50, max_depth=6, learning_rate=0.01, score=0.764151 -   1.2s\n",
      "[CV] n_estimators=50, max_depth=6, learning_rate=0.01 ................\n",
      "[CV]  n_estimators=450, max_depth=5, learning_rate=0.01, score=0.783654 -  10.0s\n",
      "[CV] n_estimators=50, max_depth=6, learning_rate=0.01 ................\n",
      "[CV]  n_estimators=50, max_depth=6, learning_rate=0.01, score=0.688995 -   1.3s\n",
      "[CV] n_estimators=50, max_depth=6, learning_rate=0.01 ................\n",
      "[CV]  n_estimators=50, max_depth=6, learning_rate=0.01, score=0.730769 -   1.3s\n",
      "[CV] n_estimators=50, max_depth=6, learning_rate=0.01 ................\n",
      "[CV]  n_estimators=50, max_depth=6, learning_rate=0.01, score=0.730769 -   1.3s\n",
      "[CV] n_estimators=150, max_depth=6, learning_rate=0.01 ...............\n"
     ]
    },
    {
     "name": "stderr",
     "output_type": "stream",
     "text": [
      "[Parallel(n_jobs=4)]: Done  77 tasks      | elapsed:  1.5min\n"
     ]
    },
    {
     "name": "stdout",
     "output_type": "stream",
     "text": [
      "[CV]  n_estimators=50, max_depth=6, learning_rate=0.01, score=0.661836 -   1.3s\n",
      "[CV] n_estimators=150, max_depth=6, learning_rate=0.01 ...............\n",
      "[CV]  n_estimators=450, max_depth=5, learning_rate=0.01, score=0.750000 -  10.0s\n",
      "[CV] n_estimators=150, max_depth=6, learning_rate=0.01 ...............\n",
      "[CV]  n_estimators=150, max_depth=6, learning_rate=0.01, score=0.797170 -   3.9s\n",
      "[CV] n_estimators=150, max_depth=6, learning_rate=0.01 ...............\n",
      "[CV]  n_estimators=150, max_depth=6, learning_rate=0.01, score=0.717703 -   3.8s\n",
      "[CV] n_estimators=150, max_depth=6, learning_rate=0.01 ...............\n",
      "[CV]  n_estimators=150, max_depth=6, learning_rate=0.01, score=0.769231 -   3.9s\n",
      "[CV] n_estimators=250, max_depth=6, learning_rate=0.01 ...............\n",
      "[CV]  n_estimators=450, max_depth=5, learning_rate=0.01, score=0.690821 -  10.1s\n",
      "[CV] n_estimators=250, max_depth=6, learning_rate=0.01 ...............\n",
      "[CV]  n_estimators=150, max_depth=6, learning_rate=0.01, score=0.735577 -   3.9s\n",
      "[CV] n_estimators=250, max_depth=6, learning_rate=0.01 ...............\n",
      "[CV]  n_estimators=150, max_depth=6, learning_rate=0.01, score=0.681159 -   3.9s\n",
      "[CV] n_estimators=250, max_depth=6, learning_rate=0.01 ...............\n",
      "[CV]  n_estimators=250, max_depth=6, learning_rate=0.01, score=0.806604 -   6.4s\n",
      "[CV] n_estimators=250, max_depth=6, learning_rate=0.01 ...............\n",
      "[CV]  n_estimators=250, max_depth=6, learning_rate=0.01, score=0.751196 -   6.5s\n",
      "[CV] n_estimators=350, max_depth=6, learning_rate=0.01 ...............\n",
      "[CV]  n_estimators=250, max_depth=6, learning_rate=0.01, score=0.783654 -   6.5s\n",
      "[CV] n_estimators=350, max_depth=6, learning_rate=0.01 ...............\n",
      "[CV]  n_estimators=250, max_depth=6, learning_rate=0.01, score=0.750000 -   6.4s\n",
      "[CV] n_estimators=350, max_depth=6, learning_rate=0.01 ...............\n",
      "[CV]  n_estimators=250, max_depth=6, learning_rate=0.01, score=0.666667 -   6.4s\n",
      "[CV] n_estimators=350, max_depth=6, learning_rate=0.01 ...............\n"
     ]
    },
    {
     "name": "stderr",
     "output_type": "stream",
     "text": [
      "[Parallel(n_jobs=4)]: Done  90 tasks      | elapsed:  1.8min\n"
     ]
    },
    {
     "name": "stdout",
     "output_type": "stream",
     "text": [
      "[CV]  n_estimators=350, max_depth=6, learning_rate=0.01, score=0.830189 -   9.1s\n",
      "[CV] n_estimators=350, max_depth=6, learning_rate=0.01 ...............\n",
      "[CV]  n_estimators=350, max_depth=6, learning_rate=0.01, score=0.760766 -   9.0s\n",
      "[CV] n_estimators=450, max_depth=6, learning_rate=0.01 ...............\n",
      "[CV]  n_estimators=350, max_depth=6, learning_rate=0.01, score=0.788462 -   9.2s\n",
      "[CV] n_estimators=450, max_depth=6, learning_rate=0.01 ...............\n",
      "[CV]  n_estimators=350, max_depth=6, learning_rate=0.01, score=0.774038 -   9.1s\n",
      "[CV] n_estimators=450, max_depth=6, learning_rate=0.01 ...............\n",
      "[CV]  n_estimators=350, max_depth=6, learning_rate=0.01, score=0.681159 -   9.2s\n",
      "[CV] n_estimators=450, max_depth=6, learning_rate=0.01 ...............\n",
      "[CV]  n_estimators=450, max_depth=6, learning_rate=0.01, score=0.844340 -  11.6s\n",
      "[CV] n_estimators=450, max_depth=6, learning_rate=0.01 ...............\n",
      "[CV]  n_estimators=450, max_depth=6, learning_rate=0.01, score=0.770335 -  11.8s\n",
      "[CV] n_estimators=50, max_depth=7, learning_rate=0.01 ................\n",
      "[CV]  n_estimators=50, max_depth=7, learning_rate=0.01, score=0.783019 -   1.5s\n",
      "[CV] n_estimators=50, max_depth=7, learning_rate=0.01 ................\n",
      "[CV]  n_estimators=450, max_depth=6, learning_rate=0.01, score=0.798077 -  11.8s\n",
      "[CV] n_estimators=50, max_depth=7, learning_rate=0.01 ................\n",
      "[CV]  n_estimators=50, max_depth=7, learning_rate=0.01, score=0.708134 -   1.4s\n",
      "[CV] n_estimators=50, max_depth=7, learning_rate=0.01 ................\n",
      "[CV]  n_estimators=50, max_depth=7, learning_rate=0.01, score=0.750000 -   1.4s\n",
      "[CV] n_estimators=50, max_depth=7, learning_rate=0.01 ................\n",
      "[CV]  n_estimators=50, max_depth=7, learning_rate=0.01, score=0.716346 -   1.5s\n",
      "[CV] n_estimators=150, max_depth=7, learning_rate=0.01 ...............\n",
      "[CV]  n_estimators=50, max_depth=7, learning_rate=0.01, score=0.666667 -   1.5s\n",
      "[CV] n_estimators=150, max_depth=7, learning_rate=0.01 ...............\n",
      "[CV]  n_estimators=450, max_depth=6, learning_rate=0.01, score=0.783654 -  11.8s\n",
      "[CV] n_estimators=150, max_depth=7, learning_rate=0.01 ...............\n",
      "[CV]  n_estimators=150, max_depth=7, learning_rate=0.01, score=0.816038 -   4.4s\n",
      "[CV] n_estimators=150, max_depth=7, learning_rate=0.01 ...............\n"
     ]
    },
    {
     "name": "stderr",
     "output_type": "stream",
     "text": [
      "[Parallel(n_jobs=4)]: Done 105 tasks      | elapsed:  2.3min\n"
     ]
    },
    {
     "name": "stdout",
     "output_type": "stream",
     "text": [
      "[CV]  n_estimators=150, max_depth=7, learning_rate=0.01, score=0.727273 -   4.5s\n",
      "[CV] n_estimators=150, max_depth=7, learning_rate=0.01 ...............\n",
      "[CV]  n_estimators=150, max_depth=7, learning_rate=0.01, score=0.769231 -   4.4s\n",
      "[CV] n_estimators=250, max_depth=7, learning_rate=0.01 ...............\n",
      "[CV]  n_estimators=450, max_depth=6, learning_rate=0.01, score=0.676329 -  11.7s\n",
      "[CV] n_estimators=250, max_depth=7, learning_rate=0.01 ...............\n",
      "[CV]  n_estimators=150, max_depth=7, learning_rate=0.01, score=0.735577 -   4.5s\n",
      "[CV] n_estimators=250, max_depth=7, learning_rate=0.01 ...............\n",
      "[CV]  n_estimators=150, max_depth=7, learning_rate=0.01, score=0.671498 -   4.4s\n",
      "[CV] n_estimators=250, max_depth=7, learning_rate=0.01 ...............\n",
      "[CV]  n_estimators=250, max_depth=7, learning_rate=0.01, score=0.834906 -   7.2s\n",
      "[CV] n_estimators=250, max_depth=7, learning_rate=0.01 ...............\n",
      "[CV]  n_estimators=250, max_depth=7, learning_rate=0.01, score=0.765550 -   7.5s\n",
      "[CV] n_estimators=350, max_depth=7, learning_rate=0.01 ...............\n",
      "[CV]  n_estimators=250, max_depth=7, learning_rate=0.01, score=0.798077 -   7.3s\n",
      "[CV] n_estimators=350, max_depth=7, learning_rate=0.01 ...............\n",
      "[CV]  n_estimators=250, max_depth=7, learning_rate=0.01, score=0.750000 -   7.3s\n",
      "[CV] n_estimators=350, max_depth=7, learning_rate=0.01 ...............\n",
      "[CV]  n_estimators=250, max_depth=7, learning_rate=0.01, score=0.671498 -   7.3s\n",
      "[CV] n_estimators=350, max_depth=7, learning_rate=0.01 ...............\n",
      "[CV]  n_estimators=350, max_depth=7, learning_rate=0.01, score=0.849057 -  10.3s\n",
      "[CV] n_estimators=350, max_depth=7, learning_rate=0.01 ...............\n",
      "[CV]  n_estimators=350, max_depth=7, learning_rate=0.01, score=0.799043 -  10.3s\n",
      "[CV] n_estimators=450, max_depth=7, learning_rate=0.01 ...............\n",
      "[CV]  n_estimators=350, max_depth=7, learning_rate=0.01, score=0.807692 -  10.4s\n",
      "[CV] n_estimators=450, max_depth=7, learning_rate=0.01 ...............\n",
      "[CV]  n_estimators=350, max_depth=7, learning_rate=0.01, score=0.774038 -  10.3s\n",
      "[CV] n_estimators=450, max_depth=7, learning_rate=0.01 ...............\n",
      "[CV]  n_estimators=350, max_depth=7, learning_rate=0.01, score=0.676329 -  10.1s\n",
      "[CV] n_estimators=450, max_depth=7, learning_rate=0.01 ...............\n"
     ]
    },
    {
     "name": "stderr",
     "output_type": "stream",
     "text": [
      "[Parallel(n_jobs=4)]: Done 120 tasks      | elapsed:  2.8min\n"
     ]
    },
    {
     "name": "stdout",
     "output_type": "stream",
     "text": [
      "[CV]  n_estimators=450, max_depth=7, learning_rate=0.01, score=0.853774 -  13.2s\n",
      "[CV] n_estimators=450, max_depth=7, learning_rate=0.01 ...............\n",
      "[CV]  n_estimators=450, max_depth=7, learning_rate=0.01, score=0.813397 -  13.2s\n",
      "[CV] n_estimators=50, max_depth=8, learning_rate=0.01 ................\n",
      "[CV]  n_estimators=50, max_depth=8, learning_rate=0.01, score=0.792453 -   1.6s\n",
      "[CV] n_estimators=50, max_depth=8, learning_rate=0.01 ................\n",
      "[CV]  n_estimators=450, max_depth=7, learning_rate=0.01, score=0.812500 -  13.4s\n",
      "[CV] n_estimators=50, max_depth=8, learning_rate=0.01 ................\n",
      "[CV]  n_estimators=50, max_depth=8, learning_rate=0.01, score=0.717703 -   1.6s\n",
      "[CV] n_estimators=50, max_depth=8, learning_rate=0.01 ................\n",
      "[CV]  n_estimators=50, max_depth=8, learning_rate=0.01, score=0.750000 -   1.6s\n",
      "[CV] n_estimators=50, max_depth=8, learning_rate=0.01 ................\n",
      "[CV]  n_estimators=50, max_depth=8, learning_rate=0.01, score=0.725962 -   1.6s\n",
      "[CV] n_estimators=150, max_depth=8, learning_rate=0.01 ...............\n",
      "[CV]  n_estimators=450, max_depth=7, learning_rate=0.01, score=0.783654 -  13.2s\n",
      "[CV] n_estimators=150, max_depth=8, learning_rate=0.01 ...............\n",
      "[CV]  n_estimators=50, max_depth=8, learning_rate=0.01, score=0.666667 -   1.6s\n",
      "[CV] n_estimators=150, max_depth=8, learning_rate=0.01 ...............\n",
      "[CV]  n_estimators=150, max_depth=8, learning_rate=0.01, score=0.825472 -   4.8s\n",
      "[CV] n_estimators=150, max_depth=8, learning_rate=0.01 ...............\n",
      "[CV]  n_estimators=150, max_depth=8, learning_rate=0.01, score=0.783654 -   4.7s\n",
      "[CV] n_estimators=150, max_depth=8, learning_rate=0.01 ...............\n",
      "[CV]  n_estimators=150, max_depth=8, learning_rate=0.01, score=0.760766 -   4.9s\n",
      "[CV] n_estimators=250, max_depth=8, learning_rate=0.01 ...............\n",
      "[CV]  n_estimators=450, max_depth=7, learning_rate=0.01, score=0.685990 -  13.2s\n",
      "[CV] n_estimators=250, max_depth=8, learning_rate=0.01 ...............\n",
      "[CV]  n_estimators=150, max_depth=8, learning_rate=0.01, score=0.750000 -   4.8s\n",
      "[CV] n_estimators=250, max_depth=8, learning_rate=0.01 ...............\n",
      "[CV]  n_estimators=150, max_depth=8, learning_rate=0.01, score=0.666667 -   4.8s\n",
      "[CV] n_estimators=250, max_depth=8, learning_rate=0.01 ...............\n",
      "[CV]  n_estimators=250, max_depth=8, learning_rate=0.01, score=0.849057 -   8.1s\n",
      "[CV] n_estimators=250, max_depth=8, learning_rate=0.01 ...............\n",
      "[CV]  n_estimators=250, max_depth=8, learning_rate=0.01, score=0.803828 -   8.0s\n",
      "[CV] n_estimators=350, max_depth=8, learning_rate=0.01 ...............\n"
     ]
    },
    {
     "name": "stderr",
     "output_type": "stream",
     "text": [
      "[Parallel(n_jobs=4)]: Done 137 tasks      | elapsed:  3.2min\n"
     ]
    },
    {
     "name": "stdout",
     "output_type": "stream",
     "text": [
      "[CV]  n_estimators=250, max_depth=8, learning_rate=0.01, score=0.793269 -   8.1s\n",
      "[CV] n_estimators=350, max_depth=8, learning_rate=0.01 ...............\n",
      "[CV]  n_estimators=250, max_depth=8, learning_rate=0.01, score=0.754808 -   8.0s\n",
      "[CV] n_estimators=350, max_depth=8, learning_rate=0.01 ...............\n",
      "[CV]  n_estimators=250, max_depth=8, learning_rate=0.01, score=0.676329 -   8.1s\n",
      "[CV] n_estimators=350, max_depth=8, learning_rate=0.01 ...............\n",
      "[CV]  n_estimators=350, max_depth=8, learning_rate=0.01, score=0.863208 -  11.2s\n",
      "[CV] n_estimators=350, max_depth=8, learning_rate=0.01 ...............\n",
      "[CV]  n_estimators=350, max_depth=8, learning_rate=0.01, score=0.837321 -  11.2s\n",
      "[CV] n_estimators=450, max_depth=8, learning_rate=0.01 ...............\n",
      "[CV]  n_estimators=350, max_depth=8, learning_rate=0.01, score=0.798077 -  11.3s\n",
      "[CV] n_estimators=450, max_depth=8, learning_rate=0.01 ...............\n",
      "[CV]  n_estimators=350, max_depth=8, learning_rate=0.01, score=0.788462 -  11.1s\n",
      "[CV] n_estimators=450, max_depth=8, learning_rate=0.01 ...............\n",
      "[CV]  n_estimators=350, max_depth=8, learning_rate=0.01, score=0.666667 -  11.2s\n",
      "[CV] n_estimators=450, max_depth=8, learning_rate=0.01 ...............\n",
      "[CV]  n_estimators=450, max_depth=8, learning_rate=0.01, score=0.867925 -  14.6s\n",
      "[CV] n_estimators=450, max_depth=8, learning_rate=0.01 ...............\n",
      "[CV]  n_estimators=450, max_depth=8, learning_rate=0.01, score=0.856459 -  14.4s\n",
      "[CV] n_estimators=50, max_depth=9, learning_rate=0.01 ................\n",
      "[CV]  n_estimators=50, max_depth=9, learning_rate=0.01, score=0.783019 -   1.7s\n",
      "[CV] n_estimators=50, max_depth=9, learning_rate=0.01 ................\n",
      "[CV]  n_estimators=450, max_depth=8, learning_rate=0.01, score=0.822115 -  14.6s\n",
      "[CV] n_estimators=50, max_depth=9, learning_rate=0.01 ................\n",
      "[CV]  n_estimators=50, max_depth=9, learning_rate=0.01, score=0.741627 -   1.7s\n",
      "[CV] n_estimators=50, max_depth=9, learning_rate=0.01 ................\n",
      "[CV]  n_estimators=50, max_depth=9, learning_rate=0.01, score=0.759615 -   1.7s\n",
      "[CV] n_estimators=50, max_depth=9, learning_rate=0.01 ................\n",
      "[CV]  n_estimators=50, max_depth=9, learning_rate=0.01, score=0.740385 -   1.8s\n",
      "[CV] n_estimators=150, max_depth=9, learning_rate=0.01 ...............\n",
      "[CV]  n_estimators=50, max_depth=9, learning_rate=0.01, score=0.657005 -   1.7s\n",
      "[CV] n_estimators=150, max_depth=9, learning_rate=0.01 ...............\n",
      "[CV]  n_estimators=450, max_depth=8, learning_rate=0.01, score=0.793269 -  14.5s\n",
      "[CV] n_estimators=150, max_depth=9, learning_rate=0.01 ...............\n"
     ]
    },
    {
     "name": "stderr",
     "output_type": "stream",
     "text": [
      "[Parallel(n_jobs=4)]: Done 154 tasks      | elapsed:  3.8min\n"
     ]
    },
    {
     "name": "stdout",
     "output_type": "stream",
     "text": [
      "[CV]  n_estimators=150, max_depth=9, learning_rate=0.01, score=0.834906 -   5.1s\n",
      "[CV] n_estimators=150, max_depth=9, learning_rate=0.01 ...............\n",
      "[CV]  n_estimators=150, max_depth=9, learning_rate=0.01, score=0.765550 -   5.2s\n",
      "[CV] n_estimators=150, max_depth=9, learning_rate=0.01 ...............\n",
      "[CV]  n_estimators=150, max_depth=9, learning_rate=0.01, score=0.788462 -   5.2s\n",
      "[CV] n_estimators=250, max_depth=9, learning_rate=0.01 ...............\n",
      "[CV]  n_estimators=450, max_depth=8, learning_rate=0.01, score=0.681159 -  14.3s\n",
      "[CV] n_estimators=250, max_depth=9, learning_rate=0.01 ...............\n",
      "[CV]  n_estimators=150, max_depth=9, learning_rate=0.01, score=0.759615 -   5.1s\n",
      "[CV] n_estimators=250, max_depth=9, learning_rate=0.01 ...............\n",
      "[CV]  n_estimators=150, max_depth=9, learning_rate=0.01, score=0.666667 -   5.2s\n",
      "[CV] n_estimators=250, max_depth=9, learning_rate=0.01 ...............\n",
      "[CV]  n_estimators=250, max_depth=9, learning_rate=0.01, score=0.867925 -   8.7s\n",
      "[CV] n_estimators=250, max_depth=9, learning_rate=0.01 ...............\n",
      "[CV]  n_estimators=250, max_depth=9, learning_rate=0.01, score=0.803828 -   8.7s\n",
      "[CV] n_estimators=350, max_depth=9, learning_rate=0.01 ...............\n",
      "[CV]  n_estimators=250, max_depth=9, learning_rate=0.01, score=0.798077 -   8.8s\n",
      "[CV] n_estimators=350, max_depth=9, learning_rate=0.01 ...............\n",
      "[CV]  n_estimators=250, max_depth=9, learning_rate=0.01, score=0.769231 -   8.6s\n",
      "[CV] n_estimators=350, max_depth=9, learning_rate=0.01 ...............\n",
      "[CV]  n_estimators=250, max_depth=9, learning_rate=0.01, score=0.671498 -   8.5s\n",
      "[CV] n_estimators=350, max_depth=9, learning_rate=0.01 ...............\n",
      "[CV]  n_estimators=350, max_depth=9, learning_rate=0.01, score=0.882075 -  12.3s\n",
      "[CV] n_estimators=350, max_depth=9, learning_rate=0.01 ...............\n",
      "[CV]  n_estimators=350, max_depth=9, learning_rate=0.01, score=0.827751 -  12.2s\n",
      "[CV] n_estimators=450, max_depth=9, learning_rate=0.01 ...............\n",
      "[CV]  n_estimators=350, max_depth=9, learning_rate=0.01, score=0.802885 -  12.3s\n",
      "[CV] n_estimators=450, max_depth=9, learning_rate=0.01 ...............\n",
      "[CV]  n_estimators=350, max_depth=9, learning_rate=0.01, score=0.774038 -  11.8s\n",
      "[CV] n_estimators=450, max_depth=9, learning_rate=0.01 ...............\n",
      "[CV]  n_estimators=350, max_depth=9, learning_rate=0.01, score=0.671498 -  12.0s\n",
      "[CV] n_estimators=450, max_depth=9, learning_rate=0.01 ...............\n",
      "[CV]  n_estimators=450, max_depth=9, learning_rate=0.01, score=0.882075 -  15.7s\n",
      "[CV] n_estimators=450, max_depth=9, learning_rate=0.01 ...............\n",
      "[CV]  n_estimators=450, max_depth=9, learning_rate=0.01, score=0.856459 -  15.4s\n",
      "[CV] n_estimators=50, max_depth=10, learning_rate=0.01 ...............\n",
      "[CV]  n_estimators=50, max_depth=10, learning_rate=0.01, score=0.792453 -   1.8s\n",
      "[CV] n_estimators=50, max_depth=10, learning_rate=0.01 ...............\n"
     ]
    },
    {
     "name": "stderr",
     "output_type": "stream",
     "text": [
      "[Parallel(n_jobs=4)]: Done 173 tasks      | elapsed:  4.6min\n"
     ]
    },
    {
     "name": "stdout",
     "output_type": "stream",
     "text": [
      "[CV]  n_estimators=50, max_depth=10, learning_rate=0.01, score=0.755981 -   1.8s\n",
      "[CV] n_estimators=50, max_depth=10, learning_rate=0.01 ...............\n",
      "[CV]  n_estimators=450, max_depth=9, learning_rate=0.01, score=0.822115 -  15.7s\n",
      "[CV] n_estimators=50, max_depth=10, learning_rate=0.01 ...............\n",
      "[CV]  n_estimators=50, max_depth=10, learning_rate=0.01, score=0.774038 -   1.8s\n",
      "[CV] n_estimators=50, max_depth=10, learning_rate=0.01 ...............\n",
      "[CV]  n_estimators=50, max_depth=10, learning_rate=0.01, score=0.745192 -   1.8s\n",
      "[CV] n_estimators=150, max_depth=10, learning_rate=0.01 ..............\n",
      "[CV]  n_estimators=50, max_depth=10, learning_rate=0.01, score=0.661836 -   1.7s\n",
      "[CV] n_estimators=150, max_depth=10, learning_rate=0.01 ..............\n",
      "[CV]  n_estimators=450, max_depth=9, learning_rate=0.01, score=0.778846 -  15.4s\n",
      "[CV] n_estimators=150, max_depth=10, learning_rate=0.01 ..............\n",
      "[CV]  n_estimators=150, max_depth=10, learning_rate=0.01, score=0.834906 -   5.4s\n",
      "[CV] n_estimators=150, max_depth=10, learning_rate=0.01 ..............\n",
      "[CV]  n_estimators=150, max_depth=10, learning_rate=0.01, score=0.770335 -   5.5s\n",
      "[CV] n_estimators=150, max_depth=10, learning_rate=0.01 ..............\n",
      "[CV]  n_estimators=150, max_depth=10, learning_rate=0.01, score=0.802885 -   5.5s\n",
      "[CV] n_estimators=250, max_depth=10, learning_rate=0.01 ..............\n",
      "[CV]  n_estimators=450, max_depth=9, learning_rate=0.01, score=0.695652 -  15.3s\n",
      "[CV] n_estimators=250, max_depth=10, learning_rate=0.01 ..............\n",
      "[CV]  n_estimators=150, max_depth=10, learning_rate=0.01, score=0.745192 -   5.5s\n",
      "[CV] n_estimators=250, max_depth=10, learning_rate=0.01 ..............\n",
      "[CV]  n_estimators=150, max_depth=10, learning_rate=0.01, score=0.676329 -   5.4s\n",
      "[CV] n_estimators=250, max_depth=10, learning_rate=0.01 ..............\n",
      "[CV]  n_estimators=250, max_depth=10, learning_rate=0.01, score=0.867925 -   9.2s\n",
      "[CV] n_estimators=250, max_depth=10, learning_rate=0.01 ..............\n",
      "[CV]  n_estimators=250, max_depth=10, learning_rate=0.01, score=0.808612 -   9.3s\n",
      "[CV] n_estimators=350, max_depth=10, learning_rate=0.01 ..............\n",
      "[CV]  n_estimators=250, max_depth=10, learning_rate=0.01, score=0.817308 -   9.4s\n",
      "[CV] n_estimators=350, max_depth=10, learning_rate=0.01 ..............\n",
      "[CV]  n_estimators=250, max_depth=10, learning_rate=0.01, score=0.764423 -   9.1s\n",
      "[CV] n_estimators=350, max_depth=10, learning_rate=0.01 ..............\n",
      "[CV]  n_estimators=250, max_depth=10, learning_rate=0.01, score=0.685990 -   9.1s\n",
      "[CV] n_estimators=350, max_depth=10, learning_rate=0.01 ..............\n",
      "[CV]  n_estimators=350, max_depth=10, learning_rate=0.01, score=0.877358 -  12.8s\n",
      "[CV] n_estimators=350, max_depth=10, learning_rate=0.01 ..............\n",
      "[CV]  n_estimators=350, max_depth=10, learning_rate=0.01, score=0.846890 -  12.9s\n",
      "[CV] n_estimators=450, max_depth=10, learning_rate=0.01 ..............\n"
     ]
    },
    {
     "name": "stderr",
     "output_type": "stream",
     "text": [
      "[Parallel(n_jobs=4)]: Done 192 tasks      | elapsed:  5.2min\n"
     ]
    },
    {
     "name": "stdout",
     "output_type": "stream",
     "text": [
      "[CV]  n_estimators=350, max_depth=10, learning_rate=0.01, score=0.826923 -  13.0s\n",
      "[CV] n_estimators=450, max_depth=10, learning_rate=0.01 ..............\n",
      "[CV]  n_estimators=350, max_depth=10, learning_rate=0.01, score=0.778846 -  12.7s\n",
      "[CV] n_estimators=450, max_depth=10, learning_rate=0.01 ..............\n",
      "[CV]  n_estimators=350, max_depth=10, learning_rate=0.01, score=0.685990 -  12.5s\n",
      "[CV] n_estimators=450, max_depth=10, learning_rate=0.01 ..............\n",
      "[CV]  n_estimators=450, max_depth=10, learning_rate=0.01, score=0.891509 -  16.5s\n",
      "[CV] n_estimators=450, max_depth=10, learning_rate=0.01 ..............\n",
      "[CV]  n_estimators=450, max_depth=10, learning_rate=0.01, score=0.856459 -  16.4s\n",
      "[CV] n_estimators=50, max_depth=3, learning_rate=0.0316227766017 .....\n",
      "[CV]  n_estimators=50, max_depth=3, learning_rate=0.0316227766017, score=0.707547 -   0.7s\n",
      "[CV] n_estimators=50, max_depth=3, learning_rate=0.0316227766017 .....\n",
      "[CV]  n_estimators=50, max_depth=3, learning_rate=0.0316227766017, score=0.693780 -   0.8s\n",
      "[CV] n_estimators=50, max_depth=3, learning_rate=0.0316227766017 .....\n",
      "[CV]  n_estimators=50, max_depth=3, learning_rate=0.0316227766017, score=0.697115 -   0.7s\n",
      "[CV] n_estimators=50, max_depth=3, learning_rate=0.0316227766017 .....\n",
      "[CV]  n_estimators=50, max_depth=3, learning_rate=0.0316227766017, score=0.711538 -   0.7s\n",
      "[CV] n_estimators=50, max_depth=3, learning_rate=0.0316227766017 .....\n",
      "[CV]  n_estimators=50, max_depth=3, learning_rate=0.0316227766017, score=0.695652 -   0.7s\n",
      "[CV] n_estimators=150, max_depth=3, learning_rate=0.0316227766017 ....\n",
      "[CV]  n_estimators=450, max_depth=10, learning_rate=0.01, score=0.822115 -  16.7s\n",
      "[CV] n_estimators=150, max_depth=3, learning_rate=0.0316227766017 ....\n",
      "[CV]  n_estimators=150, max_depth=3, learning_rate=0.0316227766017, score=0.726415 -   2.2s\n",
      "[CV] n_estimators=150, max_depth=3, learning_rate=0.0316227766017 ....\n",
      "[CV]  n_estimators=150, max_depth=3, learning_rate=0.0316227766017, score=0.708134 -   2.2s\n",
      "[CV] n_estimators=150, max_depth=3, learning_rate=0.0316227766017 ....\n",
      "[CV]  n_estimators=450, max_depth=10, learning_rate=0.01, score=0.774038 -  16.1s\n",
      "[CV] n_estimators=150, max_depth=3, learning_rate=0.0316227766017 ....\n",
      "[CV]  n_estimators=150, max_depth=3, learning_rate=0.0316227766017, score=0.716346 -   2.2s\n",
      "[CV] n_estimators=250, max_depth=3, learning_rate=0.0316227766017 ....\n",
      "[CV]  n_estimators=150, max_depth=3, learning_rate=0.0316227766017, score=0.716346 -   2.3s\n",
      "[CV] n_estimators=250, max_depth=3, learning_rate=0.0316227766017 ....\n",
      "[CV]  n_estimators=150, max_depth=3, learning_rate=0.0316227766017, score=0.710145 -   2.3s\n",
      "[CV] n_estimators=250, max_depth=3, learning_rate=0.0316227766017 ....\n",
      "[CV]  n_estimators=250, max_depth=3, learning_rate=0.0316227766017, score=0.740566 -   3.6s\n",
      "[CV] n_estimators=250, max_depth=3, learning_rate=0.0316227766017 ....\n",
      "[CV]  n_estimators=250, max_depth=3, learning_rate=0.0316227766017, score=0.722488 -   3.7s\n",
      "[CV] n_estimators=250, max_depth=3, learning_rate=0.0316227766017 ....\n",
      "[CV]  n_estimators=250, max_depth=3, learning_rate=0.0316227766017, score=0.750000 -   3.7s\n",
      "[CV] n_estimators=350, max_depth=3, learning_rate=0.0316227766017 ....\n",
      "[CV]  n_estimators=450, max_depth=10, learning_rate=0.01, score=0.690821 -  16.0s\n",
      "[CV] n_estimators=350, max_depth=3, learning_rate=0.0316227766017 ....\n"
     ]
    },
    {
     "name": "stderr",
     "output_type": "stream",
     "text": [
      "[Parallel(n_jobs=4)]: Done 213 tasks      | elapsed:  5.8min\n"
     ]
    },
    {
     "name": "stdout",
     "output_type": "stream",
     "text": [
      "[CV]  n_estimators=250, max_depth=3, learning_rate=0.0316227766017, score=0.730769 -   3.7s\n",
      "[CV] n_estimators=350, max_depth=3, learning_rate=0.0316227766017 ....\n",
      "[CV]  n_estimators=250, max_depth=3, learning_rate=0.0316227766017, score=0.710145 -   3.6s\n",
      "[CV] n_estimators=350, max_depth=3, learning_rate=0.0316227766017 ....\n",
      "[CV]  n_estimators=350, max_depth=3, learning_rate=0.0316227766017, score=0.764151 -   5.1s\n",
      "[CV] n_estimators=350, max_depth=3, learning_rate=0.0316227766017 ....\n",
      "[CV]  n_estimators=350, max_depth=3, learning_rate=0.0316227766017, score=0.755981 -   5.2s\n",
      "[CV] n_estimators=450, max_depth=3, learning_rate=0.0316227766017 ....\n",
      "[CV]  n_estimators=350, max_depth=3, learning_rate=0.0316227766017, score=0.754808 -   5.1s\n",
      "[CV] n_estimators=450, max_depth=3, learning_rate=0.0316227766017 ....\n",
      "[CV]  n_estimators=350, max_depth=3, learning_rate=0.0316227766017, score=0.735577 -   5.2s\n",
      "[CV] n_estimators=450, max_depth=3, learning_rate=0.0316227766017 ....\n",
      "[CV]  n_estimators=350, max_depth=3, learning_rate=0.0316227766017, score=0.705314 -   5.2s\n",
      "[CV] n_estimators=450, max_depth=3, learning_rate=0.0316227766017 ....\n",
      "[CV]  n_estimators=450, max_depth=3, learning_rate=0.0316227766017, score=0.768868 -   6.5s\n",
      "[CV] n_estimators=450, max_depth=3, learning_rate=0.0316227766017 ....\n",
      "[CV]  n_estimators=450, max_depth=3, learning_rate=0.0316227766017, score=0.779904 -   6.6s\n",
      "[CV] n_estimators=50, max_depth=4, learning_rate=0.0316227766017 .....\n",
      "[CV]  n_estimators=50, max_depth=4, learning_rate=0.0316227766017, score=0.735849 -   0.9s\n",
      "[CV] n_estimators=50, max_depth=4, learning_rate=0.0316227766017 .....\n",
      "[CV]  n_estimators=450, max_depth=3, learning_rate=0.0316227766017, score=0.759615 -   6.6s\n",
      "[CV] n_estimators=50, max_depth=4, learning_rate=0.0316227766017 .....\n",
      "[CV]  n_estimators=50, max_depth=4, learning_rate=0.0316227766017, score=0.703349 -   1.1s\n",
      "[CV] n_estimators=50, max_depth=4, learning_rate=0.0316227766017 .....\n",
      "[CV]  n_estimators=50, max_depth=4, learning_rate=0.0316227766017, score=0.716346 -   1.1s\n",
      "[CV] n_estimators=50, max_depth=4, learning_rate=0.0316227766017 .....\n",
      "[CV]  n_estimators=50, max_depth=4, learning_rate=0.0316227766017, score=0.706731 -   0.9s\n",
      "[CV] n_estimators=150, max_depth=4, learning_rate=0.0316227766017 ....\n",
      "[CV]  n_estimators=50, max_depth=4, learning_rate=0.0316227766017, score=0.695652 -   0.9s\n",
      "[CV] n_estimators=150, max_depth=4, learning_rate=0.0316227766017 ....\n",
      "[CV]  n_estimators=450, max_depth=3, learning_rate=0.0316227766017, score=0.745192 -   6.8s\n",
      "[CV] n_estimators=150, max_depth=4, learning_rate=0.0316227766017 ....\n",
      "[CV]  n_estimators=450, max_depth=3, learning_rate=0.0316227766017, score=0.719807 -   6.8s\n",
      "[CV] n_estimators=150, max_depth=4, learning_rate=0.0316227766017 ....\n",
      "[CV]  n_estimators=150, max_depth=4, learning_rate=0.0316227766017, score=0.760766 -   2.7s\n",
      "[CV]  n_estimators=150, max_depth=4, learning_rate=0.0316227766017, score=0.764151 -   2.8s\n",
      "[CV] n_estimators=150, max_depth=4, learning_rate=0.0316227766017 ....\n",
      "[CV] n_estimators=250, max_depth=4, learning_rate=0.0316227766017 ....\n",
      "[CV]  n_estimators=150, max_depth=4, learning_rate=0.0316227766017, score=0.745192 -   2.7s\n",
      "[CV] n_estimators=250, max_depth=4, learning_rate=0.0316227766017 ....\n",
      "[CV]  n_estimators=150, max_depth=4, learning_rate=0.0316227766017, score=0.700483 -   2.8s\n",
      "[CV] n_estimators=250, max_depth=4, learning_rate=0.0316227766017 ....\n",
      "[CV]  n_estimators=150, max_depth=4, learning_rate=0.0316227766017, score=0.725962 -   2.8s\n",
      "[CV] n_estimators=250, max_depth=4, learning_rate=0.0316227766017 ....\n"
     ]
    },
    {
     "name": "stderr",
     "output_type": "stream",
     "text": [
      "[Parallel(n_jobs=4)]: Done 234 tasks      | elapsed:  6.1min\n"
     ]
    },
    {
     "name": "stdout",
     "output_type": "stream",
     "text": [
      "[CV]  n_estimators=250, max_depth=4, learning_rate=0.0316227766017, score=0.797170 -   4.6s\n",
      "[CV] n_estimators=250, max_depth=4, learning_rate=0.0316227766017 ....\n",
      "[CV]  n_estimators=250, max_depth=4, learning_rate=0.0316227766017, score=0.794258 -   4.5s\n",
      "[CV] n_estimators=350, max_depth=4, learning_rate=0.0316227766017 ....\n",
      "[CV]  n_estimators=250, max_depth=4, learning_rate=0.0316227766017, score=0.730769 -   4.6s\n",
      "[CV] n_estimators=350, max_depth=4, learning_rate=0.0316227766017 ....\n",
      "[CV]  n_estimators=250, max_depth=4, learning_rate=0.0316227766017, score=0.764423 -   4.7s\n",
      "[CV] n_estimators=350, max_depth=4, learning_rate=0.0316227766017 ....\n",
      "[CV]  n_estimators=250, max_depth=4, learning_rate=0.0316227766017, score=0.690821 -   4.6s\n",
      "[CV] n_estimators=350, max_depth=4, learning_rate=0.0316227766017 ....\n",
      "[CV]  n_estimators=350, max_depth=4, learning_rate=0.0316227766017, score=0.820755 -   6.4s\n",
      "[CV] n_estimators=350, max_depth=4, learning_rate=0.0316227766017 ....\n",
      "[CV]  n_estimators=350, max_depth=4, learning_rate=0.0316227766017, score=0.793269 -   6.3s\n",
      "[CV] n_estimators=450, max_depth=4, learning_rate=0.0316227766017 ....\n",
      "[CV]  n_estimators=350, max_depth=4, learning_rate=0.0316227766017, score=0.832536 -   6.4s\n",
      "[CV] n_estimators=450, max_depth=4, learning_rate=0.0316227766017 ....\n",
      "[CV]  n_estimators=350, max_depth=4, learning_rate=0.0316227766017, score=0.754808 -   6.5s\n",
      "[CV] n_estimators=450, max_depth=4, learning_rate=0.0316227766017 ....\n",
      "[CV]  n_estimators=350, max_depth=4, learning_rate=0.0316227766017, score=0.690821 -   6.4s\n",
      "[CV] n_estimators=450, max_depth=4, learning_rate=0.0316227766017 ....\n",
      "[CV]  n_estimators=450, max_depth=4, learning_rate=0.0316227766017, score=0.834906 -   8.1s\n",
      "[CV] n_estimators=450, max_depth=4, learning_rate=0.0316227766017 ....\n",
      "[CV]  n_estimators=450, max_depth=4, learning_rate=0.0316227766017, score=0.822967 -   8.1s\n",
      "[CV] n_estimators=50, max_depth=5, learning_rate=0.0316227766017 .....\n",
      "[CV]  n_estimators=50, max_depth=5, learning_rate=0.0316227766017, score=0.768868 -   1.1s\n",
      "[CV] n_estimators=50, max_depth=5, learning_rate=0.0316227766017 .....\n",
      "[CV]  n_estimators=450, max_depth=4, learning_rate=0.0316227766017, score=0.798077 -   8.4s\n",
      "[CV] n_estimators=50, max_depth=5, learning_rate=0.0316227766017 .....\n",
      "[CV]  n_estimators=50, max_depth=5, learning_rate=0.0316227766017, score=0.708134 -   1.2s\n",
      "[CV] n_estimators=50, max_depth=5, learning_rate=0.0316227766017 .....\n",
      "[CV]  n_estimators=50, max_depth=5, learning_rate=0.0316227766017, score=0.730769 -   1.2s\n",
      "[CV] n_estimators=50, max_depth=5, learning_rate=0.0316227766017 .....\n",
      "[CV]  n_estimators=50, max_depth=5, learning_rate=0.0316227766017, score=0.721154 -   1.1s\n",
      "[CV] n_estimators=150, max_depth=5, learning_rate=0.0316227766017 ....\n",
      "[CV]  n_estimators=50, max_depth=5, learning_rate=0.0316227766017, score=0.700483 -   1.1s\n",
      "[CV] n_estimators=150, max_depth=5, learning_rate=0.0316227766017 ....\n",
      "[CV]  n_estimators=450, max_depth=4, learning_rate=0.0316227766017, score=0.750000 -   8.4s\n",
      "[CV] n_estimators=150, max_depth=5, learning_rate=0.0316227766017 ....\n",
      "[CV]  n_estimators=150, max_depth=5, learning_rate=0.0316227766017, score=0.797170 -   3.3s\n",
      "[CV] n_estimators=150, max_depth=5, learning_rate=0.0316227766017 ....\n",
      "[CV]  n_estimators=150, max_depth=5, learning_rate=0.0316227766017, score=0.775120 -   3.4s\n",
      "[CV] n_estimators=150, max_depth=5, learning_rate=0.0316227766017 ....\n",
      "[CV]  n_estimators=150, max_depth=5, learning_rate=0.0316227766017, score=0.778846 -   3.4s\n",
      "[CV] n_estimators=250, max_depth=5, learning_rate=0.0316227766017 ....\n"
     ]
    },
    {
     "name": "stderr",
     "output_type": "stream",
     "text": [
      "[Parallel(n_jobs=4)]: Done 257 tasks      | elapsed:  6.6min\n"
     ]
    },
    {
     "name": "stdout",
     "output_type": "stream",
     "text": [
      "[CV]  n_estimators=450, max_depth=4, learning_rate=0.0316227766017, score=0.676329 -   8.4s\n",
      "[CV] n_estimators=250, max_depth=5, learning_rate=0.0316227766017 ....\n",
      "[CV]  n_estimators=150, max_depth=5, learning_rate=0.0316227766017, score=0.754808 -   3.3s\n",
      "[CV] n_estimators=250, max_depth=5, learning_rate=0.0316227766017 ....\n",
      "[CV]  n_estimators=150, max_depth=5, learning_rate=0.0316227766017, score=0.681159 -   3.3s\n",
      "[CV] n_estimators=250, max_depth=5, learning_rate=0.0316227766017 ....\n",
      "[CV]  n_estimators=250, max_depth=5, learning_rate=0.0316227766017, score=0.830189 -   5.4s\n",
      "[CV] n_estimators=250, max_depth=5, learning_rate=0.0316227766017 ....\n",
      "[CV]  n_estimators=250, max_depth=5, learning_rate=0.0316227766017, score=0.818182 -   5.5s\n",
      "[CV] n_estimators=350, max_depth=5, learning_rate=0.0316227766017 ....\n",
      "[CV]  n_estimators=250, max_depth=5, learning_rate=0.0316227766017, score=0.826923 -   5.6s\n",
      "[CV] n_estimators=350, max_depth=5, learning_rate=0.0316227766017 ....\n",
      "[CV]  n_estimators=250, max_depth=5, learning_rate=0.0316227766017, score=0.788462 -   5.6s\n",
      "[CV] n_estimators=350, max_depth=5, learning_rate=0.0316227766017 ....\n",
      "[CV]  n_estimators=250, max_depth=5, learning_rate=0.0316227766017, score=0.681159 -   5.6s\n",
      "[CV] n_estimators=350, max_depth=5, learning_rate=0.0316227766017 ....\n",
      "[CV]  n_estimators=350, max_depth=5, learning_rate=0.0316227766017, score=0.830189 -   7.8s\n",
      "[CV] n_estimators=350, max_depth=5, learning_rate=0.0316227766017 ....\n",
      "[CV]  n_estimators=350, max_depth=5, learning_rate=0.0316227766017, score=0.851675 -   7.7s\n",
      "[CV] n_estimators=450, max_depth=5, learning_rate=0.0316227766017 ....\n",
      "[CV]  n_estimators=350, max_depth=5, learning_rate=0.0316227766017, score=0.841346 -   7.7s\n",
      "[CV] n_estimators=450, max_depth=5, learning_rate=0.0316227766017 ....\n",
      "[CV]  n_estimators=350, max_depth=5, learning_rate=0.0316227766017, score=0.783654 -   7.8s\n",
      "[CV] n_estimators=450, max_depth=5, learning_rate=0.0316227766017 ....\n",
      "[CV]  n_estimators=350, max_depth=5, learning_rate=0.0316227766017, score=0.685990 -   7.7s\n",
      "[CV] n_estimators=450, max_depth=5, learning_rate=0.0316227766017 ....\n",
      "[CV]  n_estimators=450, max_depth=5, learning_rate=0.0316227766017, score=0.839623 -   9.8s\n",
      "[CV] n_estimators=450, max_depth=5, learning_rate=0.0316227766017 ....\n",
      "[CV]  n_estimators=450, max_depth=5, learning_rate=0.0316227766017, score=0.866029 -11.3min\n",
      "[CV] n_estimators=50, max_depth=6, learning_rate=0.0316227766017 .....\n",
      "[CV]  n_estimators=50, max_depth=6, learning_rate=0.0316227766017, score=0.801887 -   1.6s\n",
      "[CV] n_estimators=50, max_depth=6, learning_rate=0.0316227766017 .....\n",
      "[CV]  n_estimators=450, max_depth=5, learning_rate=0.0316227766017, score=0.850962 -11.4min\n",
      "[CV] n_estimators=50, max_depth=6, learning_rate=0.0316227766017 .....\n",
      "[CV]  n_estimators=50, max_depth=6, learning_rate=0.0316227766017, score=0.722488 -   1.6s\n",
      "[CV] n_estimators=50, max_depth=6, learning_rate=0.0316227766017 .....\n",
      "[CV]  n_estimators=50, max_depth=6, learning_rate=0.0316227766017, score=0.764423 -   1.6s\n",
      "[CV] n_estimators=50, max_depth=6, learning_rate=0.0316227766017 .....\n",
      "[CV]  n_estimators=50, max_depth=6, learning_rate=0.0316227766017, score=0.740385 -   1.6s\n",
      "[CV] n_estimators=150, max_depth=6, learning_rate=0.0316227766017 ....\n",
      "[CV]  n_estimators=450, max_depth=5, learning_rate=0.0316227766017, score=0.788462 -11.4min\n",
      "[CV] n_estimators=150, max_depth=6, learning_rate=0.0316227766017 ....\n",
      "[CV]  n_estimators=50, max_depth=6, learning_rate=0.0316227766017, score=0.676329 -   1.4s\n",
      "[CV] n_estimators=150, max_depth=6, learning_rate=0.0316227766017 ....\n",
      "[CV]  n_estimators=150, max_depth=6, learning_rate=0.0316227766017, score=0.849057 -   4.9s\n",
      "[CV] n_estimators=150, max_depth=6, learning_rate=0.0316227766017 ....\n"
     ]
    },
    {
     "name": "stderr",
     "output_type": "stream",
     "text": [
      "[Parallel(n_jobs=4)]: Done 280 tasks      | elapsed: 18.4min\n"
     ]
    },
    {
     "name": "stdout",
     "output_type": "stream",
     "text": [
      "[CV]  n_estimators=450, max_depth=5, learning_rate=0.0316227766017, score=0.685990 -11.4min\n",
      "[CV] n_estimators=150, max_depth=6, learning_rate=0.0316227766017 ....\n",
      "[CV]  n_estimators=150, max_depth=6, learning_rate=0.0316227766017, score=0.794258 -   5.0s\n",
      "[CV] n_estimators=250, max_depth=6, learning_rate=0.0316227766017 ....\n",
      "[CV]  n_estimators=150, max_depth=6, learning_rate=0.0316227766017, score=0.812500 -   5.0s\n",
      "[CV] n_estimators=250, max_depth=6, learning_rate=0.0316227766017 ....\n",
      "[CV]  n_estimators=150, max_depth=6, learning_rate=0.0316227766017, score=0.769231 -   5.0s\n",
      "[CV] n_estimators=250, max_depth=6, learning_rate=0.0316227766017 ....\n",
      "[CV]  n_estimators=150, max_depth=6, learning_rate=0.0316227766017, score=0.685990 -   5.1s\n",
      "[CV] n_estimators=250, max_depth=6, learning_rate=0.0316227766017 ....\n",
      "[CV]  n_estimators=250, max_depth=6, learning_rate=0.0316227766017, score=0.858491 -   8.6s\n",
      "[CV] n_estimators=250, max_depth=6, learning_rate=0.0316227766017 ....\n",
      "[CV]  n_estimators=250, max_depth=6, learning_rate=0.0316227766017, score=0.822967 -   8.7s\n",
      "[CV] n_estimators=350, max_depth=6, learning_rate=0.0316227766017 ....\n",
      "[CV]  n_estimators=250, max_depth=6, learning_rate=0.0316227766017, score=0.841346 -   8.8s\n",
      "[CV] n_estimators=350, max_depth=6, learning_rate=0.0316227766017 ....\n",
      "[CV]  n_estimators=250, max_depth=6, learning_rate=0.0316227766017, score=0.783654 -   8.7s\n",
      "[CV] n_estimators=350, max_depth=6, learning_rate=0.0316227766017 ....\n",
      "[CV]  n_estimators=250, max_depth=6, learning_rate=0.0316227766017, score=0.676329 -   8.1s\n",
      "[CV] n_estimators=350, max_depth=6, learning_rate=0.0316227766017 ....\n",
      "[CV]  n_estimators=350, max_depth=6, learning_rate=0.0316227766017, score=0.867925 -  11.3s\n",
      "[CV] n_estimators=350, max_depth=6, learning_rate=0.0316227766017 ....\n",
      "[CV]  n_estimators=350, max_depth=6, learning_rate=0.0316227766017, score=0.851675 -  10.5s\n",
      "[CV] n_estimators=450, max_depth=6, learning_rate=0.0316227766017 ....\n",
      "[CV]  n_estimators=350, max_depth=6, learning_rate=0.0316227766017, score=0.846154 -  10.6s\n",
      "[CV] n_estimators=450, max_depth=6, learning_rate=0.0316227766017 ....\n",
      "[CV]  n_estimators=350, max_depth=6, learning_rate=0.0316227766017, score=0.802885 -  10.6s\n",
      "[CV] n_estimators=450, max_depth=6, learning_rate=0.0316227766017 ....\n",
      "[CV]  n_estimators=350, max_depth=6, learning_rate=0.0316227766017, score=0.685990 -  10.4s\n",
      "[CV] n_estimators=450, max_depth=6, learning_rate=0.0316227766017 ....\n",
      "[CV]  n_estimators=450, max_depth=6, learning_rate=0.0316227766017, score=0.882075 -  13.3s\n",
      "[CV] n_estimators=450, max_depth=6, learning_rate=0.0316227766017 ....\n",
      "[CV]  n_estimators=450, max_depth=6, learning_rate=0.0316227766017, score=0.851675 -  12.9s\n",
      "[CV] n_estimators=50, max_depth=7, learning_rate=0.0316227766017 .....\n",
      "[CV]  n_estimators=50, max_depth=7, learning_rate=0.0316227766017, score=0.816038 -   1.6s\n",
      "[CV] n_estimators=50, max_depth=7, learning_rate=0.0316227766017 .....\n",
      "[CV]  n_estimators=450, max_depth=6, learning_rate=0.0316227766017, score=0.841346 -  12.8s\n",
      "[CV] n_estimators=50, max_depth=7, learning_rate=0.0316227766017 .....\n",
      "[CV]  n_estimators=50, max_depth=7, learning_rate=0.0316227766017, score=0.732057 -   1.8s\n",
      "[CV] n_estimators=50, max_depth=7, learning_rate=0.0316227766017 .....\n",
      "[CV]  n_estimators=50, max_depth=7, learning_rate=0.0316227766017, score=0.774038 -   1.9s\n",
      "[CV] n_estimators=50, max_depth=7, learning_rate=0.0316227766017 .....\n",
      "[CV]  n_estimators=50, max_depth=7, learning_rate=0.0316227766017, score=0.740385 -   1.8s\n",
      "[CV] n_estimators=150, max_depth=7, learning_rate=0.0316227766017 ....\n",
      "[CV]  n_estimators=450, max_depth=6, learning_rate=0.0316227766017, score=0.802885 -  12.9s\n",
      "[CV] n_estimators=150, max_depth=7, learning_rate=0.0316227766017 ....\n",
      "[CV]  n_estimators=50, max_depth=7, learning_rate=0.0316227766017, score=0.681159 -   1.5s\n",
      "[CV] n_estimators=150, max_depth=7, learning_rate=0.0316227766017 ....\n",
      "[CV]  n_estimators=150, max_depth=7, learning_rate=0.0316227766017, score=0.853774 -   4.6s\n",
      "[CV] n_estimators=150, max_depth=7, learning_rate=0.0316227766017 ....\n"
     ]
    },
    {
     "name": "stderr",
     "output_type": "stream",
     "text": [
      "[Parallel(n_jobs=4)]: Done 305 tasks      | elapsed: 19.2min\n"
     ]
    },
    {
     "name": "stdout",
     "output_type": "stream",
     "text": [
      "[CV]  n_estimators=150, max_depth=7, learning_rate=0.0316227766017, score=0.818182 -   4.7s\n",
      "[CV] n_estimators=150, max_depth=7, learning_rate=0.0316227766017 ....\n",
      "[CV]  n_estimators=150, max_depth=7, learning_rate=0.0316227766017, score=0.812500 -   4.8s\n",
      "[CV] n_estimators=250, max_depth=7, learning_rate=0.0316227766017 ....\n",
      "[CV]  n_estimators=450, max_depth=6, learning_rate=0.0316227766017, score=0.690821 -  12.3s\n",
      "[CV] n_estimators=250, max_depth=7, learning_rate=0.0316227766017 ....\n",
      "[CV]  n_estimators=150, max_depth=7, learning_rate=0.0316227766017, score=0.783654 -   4.9s\n",
      "[CV] n_estimators=250, max_depth=7, learning_rate=0.0316227766017 ....\n",
      "[CV]  n_estimators=150, max_depth=7, learning_rate=0.0316227766017, score=0.685990 -   5.3s\n",
      "[CV] n_estimators=250, max_depth=7, learning_rate=0.0316227766017 ....\n",
      "[CV]  n_estimators=250, max_depth=7, learning_rate=0.0316227766017, score=0.867925 -   8.5s\n",
      "[CV] n_estimators=250, max_depth=7, learning_rate=0.0316227766017 ....\n",
      "[CV]  n_estimators=250, max_depth=7, learning_rate=0.0316227766017, score=0.861244 -   8.4s\n",
      "[CV] n_estimators=350, max_depth=7, learning_rate=0.0316227766017 ....\n",
      "[CV]  n_estimators=250, max_depth=7, learning_rate=0.0316227766017, score=0.836538 -   8.4s\n",
      "[CV] n_estimators=350, max_depth=7, learning_rate=0.0316227766017 ....\n",
      "[CV]  n_estimators=250, max_depth=7, learning_rate=0.0316227766017, score=0.798077 -   8.0s\n",
      "[CV] n_estimators=350, max_depth=7, learning_rate=0.0316227766017 ....\n",
      "[CV]  n_estimators=250, max_depth=7, learning_rate=0.0316227766017, score=0.681159 -   8.1s\n",
      "[CV] n_estimators=350, max_depth=7, learning_rate=0.0316227766017 ....\n",
      "[CV]  n_estimators=350, max_depth=7, learning_rate=0.0316227766017, score=0.877358 -  10.8s\n",
      "[CV] n_estimators=350, max_depth=7, learning_rate=0.0316227766017 ....\n",
      "[CV]  n_estimators=350, max_depth=7, learning_rate=0.0316227766017, score=0.875598 -  10.5s\n",
      "[CV] n_estimators=450, max_depth=7, learning_rate=0.0316227766017 ....\n",
      "[CV]  n_estimators=350, max_depth=7, learning_rate=0.0316227766017, score=0.850962 -  10.5s\n",
      "[CV] n_estimators=450, max_depth=7, learning_rate=0.0316227766017 ....\n",
      "[CV]  n_estimators=350, max_depth=7, learning_rate=0.0316227766017, score=0.793269 -  10.0s\n",
      "[CV] n_estimators=450, max_depth=7, learning_rate=0.0316227766017 ....\n",
      "[CV]  n_estimators=350, max_depth=7, learning_rate=0.0316227766017, score=0.690821 -   9.8s\n",
      "[CV] n_estimators=450, max_depth=7, learning_rate=0.0316227766017 ....\n",
      "[CV]  n_estimators=450, max_depth=7, learning_rate=0.0316227766017, score=0.882075 -  12.5s\n",
      "[CV] n_estimators=450, max_depth=7, learning_rate=0.0316227766017 ....\n",
      "[CV]  n_estimators=450, max_depth=7, learning_rate=0.0316227766017, score=0.885167 -  12.8s\n",
      "[CV] n_estimators=50, max_depth=8, learning_rate=0.0316227766017 .....\n",
      "[CV]  n_estimators=50, max_depth=8, learning_rate=0.0316227766017, score=0.839623 -   2.0s\n",
      "[CV] n_estimators=50, max_depth=8, learning_rate=0.0316227766017 .....\n",
      "[CV]  n_estimators=450, max_depth=7, learning_rate=0.0316227766017, score=0.850962 -  13.5s\n",
      "[CV] n_estimators=50, max_depth=8, learning_rate=0.0316227766017 .....\n",
      "[CV]  n_estimators=50, max_depth=8, learning_rate=0.0316227766017, score=0.751196 -   2.0s\n",
      "[CV] n_estimators=50, max_depth=8, learning_rate=0.0316227766017 .....\n",
      "[CV]  n_estimators=50, max_depth=8, learning_rate=0.0316227766017, score=0.788462 -   2.0s\n",
      "[CV] n_estimators=50, max_depth=8, learning_rate=0.0316227766017 .....\n",
      "[CV]  n_estimators=50, max_depth=8, learning_rate=0.0316227766017, score=0.750000 -   2.0s\n",
      "[CV] n_estimators=150, max_depth=8, learning_rate=0.0316227766017 ....\n",
      "[CV]  n_estimators=450, max_depth=7, learning_rate=0.0316227766017, score=0.788462 -  13.7s\n",
      "[CV] n_estimators=150, max_depth=8, learning_rate=0.0316227766017 ....\n",
      "[CV]  n_estimators=50, max_depth=8, learning_rate=0.0316227766017, score=0.666667 -   1.9s\n",
      "[CV] n_estimators=150, max_depth=8, learning_rate=0.0316227766017 ....\n",
      "[CV]  n_estimators=150, max_depth=8, learning_rate=0.0316227766017, score=0.882075 -   5.7s\n",
      "[CV] n_estimators=150, max_depth=8, learning_rate=0.0316227766017 ....\n"
     ]
    },
    {
     "name": "stderr",
     "output_type": "stream",
     "text": [
      "[Parallel(n_jobs=4)]: Done 330 tasks      | elapsed: 20.0min\n"
     ]
    },
    {
     "name": "stdout",
     "output_type": "stream",
     "text": [
      "[CV]  n_estimators=150, max_depth=8, learning_rate=0.0316227766017, score=0.846890 -   5.5s\n",
      "[CV] n_estimators=150, max_depth=8, learning_rate=0.0316227766017 ....\n",
      "[CV]  n_estimators=450, max_depth=7, learning_rate=0.0316227766017, score=0.690821 -  14.5s\n",
      "[CV] n_estimators=250, max_depth=8, learning_rate=0.0316227766017 ....\n",
      "[CV]  n_estimators=150, max_depth=8, learning_rate=0.0316227766017, score=0.826923 -   5.8s\n",
      "[CV] n_estimators=250, max_depth=8, learning_rate=0.0316227766017 ....\n",
      "[CV]  n_estimators=150, max_depth=8, learning_rate=0.0316227766017, score=0.793269 -   5.7s\n",
      "[CV] n_estimators=250, max_depth=8, learning_rate=0.0316227766017 ....\n",
      "[CV]  n_estimators=150, max_depth=8, learning_rate=0.0316227766017, score=0.695652 -   5.7s\n",
      "[CV] n_estimators=250, max_depth=8, learning_rate=0.0316227766017 ....\n",
      "[CV]  n_estimators=250, max_depth=8, learning_rate=0.0316227766017, score=0.891509 -   9.1s\n",
      "[CV] n_estimators=250, max_depth=8, learning_rate=0.0316227766017 ....\n",
      "[CV]  n_estimators=250, max_depth=8, learning_rate=0.0316227766017, score=0.880383 -   9.2s\n",
      "[CV] n_estimators=350, max_depth=8, learning_rate=0.0316227766017 ....\n",
      "[CV]  n_estimators=250, max_depth=8, learning_rate=0.0316227766017, score=0.836538 -   8.8s\n",
      "[CV] n_estimators=350, max_depth=8, learning_rate=0.0316227766017 ....\n",
      "[CV]  n_estimators=250, max_depth=8, learning_rate=0.0316227766017, score=0.798077 -   8.8s\n",
      "[CV] n_estimators=350, max_depth=8, learning_rate=0.0316227766017 ....\n",
      "[CV]  n_estimators=250, max_depth=8, learning_rate=0.0316227766017, score=0.685990 -   8.7s\n",
      "[CV] n_estimators=350, max_depth=8, learning_rate=0.0316227766017 ....\n",
      "[CV]  n_estimators=350, max_depth=8, learning_rate=0.0316227766017, score=0.896226 -  12.5s\n",
      "[CV] n_estimators=350, max_depth=8, learning_rate=0.0316227766017 ....\n",
      "[CV]  n_estimators=350, max_depth=8, learning_rate=0.0316227766017, score=0.889952 -  12.5s\n",
      "[CV] n_estimators=450, max_depth=8, learning_rate=0.0316227766017 ....\n",
      "[CV]  n_estimators=350, max_depth=8, learning_rate=0.0316227766017, score=0.836538 -  12.5s\n",
      "[CV] n_estimators=450, max_depth=8, learning_rate=0.0316227766017 ....\n",
      "[CV]  n_estimators=350, max_depth=8, learning_rate=0.0316227766017, score=0.802885 -  12.2s\n",
      "[CV] n_estimators=450, max_depth=8, learning_rate=0.0316227766017 ....\n",
      "[CV]  n_estimators=350, max_depth=8, learning_rate=0.0316227766017, score=0.695652 -  11.2s\n",
      "[CV] n_estimators=450, max_depth=8, learning_rate=0.0316227766017 ....\n",
      "[CV]  n_estimators=450, max_depth=8, learning_rate=0.0316227766017, score=0.891509 -  14.5s\n",
      "[CV] n_estimators=450, max_depth=8, learning_rate=0.0316227766017 ....\n",
      "[CV]  n_estimators=450, max_depth=8, learning_rate=0.0316227766017, score=0.894737 -  14.7s\n",
      "[CV] n_estimators=50, max_depth=9, learning_rate=0.0316227766017 .....\n",
      "[CV]  n_estimators=50, max_depth=9, learning_rate=0.0316227766017, score=0.844340 -   2.0s\n",
      "[CV] n_estimators=50, max_depth=9, learning_rate=0.0316227766017 .....\n",
      "[CV]  n_estimators=450, max_depth=8, learning_rate=0.0316227766017, score=0.836538 -  14.8s\n",
      "[CV]  n_estimators=50, max_depth=9, learning_rate=0.0316227766017, score=0.770335 -   1.9s\n",
      "[CV] n_estimators=50, max_depth=9, learning_rate=0.0316227766017 .....\n",
      "[CV] n_estimators=50, max_depth=9, learning_rate=0.0316227766017 .....\n",
      "[CV]  n_estimators=50, max_depth=9, learning_rate=0.0316227766017, score=0.788462 -   2.2s\n",
      "[CV] n_estimators=50, max_depth=9, learning_rate=0.0316227766017 .....\n",
      "[CV]  n_estimators=50, max_depth=9, learning_rate=0.0316227766017, score=0.759615 -   2.2s\n",
      "[CV] n_estimators=150, max_depth=9, learning_rate=0.0316227766017 ....\n",
      "[CV]  n_estimators=450, max_depth=8, learning_rate=0.0316227766017, score=0.802885 -  14.9s\n",
      "[CV] n_estimators=150, max_depth=9, learning_rate=0.0316227766017 ....\n",
      "[CV]  n_estimators=50, max_depth=9, learning_rate=0.0316227766017, score=0.671498 -   1.8s\n",
      "[CV] n_estimators=150, max_depth=9, learning_rate=0.0316227766017 ....\n",
      "[CV]  n_estimators=150, max_depth=9, learning_rate=0.0316227766017, score=0.872642 -   6.1s\n",
      "[CV] n_estimators=150, max_depth=9, learning_rate=0.0316227766017 ....\n",
      "[CV]  n_estimators=150, max_depth=9, learning_rate=0.0316227766017, score=0.851675 -   6.0s\n",
      "[CV] n_estimators=150, max_depth=9, learning_rate=0.0316227766017 ....\n",
      "[CV]  n_estimators=150, max_depth=9, learning_rate=0.0316227766017, score=0.822115 -   6.1s\n",
      "[CV] n_estimators=250, max_depth=9, learning_rate=0.0316227766017 ....\n"
     ]
    },
    {
     "name": "stderr",
     "output_type": "stream",
     "text": [
      "[Parallel(n_jobs=4)]: Done 357 tasks      | elapsed: 20.9min\n"
     ]
    },
    {
     "name": "stdout",
     "output_type": "stream",
     "text": [
      "[CV]  n_estimators=450, max_depth=8, learning_rate=0.0316227766017, score=0.705314 -  15.3s\n",
      "[CV] n_estimators=250, max_depth=9, learning_rate=0.0316227766017 ....\n",
      "[CV]  n_estimators=150, max_depth=9, learning_rate=0.0316227766017, score=0.774038 -   5.5s\n",
      "[CV] n_estimators=250, max_depth=9, learning_rate=0.0316227766017 ....\n",
      "[CV]  n_estimators=150, max_depth=9, learning_rate=0.0316227766017, score=0.700483 -   5.4s\n",
      "[CV] n_estimators=250, max_depth=9, learning_rate=0.0316227766017 ....\n",
      "[CV]  n_estimators=250, max_depth=9, learning_rate=0.0316227766017, score=0.886792 -   8.8s\n",
      "[CV] n_estimators=250, max_depth=9, learning_rate=0.0316227766017 ....\n",
      "[CV]  n_estimators=250, max_depth=9, learning_rate=0.0316227766017, score=0.880383 -   8.7s\n",
      "[CV] n_estimators=350, max_depth=9, learning_rate=0.0316227766017 ....\n",
      "[CV]  n_estimators=250, max_depth=9, learning_rate=0.0316227766017, score=0.846154 -   8.7s\n",
      "[CV] n_estimators=350, max_depth=9, learning_rate=0.0316227766017 ....\n",
      "[CV]  n_estimators=250, max_depth=9, learning_rate=0.0316227766017, score=0.788462 -   8.6s\n",
      "[CV] n_estimators=350, max_depth=9, learning_rate=0.0316227766017 ....\n",
      "[CV]  n_estimators=250, max_depth=9, learning_rate=0.0316227766017, score=0.705314 -   8.4s\n",
      "[CV] n_estimators=350, max_depth=9, learning_rate=0.0316227766017 ....\n",
      "[CV]  n_estimators=350, max_depth=9, learning_rate=0.0316227766017, score=0.886792 -  11.6s\n",
      "[CV] n_estimators=350, max_depth=9, learning_rate=0.0316227766017 ....\n",
      "[CV]  n_estimators=350, max_depth=9, learning_rate=0.0316227766017, score=0.904306 -  11.8s\n",
      "[CV] n_estimators=450, max_depth=9, learning_rate=0.0316227766017 ....\n",
      "[CV]  n_estimators=350, max_depth=9, learning_rate=0.0316227766017, score=0.841346 -  12.3s\n",
      "[CV] n_estimators=450, max_depth=9, learning_rate=0.0316227766017 ....\n",
      "[CV]  n_estimators=350, max_depth=9, learning_rate=0.0316227766017, score=0.798077 -  12.8s\n",
      "[CV] n_estimators=450, max_depth=9, learning_rate=0.0316227766017 ....\n",
      "[CV]  n_estimators=350, max_depth=9, learning_rate=0.0316227766017, score=0.705314 -  13.0s\n",
      "[CV] n_estimators=450, max_depth=9, learning_rate=0.0316227766017 ....\n",
      "[CV]  n_estimators=450, max_depth=9, learning_rate=0.0316227766017, score=0.886792 -  16.0s\n",
      "[CV] n_estimators=450, max_depth=9, learning_rate=0.0316227766017 ....\n",
      "[CV]  n_estimators=450, max_depth=9, learning_rate=0.0316227766017, score=0.894737 -  15.6s\n",
      "[CV] n_estimators=50, max_depth=10, learning_rate=0.0316227766017 ....\n",
      "[CV]  n_estimators=50, max_depth=10, learning_rate=0.0316227766017, score=0.853774 -   1.8s\n",
      "[CV] n_estimators=50, max_depth=10, learning_rate=0.0316227766017 ....\n",
      "[CV]  n_estimators=450, max_depth=9, learning_rate=0.0316227766017, score=0.836538 -  14.8s\n",
      "[CV] n_estimators=50, max_depth=10, learning_rate=0.0316227766017 ....\n",
      "[CV]  n_estimators=50, max_depth=10, learning_rate=0.0316227766017, score=0.784689 -   1.8s\n",
      "[CV] n_estimators=50, max_depth=10, learning_rate=0.0316227766017 ....\n",
      "[CV]  n_estimators=50, max_depth=10, learning_rate=0.0316227766017, score=0.793269 -   1.8s\n",
      "[CV] n_estimators=50, max_depth=10, learning_rate=0.0316227766017 ....\n",
      "[CV]  n_estimators=50, max_depth=10, learning_rate=0.0316227766017, score=0.750000 -   1.8s\n",
      "[CV] n_estimators=150, max_depth=10, learning_rate=0.0316227766017 ...\n",
      "[CV]  n_estimators=450, max_depth=9, learning_rate=0.0316227766017, score=0.807692 -  14.1s\n",
      "[CV] n_estimators=150, max_depth=10, learning_rate=0.0316227766017 ...\n",
      "[CV]  n_estimators=50, max_depth=10, learning_rate=0.0316227766017, score=0.681159 -   1.8s\n",
      "[CV] n_estimators=150, max_depth=10, learning_rate=0.0316227766017 ...\n",
      "[CV]  n_estimators=150, max_depth=10, learning_rate=0.0316227766017, score=0.905660 -   5.5s\n",
      "[CV] n_estimators=150, max_depth=10, learning_rate=0.0316227766017 ...\n",
      "[CV]  n_estimators=150, max_depth=10, learning_rate=0.0316227766017, score=0.846890 -   5.8s\n",
      "[CV] n_estimators=150, max_depth=10, learning_rate=0.0316227766017 ...\n",
      "[CV]  n_estimators=450, max_depth=9, learning_rate=0.0316227766017, score=0.700483 -  14.0s\n",
      "[CV] n_estimators=250, max_depth=10, learning_rate=0.0316227766017 ...\n",
      "[CV]  n_estimators=150, max_depth=10, learning_rate=0.0316227766017, score=0.831731 -   5.8s\n",
      "[CV] n_estimators=250, max_depth=10, learning_rate=0.0316227766017 ...\n",
      "[CV]  n_estimators=150, max_depth=10, learning_rate=0.0316227766017, score=0.774038 -   5.7s\n",
      "[CV] n_estimators=250, max_depth=10, learning_rate=0.0316227766017 ...\n"
     ]
    },
    {
     "name": "stderr",
     "output_type": "stream",
     "text": [
      "[Parallel(n_jobs=4)]: Done 384 tasks      | elapsed: 21.9min\n"
     ]
    },
    {
     "name": "stdout",
     "output_type": "stream",
     "text": [
      "[CV]  n_estimators=150, max_depth=10, learning_rate=0.0316227766017, score=0.695652 -   5.6s\n",
      "[CV] n_estimators=250, max_depth=10, learning_rate=0.0316227766017 ...\n",
      "[CV]  n_estimators=250, max_depth=10, learning_rate=0.0316227766017, score=0.900943 -  10.1s\n",
      "[CV] n_estimators=250, max_depth=10, learning_rate=0.0316227766017 ...\n",
      "[CV]  n_estimators=250, max_depth=10, learning_rate=0.0316227766017, score=0.870813 -  10.0s\n",
      "[CV] n_estimators=350, max_depth=10, learning_rate=0.0316227766017 ...\n",
      "[CV]  n_estimators=250, max_depth=10, learning_rate=0.0316227766017, score=0.836538 -  10.6s\n",
      "[CV] n_estimators=350, max_depth=10, learning_rate=0.0316227766017 ...\n",
      "[CV]  n_estimators=250, max_depth=10, learning_rate=0.0316227766017, score=0.783654 -  10.4s\n",
      "[CV] n_estimators=350, max_depth=10, learning_rate=0.0316227766017 ...\n",
      "[CV]  n_estimators=250, max_depth=10, learning_rate=0.0316227766017, score=0.710145 -   9.4s\n",
      "[CV] n_estimators=350, max_depth=10, learning_rate=0.0316227766017 ...\n",
      "[CV]  n_estimators=350, max_depth=10, learning_rate=0.0316227766017, score=0.900943 -  12.8s\n",
      "[CV] n_estimators=350, max_depth=10, learning_rate=0.0316227766017 ...\n",
      "[CV]  n_estimators=350, max_depth=10, learning_rate=0.0316227766017, score=0.880383 -  12.3s\n",
      "[CV] n_estimators=450, max_depth=10, learning_rate=0.0316227766017 ...\n",
      "[CV]  n_estimators=350, max_depth=10, learning_rate=0.0316227766017, score=0.836538 -  12.3s\n",
      "[CV] n_estimators=450, max_depth=10, learning_rate=0.0316227766017 ...\n",
      "[CV]  n_estimators=350, max_depth=10, learning_rate=0.0316227766017, score=0.798077 -  12.0s\n",
      "[CV] n_estimators=450, max_depth=10, learning_rate=0.0316227766017 ...\n",
      "[CV]  n_estimators=350, max_depth=10, learning_rate=0.0316227766017, score=0.710145 -  12.0s\n",
      "[CV] n_estimators=450, max_depth=10, learning_rate=0.0316227766017 ...\n",
      "[CV]  n_estimators=450, max_depth=10, learning_rate=0.0316227766017, score=0.900943 -  15.2s\n",
      "[CV] n_estimators=450, max_depth=10, learning_rate=0.0316227766017 ...\n",
      "[CV]  n_estimators=450, max_depth=10, learning_rate=0.0316227766017, score=0.894737 -  15.1s\n",
      "[CV] n_estimators=50, max_depth=3, learning_rate=0.1 .................\n",
      "[CV]  n_estimators=50, max_depth=3, learning_rate=0.1, score=0.731132 -   0.7s\n",
      "[CV] n_estimators=50, max_depth=3, learning_rate=0.1 .................\n",
      "[CV]  n_estimators=50, max_depth=3, learning_rate=0.1, score=0.712919 -   0.7s\n",
      "[CV] n_estimators=50, max_depth=3, learning_rate=0.1 .................\n",
      "[CV]  n_estimators=50, max_depth=3, learning_rate=0.1, score=0.725962 -   0.8s\n",
      "[CV] n_estimators=50, max_depth=3, learning_rate=0.1 .................\n",
      "[CV]  n_estimators=50, max_depth=3, learning_rate=0.1, score=0.711538 -   0.9s\n",
      "[CV] n_estimators=50, max_depth=3, learning_rate=0.1 .................\n",
      "[CV]  n_estimators=450, max_depth=10, learning_rate=0.0316227766017, score=0.836538 -  15.3s\n",
      "[CV] n_estimators=150, max_depth=3, learning_rate=0.1 ................\n",
      "[CV]  n_estimators=50, max_depth=3, learning_rate=0.1, score=0.714976 -   0.8s\n",
      "[CV] n_estimators=150, max_depth=3, learning_rate=0.1 ................\n",
      "[CV]  n_estimators=150, max_depth=3, learning_rate=0.1, score=0.773585 -   2.4s\n",
      "[CV] n_estimators=150, max_depth=3, learning_rate=0.1 ................\n",
      "[CV]  n_estimators=150, max_depth=3, learning_rate=0.1, score=0.765550 -   2.4s\n",
      "[CV] n_estimators=150, max_depth=3, learning_rate=0.1 ................\n",
      "[CV]  n_estimators=450, max_depth=10, learning_rate=0.0316227766017, score=0.802885 -  14.8s\n",
      "[CV] n_estimators=150, max_depth=3, learning_rate=0.1 ................\n",
      "[CV]  n_estimators=150, max_depth=3, learning_rate=0.1, score=0.759615 -   2.3s\n",
      "[CV] n_estimators=250, max_depth=3, learning_rate=0.1 ................\n",
      "[CV]  n_estimators=150, max_depth=3, learning_rate=0.1, score=0.735577 -   2.3s\n",
      "[CV] n_estimators=250, max_depth=3, learning_rate=0.1 ................\n",
      "[CV]  n_estimators=150, max_depth=3, learning_rate=0.1, score=0.700483 -   2.3s\n",
      "[CV] n_estimators=250, max_depth=3, learning_rate=0.1 ................\n",
      "[CV]  n_estimators=250, max_depth=3, learning_rate=0.1, score=0.806604 -   3.7s\n",
      "[CV] n_estimators=250, max_depth=3, learning_rate=0.1 ................\n",
      "[CV]  n_estimators=250, max_depth=3, learning_rate=0.1, score=0.808612 -   3.7s\n",
      "[CV] n_estimators=250, max_depth=3, learning_rate=0.1 ................\n",
      "[CV]  n_estimators=250, max_depth=3, learning_rate=0.1, score=0.778846 -   3.9s\n",
      "[CV] n_estimators=350, max_depth=3, learning_rate=0.1 ................\n",
      "[CV]  n_estimators=450, max_depth=10, learning_rate=0.0316227766017, score=0.710145 -  14.7s\n",
      "[CV] n_estimators=350, max_depth=3, learning_rate=0.1 ................\n"
     ]
    },
    {
     "name": "stderr",
     "output_type": "stream",
     "text": [
      "[Parallel(n_jobs=4)]: Done 413 tasks      | elapsed: 22.8min\n"
     ]
    },
    {
     "name": "stdout",
     "output_type": "stream",
     "text": [
      "[CV]  n_estimators=250, max_depth=3, learning_rate=0.1, score=0.740385 -   3.8s\n",
      "[CV] n_estimators=350, max_depth=3, learning_rate=0.1 ................\n",
      "[CV]  n_estimators=250, max_depth=3, learning_rate=0.1, score=0.690821 -   3.8s\n",
      "[CV] n_estimators=350, max_depth=3, learning_rate=0.1 ................\n",
      "[CV]  n_estimators=350, max_depth=3, learning_rate=0.1, score=0.820755 -   5.3s\n",
      "[CV] n_estimators=350, max_depth=3, learning_rate=0.1 ................\n",
      "[CV]  n_estimators=350, max_depth=3, learning_rate=0.1, score=0.818182 -   5.2s\n",
      "[CV] n_estimators=450, max_depth=3, learning_rate=0.1 ................\n",
      "[CV]  n_estimators=350, max_depth=3, learning_rate=0.1, score=0.788462 -   5.3s\n",
      "[CV] n_estimators=450, max_depth=3, learning_rate=0.1 ................\n",
      "[CV]  n_estimators=350, max_depth=3, learning_rate=0.1, score=0.764423 -   5.3s\n",
      "[CV] n_estimators=450, max_depth=3, learning_rate=0.1 ................\n",
      "[CV]  n_estimators=350, max_depth=3, learning_rate=0.1, score=0.666667 -   5.4s\n",
      "[CV] n_estimators=450, max_depth=3, learning_rate=0.1 ................\n",
      "[CV]  n_estimators=450, max_depth=3, learning_rate=0.1, score=0.820755 -   6.7s\n",
      "[CV] n_estimators=450, max_depth=3, learning_rate=0.1 ................\n",
      "[CV]  n_estimators=450, max_depth=3, learning_rate=0.1, score=0.813397 -   6.8s\n",
      "[CV] n_estimators=50, max_depth=4, learning_rate=0.1 .................\n",
      "[CV]  n_estimators=450, max_depth=3, learning_rate=0.1, score=0.778846 -   6.8s\n",
      "[CV] n_estimators=50, max_depth=4, learning_rate=0.1 .................\n",
      "[CV]  n_estimators=50, max_depth=4, learning_rate=0.1, score=0.764151 -   1.0s\n",
      "[CV] n_estimators=50, max_depth=4, learning_rate=0.1 .................\n",
      "[CV]  n_estimators=50, max_depth=4, learning_rate=0.1, score=0.765550 -   1.0s\n",
      "[CV] n_estimators=50, max_depth=4, learning_rate=0.1 .................\n",
      "[CV]  n_estimators=50, max_depth=4, learning_rate=0.1, score=0.750000 -   1.0s\n",
      "[CV] n_estimators=50, max_depth=4, learning_rate=0.1 .................\n",
      "[CV]  n_estimators=50, max_depth=4, learning_rate=0.1, score=0.721154 -   1.0s\n",
      "[CV] n_estimators=150, max_depth=4, learning_rate=0.1 ................\n",
      "[CV]  n_estimators=450, max_depth=3, learning_rate=0.1, score=0.774038 -   6.9s\n",
      "[CV] n_estimators=150, max_depth=4, learning_rate=0.1 ................\n",
      "[CV]  n_estimators=50, max_depth=4, learning_rate=0.1, score=0.700483 -   0.9s\n",
      "[CV] n_estimators=150, max_depth=4, learning_rate=0.1 ................\n",
      "[CV]  n_estimators=450, max_depth=3, learning_rate=0.1, score=0.647343 -   6.9s\n",
      "[CV] n_estimators=150, max_depth=4, learning_rate=0.1 ................\n",
      "[CV]  n_estimators=150, max_depth=4, learning_rate=0.1, score=0.830189 -   2.9s\n",
      "[CV] n_estimators=150, max_depth=4, learning_rate=0.1 ................\n",
      "[CV]  n_estimators=150, max_depth=4, learning_rate=0.1, score=0.827751 -   2.9s\n",
      "[CV] n_estimators=250, max_depth=4, learning_rate=0.1 ................\n",
      "[CV]  n_estimators=150, max_depth=4, learning_rate=0.1, score=0.812500 -   2.9s\n",
      "[CV] n_estimators=250, max_depth=4, learning_rate=0.1 ................\n",
      "[CV]  n_estimators=150, max_depth=4, learning_rate=0.1, score=0.764423 -   2.9s\n",
      "[CV] n_estimators=250, max_depth=4, learning_rate=0.1 ................\n",
      "[CV]  n_estimators=150, max_depth=4, learning_rate=0.1, score=0.700483 -   2.9s\n",
      "[CV] n_estimators=250, max_depth=4, learning_rate=0.1 ................\n",
      "[CV]  n_estimators=250, max_depth=4, learning_rate=0.1, score=0.863208 -   4.7s\n",
      "[CV] n_estimators=250, max_depth=4, learning_rate=0.1 ................\n",
      "[CV]  n_estimators=250, max_depth=4, learning_rate=0.1, score=0.846890 -   4.6s\n",
      "[CV] n_estimators=350, max_depth=4, learning_rate=0.1 ................\n",
      "[CV]  n_estimators=250, max_depth=4, learning_rate=0.1, score=0.817308 -   4.6s\n",
      "[CV] n_estimators=350, max_depth=4, learning_rate=0.1 ................\n",
      "[CV]  n_estimators=250, max_depth=4, learning_rate=0.1, score=0.769231 -   4.8s\n",
      "[CV] n_estimators=350, max_depth=4, learning_rate=0.1 ................\n",
      "[CV]  n_estimators=250, max_depth=4, learning_rate=0.1, score=0.681159 -   5.3s\n",
      "[CV] n_estimators=350, max_depth=4, learning_rate=0.1 ................\n",
      "[CV]  n_estimators=350, max_depth=4, learning_rate=0.1, score=0.886792 -   7.3s\n",
      "[CV] n_estimators=350, max_depth=4, learning_rate=0.1 ................\n",
      "[CV]  n_estimators=350, max_depth=4, learning_rate=0.1, score=0.851675 -   7.5s\n",
      "[CV] n_estimators=450, max_depth=4, learning_rate=0.1 ................\n"
     ]
    },
    {
     "name": "stderr",
     "output_type": "stream",
     "text": [
      "[Parallel(n_jobs=4)]: Done 442 tasks      | elapsed: 23.4min\n"
     ]
    },
    {
     "name": "stdout",
     "output_type": "stream",
     "text": [
      "[CV]  n_estimators=350, max_depth=4, learning_rate=0.1, score=0.817308 -   7.4s\n",
      "[CV] n_estimators=450, max_depth=4, learning_rate=0.1 ................\n",
      "[CV]  n_estimators=350, max_depth=4, learning_rate=0.1, score=0.783654 -   6.9s\n",
      "[CV] n_estimators=450, max_depth=4, learning_rate=0.1 ................\n",
      "[CV]  n_estimators=350, max_depth=4, learning_rate=0.1, score=0.671498 -   6.8s\n",
      "[CV] n_estimators=450, max_depth=4, learning_rate=0.1 ................\n",
      "[CV]  n_estimators=450, max_depth=4, learning_rate=0.1, score=0.882075 -   8.5s\n",
      "[CV] n_estimators=450, max_depth=4, learning_rate=0.1 ................\n",
      "[CV]  n_estimators=450, max_depth=4, learning_rate=0.1, score=0.861244 -   8.6s\n",
      "[CV] n_estimators=50, max_depth=5, learning_rate=0.1 .................\n",
      "[CV]  n_estimators=50, max_depth=5, learning_rate=0.1, score=0.797170 -   1.1s\n",
      "[CV] n_estimators=50, max_depth=5, learning_rate=0.1 .................\n",
      "[CV]  n_estimators=450, max_depth=4, learning_rate=0.1, score=0.812500 -   8.5s\n",
      "[CV] n_estimators=50, max_depth=5, learning_rate=0.1 .................\n",
      "[CV]  n_estimators=50, max_depth=5, learning_rate=0.1, score=0.770335 -   1.1s\n",
      "[CV] n_estimators=50, max_depth=5, learning_rate=0.1 .................\n",
      "[CV]  n_estimators=50, max_depth=5, learning_rate=0.1, score=0.788462 -   1.1s\n",
      "[CV] n_estimators=50, max_depth=5, learning_rate=0.1 .................\n",
      "[CV]  n_estimators=50, max_depth=5, learning_rate=0.1, score=0.764423 -   1.1s\n",
      "[CV] n_estimators=150, max_depth=5, learning_rate=0.1 ................\n",
      "[CV]  n_estimators=450, max_depth=4, learning_rate=0.1, score=0.783654 -   8.2s\n",
      "[CV] n_estimators=150, max_depth=5, learning_rate=0.1 ................\n",
      "[CV]  n_estimators=50, max_depth=5, learning_rate=0.1, score=0.685990 -   1.1s\n",
      "[CV] n_estimators=150, max_depth=5, learning_rate=0.1 ................\n",
      "[CV]  n_estimators=150, max_depth=5, learning_rate=0.1, score=0.858491 -   3.3s\n",
      "[CV] n_estimators=150, max_depth=5, learning_rate=0.1 ................\n",
      "[CV]  n_estimators=150, max_depth=5, learning_rate=0.1, score=0.842105 -   3.2s\n",
      "[CV] n_estimators=150, max_depth=5, learning_rate=0.1 ................\n",
      "[CV]  n_estimators=450, max_depth=4, learning_rate=0.1, score=0.681159 -   8.0s\n",
      "[CV] n_estimators=250, max_depth=5, learning_rate=0.1 ................\n",
      "[CV]  n_estimators=150, max_depth=5, learning_rate=0.1, score=0.846154 -   3.3s\n",
      "[CV] n_estimators=250, max_depth=5, learning_rate=0.1 ................\n",
      "[CV]  n_estimators=150, max_depth=5, learning_rate=0.1, score=0.802885 -   3.3s\n",
      "[CV] n_estimators=250, max_depth=5, learning_rate=0.1 ................\n",
      "[CV]  n_estimators=150, max_depth=5, learning_rate=0.1, score=0.685990 -   3.3s\n",
      "[CV] n_estimators=250, max_depth=5, learning_rate=0.1 ................\n",
      "[CV]  n_estimators=250, max_depth=5, learning_rate=0.1, score=0.867925 -   5.3s\n",
      "[CV] n_estimators=250, max_depth=5, learning_rate=0.1 ................\n",
      "[CV]  n_estimators=250, max_depth=5, learning_rate=0.1, score=0.861244 -   5.3s\n",
      "[CV] n_estimators=350, max_depth=5, learning_rate=0.1 ................\n",
      "[CV]  n_estimators=250, max_depth=5, learning_rate=0.1, score=0.841346 -   5.4s\n",
      "[CV] n_estimators=350, max_depth=5, learning_rate=0.1 ................\n",
      "[CV]  n_estimators=250, max_depth=5, learning_rate=0.1, score=0.802885 -   5.3s\n",
      "[CV] n_estimators=350, max_depth=5, learning_rate=0.1 ................\n",
      "[CV]  n_estimators=250, max_depth=5, learning_rate=0.1, score=0.671498 -   5.3s\n",
      "[CV] n_estimators=350, max_depth=5, learning_rate=0.1 ................\n",
      "[CV]  n_estimators=350, max_depth=5, learning_rate=0.1, score=0.872642 -   7.2s\n",
      "[CV] n_estimators=350, max_depth=5, learning_rate=0.1 ................\n",
      "[CV]  n_estimators=350, max_depth=5, learning_rate=0.1, score=0.875598 -   7.1s\n",
      "[CV] n_estimators=450, max_depth=5, learning_rate=0.1 ................\n",
      "[CV]  n_estimators=350, max_depth=5, learning_rate=0.1, score=0.836538 -   7.3s\n",
      "[CV] n_estimators=450, max_depth=5, learning_rate=0.1 ................\n",
      "[CV]  n_estimators=350, max_depth=5, learning_rate=0.1, score=0.807692 -   7.1s\n",
      "[CV] n_estimators=450, max_depth=5, learning_rate=0.1 ................\n",
      "[CV]  n_estimators=350, max_depth=5, learning_rate=0.1, score=0.681159 -   7.2s\n",
      "[CV] n_estimators=450, max_depth=5, learning_rate=0.1 ................\n",
      "[CV]  n_estimators=450, max_depth=5, learning_rate=0.1, score=0.872642 -   9.1s\n",
      "[CV] n_estimators=450, max_depth=5, learning_rate=0.1 ................\n",
      "[CV]  n_estimators=450, max_depth=5, learning_rate=0.1, score=0.880383 -   8.9s\n",
      "[CV] n_estimators=50, max_depth=6, learning_rate=0.1 .................\n",
      "[CV]  n_estimators=50, max_depth=6, learning_rate=0.1, score=0.844340 -   1.3s\n",
      "[CV] n_estimators=50, max_depth=6, learning_rate=0.1 .................\n"
     ]
    },
    {
     "name": "stderr",
     "output_type": "stream",
     "text": [
      "[Parallel(n_jobs=4)]: Done 473 tasks      | elapsed: 24.1min\n"
     ]
    },
    {
     "name": "stdout",
     "output_type": "stream",
     "text": [
      "[CV]  n_estimators=450, max_depth=5, learning_rate=0.1, score=0.822115 -   9.0s\n",
      "[CV] n_estimators=50, max_depth=6, learning_rate=0.1 .................\n",
      "[CV]  n_estimators=50, max_depth=6, learning_rate=0.1, score=0.799043 -   1.3s\n",
      "[CV] n_estimators=50, max_depth=6, learning_rate=0.1 .................\n",
      "[CV]  n_estimators=50, max_depth=6, learning_rate=0.1, score=0.807692 -   1.3s\n",
      "[CV] n_estimators=50, max_depth=6, learning_rate=0.1 .................\n",
      "[CV]  n_estimators=50, max_depth=6, learning_rate=0.1, score=0.788462 -   1.3s\n",
      "[CV] n_estimators=150, max_depth=6, learning_rate=0.1 ................\n",
      "[CV]  n_estimators=450, max_depth=5, learning_rate=0.1, score=0.802885 -   8.8s\n",
      "[CV] n_estimators=150, max_depth=6, learning_rate=0.1 ................\n",
      "[CV]  n_estimators=50, max_depth=6, learning_rate=0.1, score=0.685990 -   1.3s\n",
      "[CV] n_estimators=150, max_depth=6, learning_rate=0.1 ................\n",
      "[CV]  n_estimators=150, max_depth=6, learning_rate=0.1, score=0.856459 -   3.7s\n",
      "[CV] n_estimators=150, max_depth=6, learning_rate=0.1 ................\n",
      "[CV]  n_estimators=150, max_depth=6, learning_rate=0.1, score=0.867925 -   3.8s\n",
      "[CV] n_estimators=150, max_depth=6, learning_rate=0.1 ................\n",
      "[CV]  n_estimators=450, max_depth=5, learning_rate=0.1, score=0.681159 -   8.8s\n",
      "[CV] n_estimators=250, max_depth=6, learning_rate=0.1 ................\n",
      "[CV]  n_estimators=150, max_depth=6, learning_rate=0.1, score=0.850962 -   3.8s\n",
      "[CV] n_estimators=250, max_depth=6, learning_rate=0.1 ................\n",
      "[CV]  n_estimators=150, max_depth=6, learning_rate=0.1, score=0.807692 -   3.7s\n",
      "[CV] n_estimators=250, max_depth=6, learning_rate=0.1 ................\n",
      "[CV]  n_estimators=150, max_depth=6, learning_rate=0.1, score=0.690821 -   3.7s\n",
      "[CV] n_estimators=250, max_depth=6, learning_rate=0.1 ................\n",
      "[CV]  n_estimators=250, max_depth=6, learning_rate=0.1, score=0.882075 -   5.9s\n",
      "[CV] n_estimators=250, max_depth=6, learning_rate=0.1 ................\n",
      "[CV]  n_estimators=250, max_depth=6, learning_rate=0.1, score=0.880383 -   5.8s\n",
      "[CV] n_estimators=350, max_depth=6, learning_rate=0.1 ................\n",
      "[CV]  n_estimators=250, max_depth=6, learning_rate=0.1, score=0.850962 -   5.9s\n",
      "[CV] n_estimators=350, max_depth=6, learning_rate=0.1 ................\n",
      "[CV]  n_estimators=250, max_depth=6, learning_rate=0.1, score=0.812500 -   5.8s\n",
      "[CV] n_estimators=350, max_depth=6, learning_rate=0.1 ................\n",
      "[CV]  n_estimators=250, max_depth=6, learning_rate=0.1, score=0.690821 -   5.9s\n",
      "[CV] n_estimators=350, max_depth=6, learning_rate=0.1 ................\n",
      "[CV]  n_estimators=350, max_depth=6, learning_rate=0.1, score=0.877358 -   7.9s\n",
      "[CV] n_estimators=350, max_depth=6, learning_rate=0.1 ................\n",
      "[CV]  n_estimators=350, max_depth=6, learning_rate=0.1, score=0.846154 -   7.8s\n",
      "[CV] n_estimators=450, max_depth=6, learning_rate=0.1 ................\n",
      "[CV]  n_estimators=350, max_depth=6, learning_rate=0.1, score=0.889952 -   7.9s\n",
      "[CV] n_estimators=450, max_depth=6, learning_rate=0.1 ................\n",
      "[CV]  n_estimators=350, max_depth=6, learning_rate=0.1, score=0.817308 -   7.8s\n",
      "[CV] n_estimators=450, max_depth=6, learning_rate=0.1 ................\n",
      "[CV]  n_estimators=350, max_depth=6, learning_rate=0.1, score=0.695652 -   7.7s\n",
      "[CV] n_estimators=450, max_depth=6, learning_rate=0.1 ................\n",
      "[CV]  n_estimators=450, max_depth=6, learning_rate=0.1, score=0.877358 -   9.6s\n",
      "[CV] n_estimators=450, max_depth=6, learning_rate=0.1 ................\n",
      "[CV]  n_estimators=450, max_depth=6, learning_rate=0.1, score=0.894737 -   9.8s\n",
      "[CV] n_estimators=50, max_depth=7, learning_rate=0.1 .................\n",
      "[CV]  n_estimators=50, max_depth=7, learning_rate=0.1, score=0.849057 -   1.6s\n",
      "[CV] n_estimators=50, max_depth=7, learning_rate=0.1 .................\n",
      "[CV]  n_estimators=450, max_depth=6, learning_rate=0.1, score=0.850962 -   9.9s\n",
      "[CV] n_estimators=50, max_depth=7, learning_rate=0.1 .................\n",
      "[CV]  n_estimators=50, max_depth=7, learning_rate=0.1, score=0.827751 -   1.5s\n",
      "[CV] n_estimators=50, max_depth=7, learning_rate=0.1 .................\n",
      "[CV]  n_estimators=50, max_depth=7, learning_rate=0.1, score=0.812500 -   1.5s\n",
      "[CV] n_estimators=50, max_depth=7, learning_rate=0.1 .................\n",
      "[CV]  n_estimators=450, max_depth=6, learning_rate=0.1, score=0.812500 -   9.6s\n",
      "[CV] n_estimators=150, max_depth=7, learning_rate=0.1 ................\n",
      "[CV]  n_estimators=50, max_depth=7, learning_rate=0.1, score=0.778846 -   1.5s\n",
      "[CV] n_estimators=150, max_depth=7, learning_rate=0.1 ................\n",
      "[CV]  n_estimators=50, max_depth=7, learning_rate=0.1, score=0.690821 -   1.5s\n",
      "[CV] n_estimators=150, max_depth=7, learning_rate=0.1 ................\n"
     ]
    },
    {
     "name": "stderr",
     "output_type": "stream",
     "text": [
      "[Parallel(n_jobs=4)]: Done 504 tasks      | elapsed: 24.7min\n"
     ]
    },
    {
     "name": "stdout",
     "output_type": "stream",
     "text": [
      "[CV]  n_estimators=150, max_depth=7, learning_rate=0.1, score=0.900943 -   4.1s\n",
      "[CV] n_estimators=150, max_depth=7, learning_rate=0.1 ................\n",
      "[CV]  n_estimators=150, max_depth=7, learning_rate=0.1, score=0.875598 -   4.2s\n",
      "[CV] n_estimators=150, max_depth=7, learning_rate=0.1 ................\n",
      "[CV]  n_estimators=450, max_depth=6, learning_rate=0.1, score=0.690821 -   9.6s\n",
      "[CV] n_estimators=250, max_depth=7, learning_rate=0.1 ................\n",
      "[CV]  n_estimators=150, max_depth=7, learning_rate=0.1, score=0.855769 -   4.2s\n",
      "[CV] n_estimators=250, max_depth=7, learning_rate=0.1 ................\n",
      "[CV]  n_estimators=150, max_depth=7, learning_rate=0.1, score=0.793269 -   4.1s\n",
      "[CV] n_estimators=250, max_depth=7, learning_rate=0.1 ................\n",
      "[CV]  n_estimators=150, max_depth=7, learning_rate=0.1, score=0.690821 -   4.1s\n",
      "[CV] n_estimators=250, max_depth=7, learning_rate=0.1 ................\n",
      "[CV]  n_estimators=250, max_depth=7, learning_rate=0.1, score=0.905660 -   6.8s\n",
      "[CV] n_estimators=250, max_depth=7, learning_rate=0.1 ................\n",
      "[CV]  n_estimators=250, max_depth=7, learning_rate=0.1, score=0.894737 -   6.9s\n",
      "[CV] n_estimators=350, max_depth=7, learning_rate=0.1 ................\n",
      "[CV]  n_estimators=250, max_depth=7, learning_rate=0.1, score=0.798077 -   6.8s\n",
      "[CV] n_estimators=350, max_depth=7, learning_rate=0.1 ................\n",
      "[CV]  n_estimators=250, max_depth=7, learning_rate=0.1, score=0.860577 -   7.1s\n",
      "[CV] n_estimators=350, max_depth=7, learning_rate=0.1 ................\n",
      "[CV]  n_estimators=250, max_depth=7, learning_rate=0.1, score=0.690821 -   6.7s\n",
      "[CV] n_estimators=350, max_depth=7, learning_rate=0.1 ................\n",
      "[CV]  n_estimators=350, max_depth=7, learning_rate=0.1, score=0.886792 -   9.0s\n",
      "[CV] n_estimators=350, max_depth=7, learning_rate=0.1 ................\n",
      "[CV]  n_estimators=350, max_depth=7, learning_rate=0.1, score=0.894737 -   8.9s\n",
      "[CV] n_estimators=450, max_depth=7, learning_rate=0.1 ................\n",
      "[CV]  n_estimators=350, max_depth=7, learning_rate=0.1, score=0.860577 -   9.1s\n",
      "[CV] n_estimators=450, max_depth=7, learning_rate=0.1 ................\n",
      "[CV]  n_estimators=350, max_depth=7, learning_rate=0.1, score=0.807692 -   8.5s\n",
      "[CV] n_estimators=450, max_depth=7, learning_rate=0.1 ................\n",
      "[CV]  n_estimators=350, max_depth=7, learning_rate=0.1, score=0.700483 -   8.4s\n",
      "[CV] n_estimators=450, max_depth=7, learning_rate=0.1 ................\n",
      "[CV]  n_estimators=450, max_depth=7, learning_rate=0.1, score=0.891509 -  10.4s\n",
      "[CV] n_estimators=450, max_depth=7, learning_rate=0.1 ................\n",
      "[CV]  n_estimators=450, max_depth=7, learning_rate=0.1, score=0.894737 -  10.4s\n",
      "[CV] n_estimators=50, max_depth=8, learning_rate=0.1 .................\n",
      "[CV]  n_estimators=50, max_depth=8, learning_rate=0.1, score=0.877358 -   1.6s\n",
      "[CV] n_estimators=50, max_depth=8, learning_rate=0.1 .................\n",
      "[CV]  n_estimators=450, max_depth=7, learning_rate=0.1, score=0.865385 -  10.4s\n",
      "[CV] n_estimators=50, max_depth=8, learning_rate=0.1 .................\n",
      "[CV]  n_estimators=50, max_depth=8, learning_rate=0.1, score=0.837321 -   1.6s\n",
      "[CV] n_estimators=50, max_depth=8, learning_rate=0.1 .................\n",
      "[CV]  n_estimators=50, max_depth=8, learning_rate=0.1, score=0.841346 -   1.6s\n",
      "[CV] n_estimators=50, max_depth=8, learning_rate=0.1 .................\n",
      "[CV]  n_estimators=50, max_depth=8, learning_rate=0.1, score=0.788462 -   1.6s\n",
      "[CV] n_estimators=150, max_depth=8, learning_rate=0.1 ................\n",
      "[CV]  n_estimators=450, max_depth=7, learning_rate=0.1, score=0.812500 -  10.2s\n",
      "[CV] n_estimators=150, max_depth=8, learning_rate=0.1 ................\n",
      "[CV]  n_estimators=50, max_depth=8, learning_rate=0.1, score=0.705314 -   1.6s\n",
      "[CV] n_estimators=150, max_depth=8, learning_rate=0.1 ................\n",
      "[CV]  n_estimators=150, max_depth=8, learning_rate=0.1, score=0.900943 -   4.4s\n",
      "[CV] n_estimators=150, max_depth=8, learning_rate=0.1 ................\n",
      "[CV]  n_estimators=150, max_depth=8, learning_rate=0.1, score=0.894737 -   4.5s\n",
      "[CV] n_estimators=150, max_depth=8, learning_rate=0.1 ................\n",
      "[CV]  n_estimators=450, max_depth=7, learning_rate=0.1, score=0.685990 -  10.0s\n",
      "[CV] n_estimators=250, max_depth=8, learning_rate=0.1 ................\n",
      "[CV]  n_estimators=150, max_depth=8, learning_rate=0.1, score=0.855769 -   4.5s\n",
      "[CV] n_estimators=250, max_depth=8, learning_rate=0.1 ................\n",
      "[CV]  n_estimators=150, max_depth=8, learning_rate=0.1, score=0.802885 -   4.3s\n",
      "[CV] n_estimators=250, max_depth=8, learning_rate=0.1 ................\n",
      "[CV]  n_estimators=150, max_depth=8, learning_rate=0.1, score=0.700483 -   4.3s\n",
      "[CV] n_estimators=250, max_depth=8, learning_rate=0.1 ................\n",
      "[CV]  n_estimators=250, max_depth=8, learning_rate=0.1, score=0.900943 -   6.8s\n",
      "[CV] n_estimators=250, max_depth=8, learning_rate=0.1 ................\n",
      "[CV]  n_estimators=250, max_depth=8, learning_rate=0.1, score=0.904306 -   6.8s\n",
      "[CV] n_estimators=350, max_depth=8, learning_rate=0.1 ................\n"
     ]
    },
    {
     "name": "stderr",
     "output_type": "stream",
     "text": [
      "[Parallel(n_jobs=4)]: Done 537 tasks      | elapsed: 25.6min\n"
     ]
    },
    {
     "name": "stdout",
     "output_type": "stream",
     "text": [
      "[CV]  n_estimators=250, max_depth=8, learning_rate=0.1, score=0.802885 -   6.6s\n",
      "[CV] n_estimators=350, max_depth=8, learning_rate=0.1 ................\n",
      "[CV]  n_estimators=250, max_depth=8, learning_rate=0.1, score=0.860577 -   6.8s\n",
      "[CV] n_estimators=350, max_depth=8, learning_rate=0.1 ................\n",
      "[CV]  n_estimators=250, max_depth=8, learning_rate=0.1, score=0.700483 -   6.6s\n",
      "[CV] n_estimators=350, max_depth=8, learning_rate=0.1 ................\n",
      "[CV]  n_estimators=350, max_depth=8, learning_rate=0.1, score=0.900943 -   8.9s\n",
      "[CV] n_estimators=350, max_depth=8, learning_rate=0.1 ................\n",
      "[CV]  n_estimators=350, max_depth=8, learning_rate=0.1, score=0.894737 -   9.0s\n",
      "[CV] n_estimators=450, max_depth=8, learning_rate=0.1 ................\n",
      "[CV]  n_estimators=350, max_depth=8, learning_rate=0.1, score=0.860577 -   8.9s\n",
      "[CV] n_estimators=450, max_depth=8, learning_rate=0.1 ................\n",
      "[CV]  n_estimators=350, max_depth=8, learning_rate=0.1, score=0.802885 -   8.6s\n",
      "[CV] n_estimators=450, max_depth=8, learning_rate=0.1 ................\n",
      "[CV]  n_estimators=350, max_depth=8, learning_rate=0.1, score=0.700483 -   8.5s\n",
      "[CV] n_estimators=450, max_depth=8, learning_rate=0.1 ................\n",
      "[CV]  n_estimators=450, max_depth=8, learning_rate=0.1, score=0.891509 -  10.9s\n",
      "[CV] n_estimators=450, max_depth=8, learning_rate=0.1 ................\n",
      "[CV]  n_estimators=450, max_depth=8, learning_rate=0.1, score=0.899522 -  10.8s\n",
      "[CV] n_estimators=50, max_depth=9, learning_rate=0.1 .................\n",
      "[CV]  n_estimators=50, max_depth=9, learning_rate=0.1, score=0.872642 -   1.9s\n",
      "[CV] n_estimators=50, max_depth=9, learning_rate=0.1 .................\n",
      "[CV]  n_estimators=450, max_depth=8, learning_rate=0.1, score=0.865385 -  11.1s\n",
      "[CV] n_estimators=50, max_depth=9, learning_rate=0.1 .................\n",
      "[CV]  n_estimators=50, max_depth=9, learning_rate=0.1, score=0.856459 -   1.9s\n",
      "[CV] n_estimators=50, max_depth=9, learning_rate=0.1 .................\n",
      "[CV]  n_estimators=50, max_depth=9, learning_rate=0.1, score=0.826923 -   1.9s\n",
      "[CV] n_estimators=50, max_depth=9, learning_rate=0.1 .................\n",
      "[CV]  n_estimators=450, max_depth=8, learning_rate=0.1, score=0.807692 -  11.2s\n",
      "[CV] n_estimators=150, max_depth=9, learning_rate=0.1 ................\n",
      "[CV]  n_estimators=50, max_depth=9, learning_rate=0.1, score=0.783654 -   1.9s\n",
      "[CV] n_estimators=150, max_depth=9, learning_rate=0.1 ................\n",
      "[CV]  n_estimators=50, max_depth=9, learning_rate=0.1, score=0.681159 -   1.8s\n",
      "[CV] n_estimators=150, max_depth=9, learning_rate=0.1 ................\n",
      "[CV]  n_estimators=150, max_depth=9, learning_rate=0.1, score=0.896226 -   5.2s\n",
      "[CV] n_estimators=150, max_depth=9, learning_rate=0.1 ................\n",
      "[CV]  n_estimators=150, max_depth=9, learning_rate=0.1, score=0.904306 -   5.2s\n",
      "[CV] n_estimators=150, max_depth=9, learning_rate=0.1 ................\n",
      "[CV]  n_estimators=450, max_depth=8, learning_rate=0.1, score=0.705314 -  11.4s\n",
      "[CV] n_estimators=250, max_depth=9, learning_rate=0.1 ................\n",
      "[CV]  n_estimators=150, max_depth=9, learning_rate=0.1, score=0.841346 -   5.2s\n",
      "[CV] n_estimators=250, max_depth=9, learning_rate=0.1 ................\n",
      "[CV]  n_estimators=150, max_depth=9, learning_rate=0.1, score=0.802885 -   4.7s\n",
      "[CV] n_estimators=250, max_depth=9, learning_rate=0.1 ................\n",
      "[CV]  n_estimators=150, max_depth=9, learning_rate=0.1, score=0.705314 -   4.6s\n",
      "[CV] n_estimators=250, max_depth=9, learning_rate=0.1 ................\n",
      "[CV]  n_estimators=250, max_depth=9, learning_rate=0.1, score=0.905660 -   7.4s\n",
      "[CV] n_estimators=250, max_depth=9, learning_rate=0.1 ................\n",
      "[CV]  n_estimators=250, max_depth=9, learning_rate=0.1, score=0.899522 -   7.3s\n",
      "[CV] n_estimators=350, max_depth=9, learning_rate=0.1 ................\n",
      "[CV]  n_estimators=250, max_depth=9, learning_rate=0.1, score=0.836538 -   7.3s\n",
      "[CV] n_estimators=350, max_depth=9, learning_rate=0.1 ................\n",
      "[CV]  n_estimators=250, max_depth=9, learning_rate=0.1, score=0.807692 -   7.0s\n",
      "[CV] n_estimators=350, max_depth=9, learning_rate=0.1 ................\n",
      "[CV]  n_estimators=250, max_depth=9, learning_rate=0.1, score=0.700483 -   7.4s\n",
      "[CV] n_estimators=350, max_depth=9, learning_rate=0.1 ................\n",
      "[CV]  n_estimators=350, max_depth=9, learning_rate=0.1, score=0.891509 -  10.2s\n",
      "[CV] n_estimators=350, max_depth=9, learning_rate=0.1 ................\n",
      "[CV]  n_estimators=350, max_depth=9, learning_rate=0.1, score=0.894737 -  10.6s\n",
      "[CV] n_estimators=450, max_depth=9, learning_rate=0.1 ................\n",
      "[CV]  n_estimators=350, max_depth=9, learning_rate=0.1, score=0.836538 -  10.8s\n",
      "[CV] n_estimators=450, max_depth=9, learning_rate=0.1 ................\n",
      "[CV]  n_estimators=350, max_depth=9, learning_rate=0.1, score=0.807692 -  10.1s\n",
      "[CV] n_estimators=450, max_depth=9, learning_rate=0.1 ................\n",
      "[CV]  n_estimators=350, max_depth=9, learning_rate=0.1, score=0.695652 -   9.9s\n",
      "[CV] n_estimators=450, max_depth=9, learning_rate=0.1 ................\n"
     ]
    },
    {
     "name": "stderr",
     "output_type": "stream",
     "text": [
      "[Parallel(n_jobs=4)]: Done 570 tasks      | elapsed: 26.6min\n"
     ]
    },
    {
     "name": "stdout",
     "output_type": "stream",
     "text": [
      "[CV]  n_estimators=450, max_depth=9, learning_rate=0.1, score=0.891509 -  12.7s\n",
      "[CV] n_estimators=450, max_depth=9, learning_rate=0.1 ................\n",
      "[CV]  n_estimators=450, max_depth=9, learning_rate=0.1, score=0.894737 -  12.4s\n",
      "[CV] n_estimators=50, max_depth=10, learning_rate=0.1 ................\n",
      "[CV]  n_estimators=50, max_depth=10, learning_rate=0.1, score=0.896226 -   2.1s\n",
      "[CV] n_estimators=50, max_depth=10, learning_rate=0.1 ................\n",
      "[CV]  n_estimators=450, max_depth=9, learning_rate=0.1, score=0.836538 -  13.0s\n",
      "[CV] n_estimators=50, max_depth=10, learning_rate=0.1 ................\n",
      "[CV]  n_estimators=50, max_depth=10, learning_rate=0.1, score=0.866029 -   2.2s\n",
      "[CV] n_estimators=50, max_depth=10, learning_rate=0.1 ................\n",
      "[CV]  n_estimators=450, max_depth=9, learning_rate=0.1, score=0.812500 -  12.2s\n",
      "[CV] n_estimators=50, max_depth=10, learning_rate=0.1 ................\n",
      "[CV]  n_estimators=50, max_depth=10, learning_rate=0.1, score=0.831731 -   2.2s\n",
      "[CV] n_estimators=150, max_depth=10, learning_rate=0.1 ...............\n",
      "[CV]  n_estimators=50, max_depth=10, learning_rate=0.1, score=0.769231 -   2.1s\n",
      "[CV] n_estimators=150, max_depth=10, learning_rate=0.1 ...............\n",
      "[CV]  n_estimators=50, max_depth=10, learning_rate=0.1, score=0.700483 -   2.1s\n",
      "[CV] n_estimators=150, max_depth=10, learning_rate=0.1 ...............\n",
      "[CV]  n_estimators=150, max_depth=10, learning_rate=0.1, score=0.896226 -   5.7s\n",
      "[CV] n_estimators=150, max_depth=10, learning_rate=0.1 ...............\n",
      "[CV]  n_estimators=150, max_depth=10, learning_rate=0.1, score=0.894737 -   5.6s\n",
      "[CV] n_estimators=150, max_depth=10, learning_rate=0.1 ...............\n",
      "[CV]  n_estimators=450, max_depth=9, learning_rate=0.1, score=0.695652 -  12.5s\n",
      "[CV] n_estimators=250, max_depth=10, learning_rate=0.1 ...............\n",
      "[CV]  n_estimators=150, max_depth=10, learning_rate=0.1, score=0.846154 -   5.7s\n",
      "[CV] n_estimators=250, max_depth=10, learning_rate=0.1 ...............\n",
      "[CV]  n_estimators=150, max_depth=10, learning_rate=0.1, score=0.802885 -   5.7s\n",
      "[CV] n_estimators=250, max_depth=10, learning_rate=0.1 ...............\n",
      "[CV]  n_estimators=150, max_depth=10, learning_rate=0.1, score=0.700483 -   5.7s\n",
      "[CV] n_estimators=250, max_depth=10, learning_rate=0.1 ...............\n",
      "[CV]  n_estimators=250, max_depth=10, learning_rate=0.1, score=0.900943 -   8.3s\n",
      "[CV] n_estimators=250, max_depth=10, learning_rate=0.1 ...............\n",
      "[CV]  n_estimators=250, max_depth=10, learning_rate=0.1, score=0.904306 -   8.3s\n",
      "[CV] n_estimators=350, max_depth=10, learning_rate=0.1 ...............\n",
      "[CV]  n_estimators=250, max_depth=10, learning_rate=0.1, score=0.846154 -   7.9s\n",
      "[CV] n_estimators=350, max_depth=10, learning_rate=0.1 ...............\n",
      "[CV]  n_estimators=250, max_depth=10, learning_rate=0.1, score=0.807692 -   7.7s\n",
      "[CV] n_estimators=350, max_depth=10, learning_rate=0.1 ...............\n",
      "[CV]  n_estimators=250, max_depth=10, learning_rate=0.1, score=0.700483 -   7.6s\n",
      "[CV] n_estimators=350, max_depth=10, learning_rate=0.1 ...............\n",
      "[CV]  n_estimators=350, max_depth=10, learning_rate=0.1, score=0.900943 -  10.1s\n",
      "[CV] n_estimators=350, max_depth=10, learning_rate=0.1 ...............\n",
      "[CV]  n_estimators=350, max_depth=10, learning_rate=0.1, score=0.909091 -  10.3s\n",
      "[CV] n_estimators=450, max_depth=10, learning_rate=0.1 ...............\n",
      "[CV]  n_estimators=350, max_depth=10, learning_rate=0.1, score=0.846154 -  10.3s\n",
      "[CV] n_estimators=450, max_depth=10, learning_rate=0.1 ...............\n",
      "[CV]  n_estimators=350, max_depth=10, learning_rate=0.1, score=0.812500 -   9.5s\n",
      "[CV] n_estimators=450, max_depth=10, learning_rate=0.1 ...............\n",
      "[CV]  n_estimators=350, max_depth=10, learning_rate=0.1, score=0.700483 -   9.8s\n",
      "[CV] n_estimators=450, max_depth=10, learning_rate=0.1 ...............\n",
      "[CV]  n_estimators=450, max_depth=10, learning_rate=0.1, score=0.900943 -  11.9s\n",
      "[CV] n_estimators=450, max_depth=10, learning_rate=0.1 ...............\n",
      "[CV]  n_estimators=450, max_depth=10, learning_rate=0.1, score=0.909091 -  11.9s\n",
      "[CV]  n_estimators=450, max_depth=10, learning_rate=0.1, score=0.855769 -  11.5s\n",
      "[CV]  n_estimators=450, max_depth=10, learning_rate=0.1, score=0.812500 -   9.7s\n",
      "[CV]  n_estimators=450, max_depth=10, learning_rate=0.1, score=0.695652 -   7.1s\n"
     ]
    },
    {
     "name": "stderr",
     "output_type": "stream",
     "text": [
      "[Parallel(n_jobs=4)]: Done 600 out of 600 | elapsed: 27.6min finished\n"
     ]
    },
    {
     "data": {
      "text/plain": [
       "GridSearchCV(cv=5, error_score='raise',\n",
       "       estimator=XGBClassifier(base_score=0.5, colsample_bylevel=1, colsample_bytree=1,\n",
       "       gamma=0, learning_rate=0.1, max_delta_step=0, max_depth=3,\n",
       "       min_child_weight=1, missing=None, n_estimators=100, nthread=-1,\n",
       "       objective='binary:logistic', reg_alpha=0, reg_lambda=1,\n",
       "       scale_pos_weight=1, seed=0, silent=True, subsample=1),\n",
       "       fit_params={}, iid=True, n_jobs=4,\n",
       "       param_grid={'n_estimators': array([ 50, 150, 250, 350, 450]), 'max_depth': array([ 3,  4,  5,  6,  7,  8,  9, 10]), 'learning_rate': array([ 0.01   ,  0.03162,  0.1    ])},\n",
       "       pre_dispatch='2*n_jobs', refit=True, scoring=None, verbose=10)"
      ]
     },
     "execution_count": 370,
     "metadata": {},
     "output_type": "execute_result"
    }
   ],
   "source": [
    "params = {\n",
    "    \"max_depth\": np.arange(3, 11), \n",
    "    \"learning_rate\": np.logspace(-2, -1, 3, base=10), \n",
    "    \"n_estimators\": np.arange(50, 451, 100)\n",
    "}\n",
    "\n",
    "classifier = XGBClassifier()\n",
    "grid = GridSearchCV(classifier, param_grid=params, n_jobs=4, cv=5, verbose=10)\n",
    "grid.fit(X, Y.ix[:, 0])"
   ]
  },
  {
   "cell_type": "code",
   "execution_count": 373,
   "metadata": {
    "collapsed": false
   },
   "outputs": [
    {
     "name": "stdout",
     "output_type": "stream",
     "text": [
      "0.835249042146\n",
      "{'n_estimators': 450, 'max_depth': 10, 'learning_rate': 0.10000000000000001}\n"
     ]
    }
   ],
   "source": [
    "print(grid.best_score_)\n",
    "print(grid.best_params_)"
   ]
  },
  {
   "cell_type": "markdown",
   "metadata": {},
   "source": [
    "The more estimators the better prediction, it is clear. Furthermore it doesn't lead to overfitting, which doesn't hold for max_depth param. However, cross validation says that we can increase both parameters further. Let's try:\n",
    "(learning rate here doesn't contribute a lot to score, so let's drop it from grid_params)"
   ]
  },
  {
   "cell_type": "code",
   "execution_count": 374,
   "metadata": {
    "collapsed": false,
    "scrolled": true
   },
   "outputs": [
    {
     "name": "stdout",
     "output_type": "stream",
     "text": [
      "Fitting 5 folds for each of 35 candidates, totalling 175 fits\n",
      "[CV] n_estimators=400, max_depth=10 ..................................\n",
      "[CV] n_estimators=400, max_depth=10 ..................................\n",
      "[CV] n_estimators=400, max_depth=10 ..................................\n",
      "[CV] n_estimators=400, max_depth=10 ..................................\n",
      "[CV] ......... n_estimators=400, max_depth=10, score=0.812500 -  10.6s\n",
      "[CV] n_estimators=400, max_depth=10 ..................................\n",
      "[CV] ......... n_estimators=400, max_depth=10, score=0.909091 -  10.9s\n",
      "[CV] n_estimators=500, max_depth=10 ..................................\n",
      "[CV] ......... n_estimators=400, max_depth=10, score=0.900943 -  11.1s\n",
      "[CV] n_estimators=500, max_depth=10 ..................................\n",
      "[CV] ......... n_estimators=400, max_depth=10, score=0.855769 -  11.1s\n",
      "[CV] n_estimators=500, max_depth=10 ..................................\n",
      "[CV] ......... n_estimators=400, max_depth=10, score=0.695652 -  10.3s\n",
      "[CV] n_estimators=500, max_depth=10 ..................................\n"
     ]
    },
    {
     "name": "stderr",
     "output_type": "stream",
     "text": [
      "[Parallel(n_jobs=4)]: Done   5 tasks      | elapsed:   20.9s\n"
     ]
    },
    {
     "name": "stdout",
     "output_type": "stream",
     "text": [
      "[CV] ......... n_estimators=500, max_depth=10, score=0.900943 -  12.9s\n",
      "[CV] n_estimators=500, max_depth=10 ..................................\n",
      "[CV] ......... n_estimators=500, max_depth=10, score=0.909091 -  12.9s\n",
      "[CV] n_estimators=600, max_depth=10 ..................................\n",
      "[CV] ......... n_estimators=500, max_depth=10, score=0.855769 -  13.0s\n",
      "[CV] n_estimators=600, max_depth=10 ..................................\n",
      "[CV] ......... n_estimators=500, max_depth=10, score=0.807692 -  14.0s\n",
      "[CV] n_estimators=600, max_depth=10 ..................................\n",
      "[CV] ......... n_estimators=500, max_depth=10, score=0.695652 -  14.3s\n",
      "[CV] n_estimators=600, max_depth=10 ..................................\n"
     ]
    },
    {
     "name": "stderr",
     "output_type": "stream",
     "text": [
      "[Parallel(n_jobs=4)]: Done  10 tasks      | elapsed:   38.2s\n"
     ]
    },
    {
     "name": "stdout",
     "output_type": "stream",
     "text": [
      "[CV] ......... n_estimators=600, max_depth=10, score=0.891509 -  16.7s\n",
      "[CV] n_estimators=600, max_depth=10 ..................................\n",
      "[CV] ......... n_estimators=600, max_depth=10, score=0.899522 -  16.7s\n",
      "[CV] n_estimators=700, max_depth=10 ..................................\n",
      "[CV] ......... n_estimators=600, max_depth=10, score=0.855769 -  15.8s\n",
      "[CV] n_estimators=700, max_depth=10 ..................................\n",
      "[CV] ......... n_estimators=600, max_depth=10, score=0.807692 -  15.4s\n",
      "[CV] n_estimators=700, max_depth=10 ..................................\n",
      "[CV] ......... n_estimators=600, max_depth=10, score=0.695652 -  15.4s\n",
      "[CV] n_estimators=700, max_depth=10 ..................................\n",
      "[CV] ......... n_estimators=700, max_depth=10, score=0.896226 -  18.0s\n",
      "[CV] n_estimators=700, max_depth=10 ..................................\n",
      "[CV] ......... n_estimators=700, max_depth=10, score=0.899522 -  17.3s\n",
      "[CV] n_estimators=800, max_depth=10 ..................................\n"
     ]
    },
    {
     "name": "stderr",
     "output_type": "stream",
     "text": [
      "[Parallel(n_jobs=4)]: Done  17 tasks      | elapsed:  1.1min\n"
     ]
    },
    {
     "name": "stdout",
     "output_type": "stream",
     "text": [
      "[CV] ......... n_estimators=700, max_depth=10, score=0.855769 -  17.3s\n",
      "[CV] n_estimators=800, max_depth=10 ..................................\n",
      "[CV] ......... n_estimators=700, max_depth=10, score=0.812500 -  16.3s\n",
      "[CV] n_estimators=800, max_depth=10 ..................................\n",
      "[CV] ......... n_estimators=700, max_depth=10, score=0.695652 -  16.0s\n",
      "[CV] n_estimators=800, max_depth=10 ..................................\n",
      "[CV] ......... n_estimators=800, max_depth=10, score=0.891509 -  19.4s\n",
      "[CV] n_estimators=800, max_depth=10 ..................................\n",
      "[CV] ......... n_estimators=800, max_depth=10, score=0.904306 -  18.9s\n",
      "[CV] n_estimators=900, max_depth=10 ..................................\n",
      "[CV] ......... n_estimators=800, max_depth=10, score=0.860577 -  19.1s\n",
      "[CV] n_estimators=900, max_depth=10 ..................................\n",
      "[CV] ......... n_estimators=800, max_depth=10, score=0.802885 -  18.2s\n",
      "[CV] n_estimators=900, max_depth=10 ..................................\n"
     ]
    },
    {
     "name": "stderr",
     "output_type": "stream",
     "text": [
      "[Parallel(n_jobs=4)]: Done  24 tasks      | elapsed:  1.6min\n"
     ]
    },
    {
     "name": "stdout",
     "output_type": "stream",
     "text": [
      "[CV] ......... n_estimators=800, max_depth=10, score=0.685990 -  17.2s\n",
      "[CV] n_estimators=900, max_depth=10 ..................................\n",
      "[CV] ......... n_estimators=900, max_depth=10, score=0.891509 -  20.0s\n",
      "[CV] n_estimators=900, max_depth=10 ..................................\n",
      "[CV] ......... n_estimators=900, max_depth=10, score=0.894737 -  19.8s\n",
      "[CV] n_estimators=1000, max_depth=10 .................................\n",
      "[CV] ......... n_estimators=900, max_depth=10, score=0.855769 -  19.7s\n",
      "[CV] n_estimators=1000, max_depth=10 .................................\n",
      "[CV] ......... n_estimators=900, max_depth=10, score=0.802885 -  19.0s\n",
      "[CV] n_estimators=1000, max_depth=10 .................................\n",
      "[CV] ......... n_estimators=900, max_depth=10, score=0.690821 -  18.8s\n",
      "[CV] n_estimators=1000, max_depth=10 .................................\n",
      "[CV] ........ n_estimators=1000, max_depth=10, score=0.891509 -  21.2s\n",
      "[CV] n_estimators=1000, max_depth=10 .................................\n",
      "[CV] ........ n_estimators=1000, max_depth=10, score=0.894737 -  21.1s\n",
      "[CV] n_estimators=400, max_depth=11 ..................................\n",
      "[CV] ......... n_estimators=400, max_depth=11, score=0.891509 -  11.1s\n",
      "[CV] n_estimators=400, max_depth=11 ..................................\n"
     ]
    },
    {
     "name": "stderr",
     "output_type": "stream",
     "text": [
      "[Parallel(n_jobs=4)]: Done  33 tasks      | elapsed:  2.4min\n"
     ]
    },
    {
     "name": "stdout",
     "output_type": "stream",
     "text": [
      "[CV] ........ n_estimators=1000, max_depth=10, score=0.860577 -  21.5s\n",
      "[CV] n_estimators=400, max_depth=11 ..................................\n",
      "[CV] ........ n_estimators=1000, max_depth=10, score=0.807692 -  21.9s\n",
      "[CV] n_estimators=400, max_depth=11 ..................................\n",
      "[CV] ........ n_estimators=1000, max_depth=10, score=0.700483 -  22.5s\n",
      "[CV] n_estimators=400, max_depth=11 ..................................\n",
      "[CV] ......... n_estimators=400, max_depth=11, score=0.899522 -  13.2s\n",
      "[CV] n_estimators=500, max_depth=11 ..................................\n",
      "[CV] ......... n_estimators=400, max_depth=11, score=0.850962 -  13.4s\n",
      "[CV] n_estimators=500, max_depth=11 ..................................\n",
      "[CV] ......... n_estimators=400, max_depth=11, score=0.802885 -  12.1s\n",
      "[CV] n_estimators=500, max_depth=11 ..................................\n",
      "[CV] ......... n_estimators=400, max_depth=11, score=0.705314 -  12.2s\n",
      "[CV] n_estimators=500, max_depth=11 ..................................\n",
      "[CV] ......... n_estimators=500, max_depth=11, score=0.900943 -  15.3s\n",
      "[CV] n_estimators=500, max_depth=11 ..................................\n",
      "[CV] ......... n_estimators=500, max_depth=11, score=0.899522 -  15.1s\n",
      "[CV] n_estimators=600, max_depth=11 ..................................\n"
     ]
    },
    {
     "name": "stderr",
     "output_type": "stream",
     "text": [
      "[Parallel(n_jobs=4)]: Done  42 tasks      | elapsed:  2.9min\n"
     ]
    },
    {
     "name": "stdout",
     "output_type": "stream",
     "text": [
      "[CV] ......... n_estimators=500, max_depth=11, score=0.846154 -  15.2s\n",
      "[CV] n_estimators=600, max_depth=11 ..................................\n",
      "[CV] ......... n_estimators=500, max_depth=11, score=0.807692 -  14.1s\n",
      "[CV] n_estimators=600, max_depth=11 ..................................\n",
      "[CV] ......... n_estimators=500, max_depth=11, score=0.719807 -  12.9s\n",
      "[CV] n_estimators=600, max_depth=11 ..................................\n",
      "[CV] ......... n_estimators=600, max_depth=11, score=0.896226 -  15.4s\n",
      "[CV] n_estimators=600, max_depth=11 ..................................\n",
      "[CV] ......... n_estimators=600, max_depth=11, score=0.899522 -  14.6s\n",
      "[CV] n_estimators=700, max_depth=11 ..................................\n",
      "[CV] ......... n_estimators=600, max_depth=11, score=0.850962 -  15.8s\n",
      "[CV] n_estimators=700, max_depth=11 ..................................\n",
      "[CV] ......... n_estimators=600, max_depth=11, score=0.807692 -  17.2s\n",
      "[CV] n_estimators=700, max_depth=11 ..................................\n",
      "[CV] ......... n_estimators=600, max_depth=11, score=0.719807 -  17.6s\n",
      "[CV] n_estimators=700, max_depth=11 ..................................\n",
      "[CV] ......... n_estimators=700, max_depth=11, score=0.891509 -  20.2s\n",
      "[CV] n_estimators=700, max_depth=11 ..................................\n",
      "[CV] ......... n_estimators=700, max_depth=11, score=0.899522 -  19.4s\n",
      "[CV] n_estimators=800, max_depth=11 ..................................\n",
      "[CV] ......... n_estimators=700, max_depth=11, score=0.841346 -  17.5s\n",
      "[CV] n_estimators=800, max_depth=11 ..................................\n"
     ]
    },
    {
     "name": "stderr",
     "output_type": "stream",
     "text": [
      "[Parallel(n_jobs=4)]: Done  53 tasks      | elapsed:  3.7min\n"
     ]
    },
    {
     "name": "stdout",
     "output_type": "stream",
     "text": [
      "[CV] ......... n_estimators=700, max_depth=11, score=0.807692 -  16.7s\n",
      "[CV] n_estimators=800, max_depth=11 ..................................\n",
      "[CV] ......... n_estimators=700, max_depth=11, score=0.714976 -  17.1s\n",
      "[CV] n_estimators=800, max_depth=11 ..................................\n",
      "[CV] ......... n_estimators=800, max_depth=11, score=0.896226 -  19.9s\n",
      "[CV] n_estimators=800, max_depth=11 ..................................\n",
      "[CV] ......... n_estimators=800, max_depth=11, score=0.899522 -  19.5s\n",
      "[CV] n_estimators=900, max_depth=11 ..................................\n",
      "[CV] ......... n_estimators=800, max_depth=11, score=0.841346 -  19.2s\n",
      "[CV] n_estimators=900, max_depth=11 ..................................\n",
      "[CV] ......... n_estimators=800, max_depth=11, score=0.812500 -  18.5s\n",
      "[CV] n_estimators=900, max_depth=11 ..................................\n",
      "[CV] ......... n_estimators=800, max_depth=11, score=0.705314 -  18.3s\n",
      "[CV] n_estimators=900, max_depth=11 ..................................\n",
      "[CV] ......... n_estimators=900, max_depth=11, score=0.891509 -  21.6s\n",
      "[CV] n_estimators=900, max_depth=11 ..................................\n",
      "[CV] ......... n_estimators=900, max_depth=11, score=0.899522 -  21.7s\n",
      "[CV] n_estimators=1000, max_depth=11 .................................\n",
      "[CV] ......... n_estimators=900, max_depth=11, score=0.841346 -  21.9s\n",
      "[CV] n_estimators=1000, max_depth=11 .................................\n",
      "[CV] ......... n_estimators=900, max_depth=11, score=0.812500 -  21.0s\n",
      "[CV] n_estimators=1000, max_depth=11 .................................\n"
     ]
    },
    {
     "name": "stderr",
     "output_type": "stream",
     "text": [
      "[Parallel(n_jobs=4)]: Done  64 tasks      | elapsed:  4.6min\n"
     ]
    },
    {
     "name": "stdout",
     "output_type": "stream",
     "text": [
      "[CV] ......... n_estimators=900, max_depth=11, score=0.700483 -  20.5s\n",
      "[CV] n_estimators=1000, max_depth=11 .................................\n",
      "[CV] ........ n_estimators=1000, max_depth=11, score=0.886792 -  23.5s\n",
      "[CV] n_estimators=1000, max_depth=11 .................................\n",
      "[CV] ........ n_estimators=1000, max_depth=11, score=0.899522 -  23.3s\n",
      "[CV] n_estimators=400, max_depth=12 ..................................\n",
      "[CV] ........ n_estimators=1000, max_depth=11, score=0.846154 -  23.7s\n",
      "[CV] n_estimators=400, max_depth=12 ..................................\n",
      "[CV] ......... n_estimators=400, max_depth=12, score=0.905660 -  11.5s\n",
      "[CV] n_estimators=400, max_depth=12 ..................................\n",
      "[CV] ........ n_estimators=1000, max_depth=11, score=0.812500 -  22.1s\n",
      "[CV] n_estimators=400, max_depth=12 ..................................\n",
      "[CV] ........ n_estimators=1000, max_depth=11, score=0.700483 -  21.7s\n",
      "[CV] n_estimators=400, max_depth=12 ..................................\n",
      "[CV] ......... n_estimators=400, max_depth=12, score=0.889952 -  11.2s\n",
      "[CV] n_estimators=500, max_depth=12 ..................................\n",
      "[CV] ......... n_estimators=400, max_depth=12, score=0.807692 -  11.2s\n",
      "[CV] n_estimators=500, max_depth=12 ..................................\n",
      "[CV] ......... n_estimators=400, max_depth=12, score=0.836538 -  11.7s\n",
      "[CV] n_estimators=500, max_depth=12 ..................................\n",
      "[CV] ......... n_estimators=400, max_depth=12, score=0.714976 -  11.3s\n",
      "[CV] n_estimators=500, max_depth=12 ..................................\n",
      "[CV] ......... n_estimators=500, max_depth=12, score=0.919811 -  13.9s\n",
      "[CV] n_estimators=500, max_depth=12 ..................................\n",
      "[CV] ......... n_estimators=500, max_depth=12, score=0.894737 -  13.8s\n",
      "[CV] n_estimators=600, max_depth=12 ..................................\n"
     ]
    },
    {
     "name": "stderr",
     "output_type": "stream",
     "text": [
      "[Parallel(n_jobs=4)]: Done  77 tasks      | elapsed:  5.5min\n"
     ]
    },
    {
     "name": "stdout",
     "output_type": "stream",
     "text": [
      "[CV] ......... n_estimators=500, max_depth=12, score=0.836538 -  14.0s\n",
      "[CV] n_estimators=600, max_depth=12 ..................................\n",
      "[CV] ......... n_estimators=500, max_depth=12, score=0.802885 -  13.4s\n",
      "[CV] n_estimators=600, max_depth=12 ..................................\n",
      "[CV] ......... n_estimators=500, max_depth=12, score=0.719807 -  13.1s\n",
      "[CV] n_estimators=600, max_depth=12 ..................................\n",
      "[CV] ......... n_estimators=600, max_depth=12, score=0.905660 -  16.5s\n",
      "[CV] n_estimators=600, max_depth=12 ..................................\n",
      "[CV] ......... n_estimators=600, max_depth=12, score=0.894737 -  16.4s\n",
      "[CV] n_estimators=700, max_depth=12 ..................................\n",
      "[CV] ......... n_estimators=600, max_depth=12, score=0.831731 -  16.2s\n",
      "[CV] n_estimators=700, max_depth=12 ..................................\n",
      "[CV] ......... n_estimators=600, max_depth=12, score=0.802885 -  15.7s\n",
      "[CV] n_estimators=700, max_depth=12 ..................................\n",
      "[CV] ......... n_estimators=600, max_depth=12, score=0.714976 -  14.1s\n",
      "[CV] n_estimators=700, max_depth=12 ..................................\n",
      "[CV] ......... n_estimators=700, max_depth=12, score=0.905660 -  16.5s\n",
      "[CV] n_estimators=700, max_depth=12 ..................................\n",
      "[CV] ......... n_estimators=700, max_depth=12, score=0.894737 -  16.2s\n",
      "[CV] n_estimators=800, max_depth=12 ..................................\n",
      "[CV] ......... n_estimators=700, max_depth=12, score=0.836538 -  16.7s\n",
      "[CV] n_estimators=800, max_depth=12 ..................................\n",
      "[CV] ......... n_estimators=700, max_depth=12, score=0.802885 -  17.2s\n",
      "[CV] n_estimators=800, max_depth=12 ..................................\n",
      "[CV] ......... n_estimators=700, max_depth=12, score=0.714976 -  18.9s\n",
      "[CV] n_estimators=800, max_depth=12 ..................................\n"
     ]
    },
    {
     "name": "stderr",
     "output_type": "stream",
     "text": [
      "[Parallel(n_jobs=4)]: Done  90 tasks      | elapsed:  6.4min\n"
     ]
    },
    {
     "name": "stdout",
     "output_type": "stream",
     "text": [
      "[CV] ......... n_estimators=800, max_depth=12, score=0.896226 -  23.9s\n",
      "[CV] n_estimators=800, max_depth=12 ..................................\n",
      "[CV] ......... n_estimators=800, max_depth=12, score=0.894737 -  24.3s\n",
      "[CV] n_estimators=900, max_depth=12 ..................................\n",
      "[CV] ......... n_estimators=800, max_depth=12, score=0.841346 -  24.8s\n",
      "[CV] n_estimators=900, max_depth=12 ..................................\n",
      "[CV] ......... n_estimators=800, max_depth=12, score=0.802885 -  22.8s\n",
      "[CV] n_estimators=900, max_depth=12 ..................................\n",
      "[CV] ......... n_estimators=800, max_depth=12, score=0.714976 -  21.5s\n",
      "[CV] n_estimators=900, max_depth=12 ..................................\n",
      "[CV] ......... n_estimators=900, max_depth=12, score=0.891509 -  24.6s\n",
      "[CV] n_estimators=900, max_depth=12 ..................................\n",
      "[CV] ......... n_estimators=900, max_depth=12, score=0.889952 -  24.2s\n",
      "[CV] n_estimators=1000, max_depth=12 .................................\n",
      "[CV] ......... n_estimators=900, max_depth=12, score=0.841346 -  24.2s\n",
      "[CV] n_estimators=1000, max_depth=12 .................................\n",
      "[CV] ......... n_estimators=900, max_depth=12, score=0.812500 -  23.0s\n",
      "[CV] n_estimators=1000, max_depth=12 .................................\n",
      "[CV] ......... n_estimators=900, max_depth=12, score=0.714976 -  23.1s\n",
      "[CV] n_estimators=1000, max_depth=12 .................................\n",
      "[CV] ........ n_estimators=1000, max_depth=12, score=0.891509 -  26.7s\n",
      "[CV] n_estimators=1000, max_depth=12 .................................\n",
      "[CV] ........ n_estimators=1000, max_depth=12, score=0.889952 -  26.4s\n",
      "[CV] n_estimators=400, max_depth=13 ..................................\n",
      "[CV] ........ n_estimators=1000, max_depth=12, score=0.841346 -  26.8s\n",
      "[CV] n_estimators=400, max_depth=13 ..................................\n",
      "[CV] ........ n_estimators=1000, max_depth=12, score=0.812500 -  25.2s\n",
      "[CV] n_estimators=400, max_depth=13 ..................................\n",
      "[CV] ......... n_estimators=400, max_depth=13, score=0.886792 -  13.5s\n",
      "[CV] n_estimators=400, max_depth=13 ..................................\n"
     ]
    },
    {
     "name": "stderr",
     "output_type": "stream",
     "text": [
      "[Parallel(n_jobs=4)]: Done 105 tasks      | elapsed:  7.8min\n"
     ]
    },
    {
     "name": "stdout",
     "output_type": "stream",
     "text": [
      "[CV] ......... n_estimators=400, max_depth=13, score=0.889952 -  13.5s\n",
      "[CV] n_estimators=400, max_depth=13 ..................................\n",
      "[CV] ........ n_estimators=1000, max_depth=12, score=0.714976 -  25.4s\n",
      "[CV] n_estimators=500, max_depth=13 ..................................\n",
      "[CV] ......... n_estimators=400, max_depth=13, score=0.855769 -  13.7s\n",
      "[CV] n_estimators=500, max_depth=13 ..................................\n",
      "[CV] ......... n_estimators=400, max_depth=13, score=0.802885 -  13.1s\n",
      "[CV] n_estimators=500, max_depth=13 ..................................\n",
      "[CV] ......... n_estimators=400, max_depth=13, score=0.710145 -  13.0s\n",
      "[CV] n_estimators=500, max_depth=13 ..................................\n",
      "[CV] ......... n_estimators=500, max_depth=13, score=0.886792 -  16.1s\n",
      "[CV] n_estimators=500, max_depth=13 ..................................\n",
      "[CV] ......... n_estimators=500, max_depth=13, score=0.880383 -  16.0s\n",
      "[CV] n_estimators=600, max_depth=13 ..................................\n",
      "[CV] ......... n_estimators=500, max_depth=13, score=0.855769 -  16.1s\n",
      "[CV] n_estimators=600, max_depth=13 ..................................\n",
      "[CV] ......... n_estimators=500, max_depth=13, score=0.802885 -  15.4s\n",
      "[CV] n_estimators=600, max_depth=13 ..................................\n",
      "[CV] ......... n_estimators=500, max_depth=13, score=0.705314 -  15.1s\n",
      "[CV] n_estimators=600, max_depth=13 ..................................\n",
      "[CV] ......... n_estimators=600, max_depth=13, score=0.886792 -  18.0s\n",
      "[CV] n_estimators=600, max_depth=13 ..................................\n",
      "[CV] ......... n_estimators=600, max_depth=13, score=0.880383 -  17.9s\n",
      "[CV] n_estimators=700, max_depth=13 ..................................\n",
      "[CV] ......... n_estimators=600, max_depth=13, score=0.855769 -  18.0s\n",
      "[CV] n_estimators=700, max_depth=13 ..................................\n",
      "[CV] ......... n_estimators=600, max_depth=13, score=0.802885 -  17.5s\n",
      "[CV] n_estimators=700, max_depth=13 ..................................\n",
      "[CV] ......... n_estimators=600, max_depth=13, score=0.705314 -  17.4s\n",
      "[CV] n_estimators=700, max_depth=13 ..................................\n"
     ]
    },
    {
     "name": "stderr",
     "output_type": "stream",
     "text": [
      "[Parallel(n_jobs=4)]: Done 120 tasks      | elapsed:  8.9min\n"
     ]
    },
    {
     "name": "stdout",
     "output_type": "stream",
     "text": [
      "[CV] ......... n_estimators=700, max_depth=13, score=0.877358 -  20.7s\n",
      "[CV] n_estimators=700, max_depth=13 ..................................\n",
      "[CV] ......... n_estimators=700, max_depth=13, score=0.880383 -  20.3s\n",
      "[CV] n_estimators=800, max_depth=13 ..................................\n",
      "[CV] ......... n_estimators=700, max_depth=13, score=0.855769 -  20.4s\n",
      "[CV] n_estimators=800, max_depth=13 ..................................\n",
      "[CV] ......... n_estimators=700, max_depth=13, score=0.802885 -  19.8s\n",
      "[CV] n_estimators=800, max_depth=13 ..................................\n",
      "[CV] ......... n_estimators=700, max_depth=13, score=0.700483 -  19.8s\n",
      "[CV] n_estimators=800, max_depth=13 ..................................\n",
      "[CV] ......... n_estimators=800, max_depth=13, score=0.877358 -  24.8s\n",
      "[CV] n_estimators=800, max_depth=13 ..................................\n",
      "[CV] ......... n_estimators=800, max_depth=13, score=0.875598 -  25.8s\n",
      "[CV] n_estimators=900, max_depth=13 ..................................\n",
      "[CV] ......... n_estimators=800, max_depth=13, score=0.860577 -  25.8s\n",
      "[CV] n_estimators=900, max_depth=13 ..................................\n",
      "[CV] ......... n_estimators=800, max_depth=13, score=0.807692 -  24.7s\n",
      "[CV] n_estimators=900, max_depth=13 ..................................\n",
      "[CV] ......... n_estimators=800, max_depth=13, score=0.705314 -  23.1s\n",
      "[CV] n_estimators=900, max_depth=13 ..................................\n",
      "[CV] ......... n_estimators=900, max_depth=13, score=0.877358 -  26.6s\n",
      "[CV] n_estimators=900, max_depth=13 ..................................\n",
      "[CV] ......... n_estimators=900, max_depth=13, score=0.875598 -  26.7s\n",
      "[CV] n_estimators=1000, max_depth=13 .................................\n",
      "[CV] ......... n_estimators=900, max_depth=13, score=0.860577 -  27.4s\n",
      "[CV] n_estimators=1000, max_depth=13 .................................\n",
      "[CV] ......... n_estimators=900, max_depth=13, score=0.807692 -  27.0s\n",
      "[CV] n_estimators=1000, max_depth=13 .................................\n",
      "[CV] ......... n_estimators=900, max_depth=13, score=0.700483 -  25.4s\n",
      "[CV] n_estimators=1000, max_depth=13 .................................\n",
      "[CV] ........ n_estimators=1000, max_depth=13, score=0.872642 -  27.9s\n",
      "[CV] n_estimators=1000, max_depth=13 .................................\n",
      "[CV] ........ n_estimators=1000, max_depth=13, score=0.875598 -  26.8s\n",
      "[CV] n_estimators=400, max_depth=14 ..................................\n"
     ]
    },
    {
     "name": "stderr",
     "output_type": "stream",
     "text": [
      "[Parallel(n_jobs=4)]: Done 137 tasks      | elapsed: 10.6min\n"
     ]
    },
    {
     "name": "stdout",
     "output_type": "stream",
     "text": [
      "[CV] ........ n_estimators=1000, max_depth=13, score=0.860577 -  26.5s\n",
      "[CV] n_estimators=400, max_depth=14 ..................................\n",
      "[CV] ......... n_estimators=400, max_depth=14, score=0.910377 -  15.1s\n",
      "[CV] n_estimators=400, max_depth=14 ..................................\n",
      "[CV] ........ n_estimators=1000, max_depth=13, score=0.807692 -  26.5s\n",
      "[CV] n_estimators=400, max_depth=14 ..................................\n",
      "[CV] ......... n_estimators=400, max_depth=14, score=0.880383 -  15.5s\n",
      "[CV] n_estimators=400, max_depth=14 ..................................\n",
      "[CV] ........ n_estimators=1000, max_depth=13, score=0.700483 -  27.7s\n",
      "[CV] n_estimators=500, max_depth=14 ..................................\n",
      "[CV] ......... n_estimators=400, max_depth=14, score=0.831731 -  15.4s\n",
      "[CV] n_estimators=500, max_depth=14 ..................................\n",
      "[CV] ......... n_estimators=400, max_depth=14, score=0.807692 -  14.5s\n",
      "[CV] n_estimators=500, max_depth=14 ..................................\n",
      "[CV] ......... n_estimators=400, max_depth=14, score=0.710145 -  14.9s\n",
      "[CV] n_estimators=500, max_depth=14 ..................................\n",
      "[CV] ......... n_estimators=500, max_depth=14, score=0.900943 -  17.9s\n",
      "[CV] n_estimators=500, max_depth=14 ..................................\n",
      "[CV] ......... n_estimators=500, max_depth=14, score=0.880383 -  17.4s\n",
      "[CV] n_estimators=600, max_depth=14 ..................................\n",
      "[CV] ......... n_estimators=500, max_depth=14, score=0.826923 -  17.5s\n",
      "[CV] n_estimators=600, max_depth=14 ..................................\n",
      "[CV] ......... n_estimators=500, max_depth=14, score=0.812500 -  15.7s\n",
      "[CV] n_estimators=600, max_depth=14 ..................................\n",
      "[CV] ......... n_estimators=500, max_depth=14, score=0.705314 -  15.6s\n",
      "[CV] n_estimators=600, max_depth=14 ..................................\n",
      "[CV] ......... n_estimators=600, max_depth=14, score=0.905660 -  18.3s\n",
      "[CV] n_estimators=600, max_depth=14 ..................................\n",
      "[CV] ......... n_estimators=600, max_depth=14, score=0.880383 -  18.1s\n",
      "[CV] n_estimators=700, max_depth=14 ..................................\n",
      "[CV] ......... n_estimators=600, max_depth=14, score=0.831731 -  18.1s\n",
      "[CV] n_estimators=700, max_depth=14 ..................................\n",
      "[CV] ......... n_estimators=600, max_depth=14, score=0.807692 -  17.4s\n",
      "[CV] n_estimators=700, max_depth=14 ..................................\n"
     ]
    },
    {
     "name": "stderr",
     "output_type": "stream",
     "text": [
      "[Parallel(n_jobs=4)]: Done 154 tasks      | elapsed: 11.9min\n"
     ]
    },
    {
     "name": "stdout",
     "output_type": "stream",
     "text": [
      "[CV] ......... n_estimators=600, max_depth=14, score=0.710145 -  17.4s\n",
      "[CV] n_estimators=700, max_depth=14 ..................................\n",
      "[CV] ......... n_estimators=700, max_depth=14, score=0.905660 -  20.5s\n",
      "[CV] n_estimators=700, max_depth=14 ..................................\n",
      "[CV] ......... n_estimators=700, max_depth=14, score=0.880383 -  20.9s\n",
      "[CV] n_estimators=800, max_depth=14 ..................................\n",
      "[CV] ......... n_estimators=700, max_depth=14, score=0.831731 -  20.8s\n",
      "[CV] n_estimators=800, max_depth=14 ..................................\n",
      "[CV] ......... n_estimators=700, max_depth=14, score=0.802885 -  20.5s\n",
      "[CV] n_estimators=800, max_depth=14 ..................................\n",
      "[CV] ......... n_estimators=700, max_depth=14, score=0.700483 -  21.0s\n",
      "[CV] n_estimators=800, max_depth=14 ..................................\n",
      "[CV] ......... n_estimators=800, max_depth=14, score=0.905660 -  24.5s\n",
      "[CV] n_estimators=800, max_depth=14 ..................................\n",
      "[CV] ......... n_estimators=800, max_depth=14, score=0.880383 -  24.4s\n",
      "[CV] n_estimators=900, max_depth=14 ..................................\n",
      "[CV] ......... n_estimators=800, max_depth=14, score=0.831731 -  24.4s\n",
      "[CV] n_estimators=900, max_depth=14 ..................................\n",
      "[CV] ......... n_estimators=800, max_depth=14, score=0.802885 -  23.1s\n",
      "[CV] n_estimators=900, max_depth=14 ..................................\n",
      "[CV] ......... n_estimators=800, max_depth=14, score=0.705314 -  23.6s\n",
      "[CV] n_estimators=900, max_depth=14 ..................................\n",
      "[CV] ......... n_estimators=900, max_depth=14, score=0.896226 -  28.0s\n",
      "[CV] n_estimators=900, max_depth=14 ..................................\n",
      "[CV] ......... n_estimators=900, max_depth=14, score=0.875598 -  27.0s\n",
      "[CV] n_estimators=1000, max_depth=14 .................................\n",
      "[CV] ......... n_estimators=900, max_depth=14, score=0.836538 -  27.0s\n",
      "[CV] n_estimators=1000, max_depth=14 .................................\n",
      "[CV] ......... n_estimators=900, max_depth=14, score=0.807692 -  24.2s\n",
      "[CV] n_estimators=1000, max_depth=14 .................................\n",
      "[CV] ......... n_estimators=900, max_depth=14, score=0.705314 -  22.8s\n",
      "[CV] n_estimators=1000, max_depth=14 .................................\n",
      "[CV] ........ n_estimators=1000, max_depth=14, score=0.896226 -  26.1s\n",
      "[CV] n_estimators=1000, max_depth=14 .................................\n",
      "[CV] ........ n_estimators=1000, max_depth=14, score=0.885167 -  26.2s\n",
      "[CV] ........ n_estimators=1000, max_depth=14, score=0.850962 -  25.7s\n",
      "[CV] ........ n_estimators=1000, max_depth=14, score=0.807692 -  23.3s\n",
      "[CV] ........ n_estimators=1000, max_depth=14, score=0.700483 -  18.7s\n"
     ]
    },
    {
     "name": "stderr",
     "output_type": "stream",
     "text": [
      "[Parallel(n_jobs=4)]: Done 175 out of 175 | elapsed: 14.0min finished\n"
     ]
    },
    {
     "data": {
      "text/plain": [
       "GridSearchCV(cv=5, error_score='raise',\n",
       "       estimator=XGBClassifier(base_score=0.5, colsample_bylevel=1, colsample_bytree=1,\n",
       "       gamma=0, learning_rate=0.1, max_delta_step=0, max_depth=3,\n",
       "       min_child_weight=1, missing=None, n_estimators=100, nthread=-1,\n",
       "       objective='binary:logistic', reg_alpha=0, reg_lambda=1,\n",
       "       scale_pos_weight=1, seed=0, silent=True, subsample=1),\n",
       "       fit_params={}, iid=True, n_jobs=4,\n",
       "       param_grid={'n_estimators': array([ 400,  500,  600,  700,  800,  900, 1000]), 'max_depth': array([10, 11, 12, 13, 14])},\n",
       "       pre_dispatch='2*n_jobs', refit=True, scoring=None, verbose=10)"
      ]
     },
     "execution_count": 374,
     "metadata": {},
     "output_type": "execute_result"
    }
   ],
   "source": [
    "params = {\n",
    "    \"max_depth\": np.arange(10, 15), \n",
    "    \"n_estimators\": np.arange(400, 1001, 100)\n",
    "}\n",
    "\n",
    "classifier = XGBClassifier()\n",
    "grid = GridSearchCV(classifier, param_grid=params, n_jobs=4, cv=5, verbose=10)\n",
    "grid.fit(X, Y.ix[:, 0])"
   ]
  },
  {
   "cell_type": "code",
   "execution_count": 375,
   "metadata": {
    "collapsed": false
   },
   "outputs": [
    {
     "name": "stdout",
     "output_type": "stream",
     "text": [
      "0.835249042146\n",
      "{'n_estimators': 400, 'max_depth': 10}\n"
     ]
    }
   ],
   "source": [
    "print(grid.best_score_)\n",
    "print(grid.best_params_)"
   ]
  },
  {
   "cell_type": "code",
   "execution_count": 449,
   "metadata": {
    "collapsed": false,
    "scrolled": true
   },
   "outputs": [
    {
     "name": "stdout",
     "output_type": "stream",
     "text": [
      "Fitting 5 folds for each of 35 candidates, totalling 175 fits\n",
      "[CV] n_estimators=400, max_depth=10 ..................................\n",
      "[CV] n_estimators=400, max_depth=10 ..................................\n",
      "[CV] n_estimators=400, max_depth=10 ..................................\n",
      "[CV] n_estimators=400, max_depth=10 ..................................\n",
      "[CV] ......... n_estimators=400, max_depth=10, score=0.685990 -  14.1s\n",
      "[CV] n_estimators=400, max_depth=10 ..................................\n",
      "[CV] ......... n_estimators=400, max_depth=10, score=0.852381 -  14.4s\n",
      "[CV] n_estimators=500, max_depth=10 ..................................\n",
      "[CV] ......... n_estimators=400, max_depth=10, score=0.790476 -  14.5s\n",
      "[CV] n_estimators=500, max_depth=10 ..................................\n",
      "[CV] ......... n_estimators=400, max_depth=10, score=0.919048 -  14.6s\n",
      "[CV] n_estimators=500, max_depth=10 ..................................\n",
      "[CV] ......... n_estimators=400, max_depth=10, score=0.386473 -  14.7s\n",
      "[CV] n_estimators=500, max_depth=10 ..................................\n"
     ]
    },
    {
     "name": "stderr",
     "output_type": "stream",
     "text": [
      "[Parallel(n_jobs=4)]: Done   5 tasks      | elapsed:   28.9s\n"
     ]
    },
    {
     "name": "stdout",
     "output_type": "stream",
     "text": [
      "[CV] ......... n_estimators=500, max_depth=10, score=0.776190 -  17.7s\n",
      "[CV] n_estimators=500, max_depth=10 ..................................\n",
      "[CV] ......... n_estimators=500, max_depth=10, score=0.852381 -  17.8s\n",
      "[CV] n_estimators=600, max_depth=10 ..................................\n",
      "[CV] ......... n_estimators=500, max_depth=10, score=0.914286 -  18.1s\n",
      "[CV] n_estimators=600, max_depth=10 ..................................\n",
      "[CV] ......... n_estimators=500, max_depth=10, score=0.676329 -  16.6s\n",
      "[CV] n_estimators=600, max_depth=10 ..................................\n",
      "[CV] ......... n_estimators=500, max_depth=10, score=0.396135 -  16.1s\n",
      "[CV] n_estimators=600, max_depth=10 ..................................\n"
     ]
    },
    {
     "name": "stderr",
     "output_type": "stream",
     "text": [
      "[Parallel(n_jobs=4)]: Done  10 tasks      | elapsed:   48.5s\n"
     ]
    },
    {
     "name": "stdout",
     "output_type": "stream",
     "text": [
      "[CV] ......... n_estimators=600, max_depth=10, score=0.857143 -  19.0s\n",
      "[CV] n_estimators=600, max_depth=10 ..................................\n",
      "[CV] ......... n_estimators=600, max_depth=10, score=0.914286 -  19.1s\n",
      "[CV] n_estimators=700, max_depth=10 ..................................\n",
      "[CV] ......... n_estimators=600, max_depth=10, score=0.785714 -  19.4s\n",
      "[CV] n_estimators=700, max_depth=10 ..................................\n",
      "[CV] ......... n_estimators=600, max_depth=10, score=0.681159 -  20.2s\n",
      "[CV] n_estimators=700, max_depth=10 ..................................\n",
      "[CV] ......... n_estimators=600, max_depth=10, score=0.396135 -  20.8s\n",
      "[CV] n_estimators=700, max_depth=10 ..................................\n",
      "[CV] ......... n_estimators=700, max_depth=10, score=0.919048 -  25.8s\n",
      "[CV] n_estimators=700, max_depth=10 ..................................\n",
      "[CV] ......... n_estimators=700, max_depth=10, score=0.866667 -  28.7s\n",
      "[CV] n_estimators=800, max_depth=10 ..................................\n"
     ]
    },
    {
     "name": "stderr",
     "output_type": "stream",
     "text": [
      "[Parallel(n_jobs=4)]: Done  17 tasks      | elapsed:  1.6min\n"
     ]
    },
    {
     "name": "stdout",
     "output_type": "stream",
     "text": [
      "[CV] ......... n_estimators=700, max_depth=10, score=0.790476 -  28.0s\n",
      "[CV] n_estimators=800, max_depth=10 ..................................\n",
      "[CV] ......... n_estimators=700, max_depth=10, score=0.666667 -  27.3s\n",
      "[CV] n_estimators=800, max_depth=10 ..................................\n",
      "[CV] ......... n_estimators=700, max_depth=10, score=0.400966 -  26.2s\n",
      "[CV] n_estimators=800, max_depth=10 ..................................\n",
      "[CV] ......... n_estimators=800, max_depth=10, score=0.919048 -  32.3s\n",
      "[CV] n_estimators=800, max_depth=10 ..................................\n",
      "[CV] ......... n_estimators=800, max_depth=10, score=0.866667 -  33.3s\n",
      "[CV] n_estimators=900, max_depth=10 ..................................\n",
      "[CV] ......... n_estimators=800, max_depth=10, score=0.790476 -  33.4s\n",
      "[CV] n_estimators=900, max_depth=10 ..................................\n",
      "[CV] ......... n_estimators=800, max_depth=10, score=0.671498 -  33.8s\n",
      "[CV] n_estimators=900, max_depth=10 ..................................\n"
     ]
    },
    {
     "name": "stderr",
     "output_type": "stream",
     "text": [
      "[Parallel(n_jobs=4)]: Done  24 tasks      | elapsed:  2.3min\n"
     ]
    },
    {
     "name": "stdout",
     "output_type": "stream",
     "text": [
      "[CV] ......... n_estimators=800, max_depth=10, score=0.400966 -  29.9s\n",
      "[CV] n_estimators=900, max_depth=10 ..................................\n",
      "[CV] ......... n_estimators=900, max_depth=10, score=0.923810 -  32.7s\n",
      "[CV] n_estimators=900, max_depth=10 ..................................\n",
      "[CV] ......... n_estimators=900, max_depth=10, score=0.861905 -  31.9s\n",
      "[CV] n_estimators=1000, max_depth=10 .................................\n",
      "[CV] ......... n_estimators=900, max_depth=10, score=0.790476 -  30.5s\n",
      "[CV] n_estimators=1000, max_depth=10 .................................\n",
      "[CV] ......... n_estimators=900, max_depth=10, score=0.671498 -  28.7s\n",
      "[CV] n_estimators=1000, max_depth=10 .................................\n",
      "[CV] ......... n_estimators=900, max_depth=10, score=0.391304 -  28.4s\n",
      "[CV] n_estimators=1000, max_depth=10 .................................\n",
      "[CV] ........ n_estimators=1000, max_depth=10, score=0.923810 -  32.7s\n",
      "[CV] n_estimators=1000, max_depth=10 .................................\n",
      "[CV] ........ n_estimators=1000, max_depth=10, score=0.847619 -  32.5s\n",
      "[CV] n_estimators=400, max_depth=11 ..................................\n",
      "[CV] ........ n_estimators=1000, max_depth=10, score=0.790476 -  31.9s\n",
      "[CV] n_estimators=400, max_depth=11 ..................................\n"
     ]
    },
    {
     "name": "stderr",
     "output_type": "stream",
     "text": [
      "[Parallel(n_jobs=4)]: Done  33 tasks      | elapsed:  3.6min\n"
     ]
    },
    {
     "name": "stdout",
     "output_type": "stream",
     "text": [
      "[CV] ......... n_estimators=400, max_depth=11, score=0.928571 -  16.5s\n",
      "[CV] n_estimators=400, max_depth=11 ..................................\n",
      "[CV] ........ n_estimators=1000, max_depth=10, score=0.676329 -  31.1s\n",
      "[CV] n_estimators=400, max_depth=11 ..................................\n",
      "[CV] ........ n_estimators=1000, max_depth=10, score=0.396135 -  30.5s\n",
      "[CV] n_estimators=400, max_depth=11 ..................................\n",
      "[CV] ......... n_estimators=400, max_depth=11, score=0.861905 -  16.7s\n",
      "[CV] n_estimators=500, max_depth=11 ..................................\n",
      "[CV] ......... n_estimators=400, max_depth=11, score=0.790476 -  16.8s\n",
      "[CV] n_estimators=500, max_depth=11 ..................................\n",
      "[CV] ......... n_estimators=400, max_depth=11, score=0.666667 -  18.3s\n",
      "[CV] n_estimators=500, max_depth=11 ..................................\n",
      "[CV] ......... n_estimators=400, max_depth=11, score=0.391304 -  21.7s\n",
      "[CV] n_estimators=500, max_depth=11 ..................................\n",
      "[CV] ......... n_estimators=500, max_depth=11, score=0.919048 -  25.9s\n",
      "[CV] n_estimators=500, max_depth=11 ..................................\n",
      "[CV] ......... n_estimators=500, max_depth=11, score=0.857143 -  25.7s\n",
      "[CV] n_estimators=600, max_depth=11 ..................................\n"
     ]
    },
    {
     "name": "stderr",
     "output_type": "stream",
     "text": [
      "[Parallel(n_jobs=4)]: Done  42 tasks      | elapsed:  4.3min\n"
     ]
    },
    {
     "name": "stdout",
     "output_type": "stream",
     "text": [
      "[CV] ......... n_estimators=500, max_depth=11, score=0.795238 -  23.6s\n",
      "[CV] n_estimators=600, max_depth=11 ..................................\n",
      "[CV] ......... n_estimators=500, max_depth=11, score=0.661836 -  19.3s\n",
      "[CV] n_estimators=600, max_depth=11 ..................................\n",
      "[CV] ......... n_estimators=500, max_depth=11, score=0.391304 -  18.7s\n",
      "[CV] n_estimators=600, max_depth=11 ..................................\n",
      "[CV] ......... n_estimators=600, max_depth=11, score=0.923810 -  23.4s\n",
      "[CV] n_estimators=600, max_depth=11 ..................................\n",
      "[CV] ......... n_estimators=600, max_depth=11, score=0.866667 -  23.5s\n",
      "[CV] n_estimators=700, max_depth=11 ..................................\n",
      "[CV] ......... n_estimators=600, max_depth=11, score=0.800000 -  23.5s\n",
      "[CV] n_estimators=700, max_depth=11 ..................................\n",
      "[CV] ......... n_estimators=600, max_depth=11, score=0.657005 -  22.7s\n",
      "[CV] n_estimators=700, max_depth=11 ..................................\n",
      "[CV] ......... n_estimators=600, max_depth=11, score=0.386473 -  21.9s\n",
      "[CV] n_estimators=700, max_depth=11 ..................................\n",
      "[CV] ......... n_estimators=700, max_depth=11, score=0.919048 -  26.7s\n",
      "[CV] n_estimators=700, max_depth=11 ..................................\n",
      "[CV] ......... n_estimators=700, max_depth=11, score=0.861905 -  26.4s\n",
      "[CV] n_estimators=800, max_depth=11 ..................................\n",
      "[CV] ......... n_estimators=700, max_depth=11, score=0.795238 -  26.1s\n",
      "[CV] n_estimators=800, max_depth=11 ..................................\n"
     ]
    },
    {
     "name": "stderr",
     "output_type": "stream",
     "text": [
      "[Parallel(n_jobs=4)]: Done  53 tasks      | elapsed:  5.5min\n"
     ]
    },
    {
     "name": "stdout",
     "output_type": "stream",
     "text": [
      "[CV] ......... n_estimators=700, max_depth=11, score=0.657005 -  25.4s\n",
      "[CV] n_estimators=800, max_depth=11 ..................................\n",
      "[CV] ......... n_estimators=700, max_depth=11, score=0.391304 -  24.1s\n",
      "[CV] n_estimators=800, max_depth=11 ..................................\n",
      "[CV] ......... n_estimators=800, max_depth=11, score=0.919048 -  29.4s\n",
      "[CV] n_estimators=800, max_depth=11 ..................................\n",
      "[CV] ......... n_estimators=800, max_depth=11, score=0.866667 -  29.1s\n",
      "[CV] n_estimators=900, max_depth=11 ..................................\n",
      "[CV] ......... n_estimators=800, max_depth=11, score=0.804762 -  29.8s\n",
      "[CV] n_estimators=900, max_depth=11 ..................................\n",
      "[CV] ......... n_estimators=800, max_depth=11, score=0.652174 -  30.5s\n",
      "[CV] n_estimators=900, max_depth=11 ..................................\n",
      "[CV] ......... n_estimators=800, max_depth=11, score=0.381643 -  29.1s\n",
      "[CV] n_estimators=900, max_depth=11 ..................................\n",
      "[CV] ......... n_estimators=900, max_depth=11, score=0.919048 -  33.5s\n",
      "[CV] n_estimators=900, max_depth=11 ..................................\n",
      "[CV] ......... n_estimators=900, max_depth=11, score=0.866667 -  32.3s\n",
      "[CV] n_estimators=1000, max_depth=11 .................................\n",
      "[CV] ......... n_estimators=900, max_depth=11, score=0.804762 -  30.2s\n",
      "[CV] n_estimators=1000, max_depth=11 .................................\n",
      "[CV] ......... n_estimators=900, max_depth=11, score=0.657005 -  29.7s\n",
      "[CV] n_estimators=1000, max_depth=11 .................................\n"
     ]
    },
    {
     "name": "stderr",
     "output_type": "stream",
     "text": [
      "[Parallel(n_jobs=4)]: Done  64 tasks      | elapsed:  6.8min\n"
     ]
    },
    {
     "name": "stdout",
     "output_type": "stream",
     "text": [
      "[CV] ......... n_estimators=900, max_depth=11, score=0.381643 -  29.0s\n",
      "[CV] n_estimators=1000, max_depth=11 .................................\n",
      "[CV] ........ n_estimators=1000, max_depth=11, score=0.919048 -  33.7s\n",
      "[CV] n_estimators=1000, max_depth=11 .................................\n",
      "[CV] ........ n_estimators=1000, max_depth=11, score=0.861905 -  33.3s\n",
      "[CV] n_estimators=400, max_depth=12 ..................................\n",
      "[CV] ........ n_estimators=1000, max_depth=11, score=0.800000 -  32.2s\n",
      "[CV] n_estimators=400, max_depth=12 ..................................\n",
      "[CV] ......... n_estimators=400, max_depth=12, score=0.938095 -  16.5s\n",
      "[CV] n_estimators=400, max_depth=12 ..................................\n",
      "[CV] ........ n_estimators=1000, max_depth=11, score=0.657005 -  31.1s\n",
      "[CV] n_estimators=400, max_depth=12 ..................................\n",
      "[CV] ......... n_estimators=400, max_depth=12, score=0.861905 -  16.5s\n",
      "[CV] n_estimators=400, max_depth=12 ..................................\n",
      "[CV] ........ n_estimators=1000, max_depth=11, score=0.376812 -  30.8s\n",
      "[CV] n_estimators=500, max_depth=12 ..................................\n",
      "[CV] ......... n_estimators=400, max_depth=12, score=0.705314 -  15.9s\n",
      "[CV] n_estimators=500, max_depth=12 ..................................\n",
      "[CV] ......... n_estimators=400, max_depth=12, score=0.795238 -  16.4s\n",
      "[CV] n_estimators=500, max_depth=12 ..................................\n",
      "[CV] ......... n_estimators=400, max_depth=12, score=0.391304 -  15.6s\n",
      "[CV] n_estimators=500, max_depth=12 ..................................\n",
      "[CV] ......... n_estimators=500, max_depth=12, score=0.938095 -  19.6s\n",
      "[CV] n_estimators=500, max_depth=12 ..................................\n",
      "[CV] ......... n_estimators=500, max_depth=12, score=0.800000 -  19.4s\n",
      "[CV] ......... n_estimators=500, max_depth=12, score=0.852381 -  19.6s\n",
      "[CV] n_estimators=600, max_depth=12 ..................................\n",
      "[CV] n_estimators=600, max_depth=12 ..................................\n"
     ]
    },
    {
     "name": "stderr",
     "output_type": "stream",
     "text": [
      "[Parallel(n_jobs=4)]: Done  77 tasks      | elapsed:  8.1min\n"
     ]
    },
    {
     "name": "stdout",
     "output_type": "stream",
     "text": [
      "[CV] ......... n_estimators=500, max_depth=12, score=0.695652 -  18.9s\n",
      "[CV] n_estimators=600, max_depth=12 ..................................\n",
      "[CV] ......... n_estimators=500, max_depth=12, score=0.396135 -  18.5s\n",
      "[CV] n_estimators=600, max_depth=12 ..................................\n",
      "[CV] ......... n_estimators=600, max_depth=12, score=0.852381 -  22.4s\n",
      "[CV] n_estimators=600, max_depth=12 ..................................\n",
      "[CV] ......... n_estimators=600, max_depth=12, score=0.933333 -  22.6s\n",
      "[CV] n_estimators=700, max_depth=12 ..................................\n",
      "[CV] ......... n_estimators=600, max_depth=12, score=0.795238 -  22.1s\n",
      "[CV] n_estimators=700, max_depth=12 ..................................\n",
      "[CV] ......... n_estimators=600, max_depth=12, score=0.700483 -  21.5s\n",
      "[CV] n_estimators=700, max_depth=12 ..................................\n",
      "[CV] ......... n_estimators=600, max_depth=12, score=0.396135 -  21.0s\n",
      "[CV] n_estimators=700, max_depth=12 ..................................\n",
      "[CV] ......... n_estimators=700, max_depth=12, score=0.938095 -  25.3s\n",
      "[CV] n_estimators=700, max_depth=12 ..................................\n",
      "[CV] ......... n_estimators=700, max_depth=12, score=0.852381 -  25.1s\n",
      "[CV] n_estimators=800, max_depth=12 ..................................\n",
      "[CV] ......... n_estimators=700, max_depth=12, score=0.800000 -  25.2s\n",
      "[CV] n_estimators=800, max_depth=12 ..................................\n",
      "[CV] ......... n_estimators=700, max_depth=12, score=0.690821 -  25.0s\n",
      "[CV] n_estimators=800, max_depth=12 ..................................\n",
      "[CV] ......... n_estimators=700, max_depth=12, score=0.391304 -  24.5s\n",
      "[CV] n_estimators=800, max_depth=12 ..................................\n"
     ]
    },
    {
     "name": "stderr",
     "output_type": "stream",
     "text": [
      "[Parallel(n_jobs=4)]: Done  90 tasks      | elapsed:  9.3min\n"
     ]
    },
    {
     "name": "stdout",
     "output_type": "stream",
     "text": [
      "[CV] ......... n_estimators=800, max_depth=12, score=0.938095 -  28.7s\n",
      "[CV] n_estimators=800, max_depth=12 ..................................\n",
      "[CV] ......... n_estimators=800, max_depth=12, score=0.852381 -  28.0s\n",
      "[CV] n_estimators=900, max_depth=12 ..................................\n",
      "[CV] ......... n_estimators=800, max_depth=12, score=0.790476 -  27.4s\n",
      "[CV] n_estimators=900, max_depth=12 ..................................\n",
      "[CV] ......... n_estimators=800, max_depth=12, score=0.685990 -  26.6s\n",
      "[CV] n_estimators=900, max_depth=12 ..................................\n",
      "[CV] ......... n_estimators=800, max_depth=12, score=0.381643 -  26.0s\n",
      "[CV] n_estimators=900, max_depth=12 ..................................\n",
      "[CV] ......... n_estimators=900, max_depth=12, score=0.938095 -  30.4s\n",
      "[CV] n_estimators=900, max_depth=12 ..................................\n",
      "[CV] ......... n_estimators=900, max_depth=12, score=0.852381 -  30.2s\n",
      "[CV] n_estimators=1000, max_depth=12 .................................\n",
      "[CV] ......... n_estimators=900, max_depth=12, score=0.795238 -  29.8s\n",
      "[CV] n_estimators=1000, max_depth=12 .................................\n",
      "[CV] ......... n_estimators=900, max_depth=12, score=0.681159 -  28.9s\n",
      "[CV] n_estimators=1000, max_depth=12 .................................\n",
      "[CV] ......... n_estimators=900, max_depth=12, score=0.386473 -  28.4s\n",
      "[CV] n_estimators=1000, max_depth=12 .................................\n",
      "[CV] ........ n_estimators=1000, max_depth=12, score=0.933333 -  32.9s\n",
      "[CV] n_estimators=1000, max_depth=12 .................................\n",
      "[CV] ........ n_estimators=1000, max_depth=12, score=0.861905 -  32.6s\n",
      "[CV] n_estimators=400, max_depth=13 ..................................\n",
      "[CV] ........ n_estimators=1000, max_depth=12, score=0.800000 -  32.2s\n",
      "[CV] n_estimators=400, max_depth=13 ..................................\n",
      "[CV] ........ n_estimators=1000, max_depth=12, score=0.681159 -  31.2s\n",
      "[CV] n_estimators=400, max_depth=13 ..................................\n",
      "[CV] ......... n_estimators=400, max_depth=13, score=0.933333 -  16.8s\n",
      "[CV] n_estimators=400, max_depth=13 ..................................\n"
     ]
    },
    {
     "name": "stderr",
     "output_type": "stream",
     "text": [
      "[Parallel(n_jobs=4)]: Done 105 tasks      | elapsed: 11.1min\n"
     ]
    },
    {
     "name": "stdout",
     "output_type": "stream",
     "text": [
      "[CV] ......... n_estimators=400, max_depth=13, score=0.880952 -  16.5s\n",
      "[CV] n_estimators=400, max_depth=13 ..................................\n",
      "[CV] ........ n_estimators=1000, max_depth=12, score=0.386473 -  30.7s\n",
      "[CV] n_estimators=500, max_depth=13 ..................................\n",
      "[CV] ......... n_estimators=400, max_depth=13, score=0.800000 -  16.6s\n",
      "[CV] n_estimators=500, max_depth=13 ..................................\n",
      "[CV] ......... n_estimators=400, max_depth=13, score=0.695652 -  16.1s\n",
      "[CV] n_estimators=500, max_depth=13 ..................................\n",
      "[CV] ......... n_estimators=400, max_depth=13, score=0.371981 -  15.7s\n",
      "[CV] n_estimators=500, max_depth=13 ..................................\n",
      "[CV] ......... n_estimators=500, max_depth=13, score=0.938095 -  19.9s\n",
      "[CV] n_estimators=500, max_depth=13 ..................................\n",
      "[CV] ......... n_estimators=500, max_depth=13, score=0.876190 -  19.5s\n",
      "[CV] n_estimators=600, max_depth=13 ..................................\n",
      "[CV] ......... n_estimators=500, max_depth=13, score=0.800000 -  19.5s\n",
      "[CV] n_estimators=600, max_depth=13 ..................................\n",
      "[CV] ......... n_estimators=500, max_depth=13, score=0.685990 -  18.9s\n",
      "[CV] n_estimators=600, max_depth=13 ..................................\n",
      "[CV] ......... n_estimators=500, max_depth=13, score=0.376812 -  18.6s\n",
      "[CV] n_estimators=600, max_depth=13 ..................................\n",
      "[CV] ......... n_estimators=600, max_depth=13, score=0.938095 -  22.7s\n",
      "[CV] n_estimators=600, max_depth=13 ..................................\n",
      "[CV] ......... n_estimators=600, max_depth=13, score=0.880952 -  22.5s\n",
      "[CV] n_estimators=700, max_depth=13 ..................................\n",
      "[CV] ......... n_estimators=600, max_depth=13, score=0.804762 -  22.6s\n",
      "[CV] n_estimators=700, max_depth=13 ..................................\n",
      "[CV] ......... n_estimators=600, max_depth=13, score=0.671498 -  21.9s\n",
      "[CV] n_estimators=700, max_depth=13 ..................................\n",
      "[CV] ......... n_estimators=600, max_depth=13, score=0.376812 -  21.4s\n",
      "[CV] n_estimators=700, max_depth=13 ..................................\n"
     ]
    },
    {
     "name": "stderr",
     "output_type": "stream",
     "text": [
      "[Parallel(n_jobs=4)]: Done 120 tasks      | elapsed: 12.3min\n"
     ]
    },
    {
     "name": "stdout",
     "output_type": "stream",
     "text": [
      "[CV] ......... n_estimators=700, max_depth=13, score=0.928571 -  25.6s\n",
      "[CV] n_estimators=700, max_depth=13 ..................................\n",
      "[CV] ......... n_estimators=700, max_depth=13, score=0.885714 -  25.2s\n",
      "[CV] n_estimators=800, max_depth=13 ..................................\n",
      "[CV] ......... n_estimators=700, max_depth=13, score=0.800000 -  25.3s\n",
      "[CV] n_estimators=800, max_depth=13 ..................................\n",
      "[CV] ......... n_estimators=700, max_depth=13, score=0.671498 -  24.7s\n",
      "[CV] n_estimators=800, max_depth=13 ..................................\n",
      "[CV] ......... n_estimators=700, max_depth=13, score=0.376812 -  24.3s\n",
      "[CV] n_estimators=800, max_depth=13 ..................................\n",
      "[CV] ......... n_estimators=800, max_depth=13, score=0.928571 -  28.5s\n",
      "[CV] n_estimators=800, max_depth=13 ..................................\n",
      "[CV] ......... n_estimators=800, max_depth=13, score=0.885714 -  28.0s\n",
      "[CV] n_estimators=900, max_depth=13 ..................................\n",
      "[CV] ......... n_estimators=800, max_depth=13, score=0.800000 -  27.9s\n",
      "[CV] n_estimators=900, max_depth=13 ..................................\n",
      "[CV] ......... n_estimators=800, max_depth=13, score=0.676329 -  27.2s\n",
      "[CV] n_estimators=900, max_depth=13 ..................................\n",
      "[CV] ......... n_estimators=800, max_depth=13, score=0.376812 -  26.7s\n",
      "[CV] n_estimators=900, max_depth=13 ..................................\n",
      "[CV] ......... n_estimators=900, max_depth=13, score=0.933333 -  31.2s\n",
      "[CV] n_estimators=900, max_depth=13 ..................................\n",
      "[CV] ......... n_estimators=900, max_depth=13, score=0.885714 -  30.7s\n",
      "[CV] n_estimators=1000, max_depth=13 .................................\n",
      "[CV] ......... n_estimators=900, max_depth=13, score=0.800000 -  30.5s\n",
      "[CV] n_estimators=1000, max_depth=13 .................................\n",
      "[CV] ......... n_estimators=900, max_depth=13, score=0.671498 -  30.0s\n",
      "[CV] n_estimators=1000, max_depth=13 .................................\n",
      "[CV] ......... n_estimators=900, max_depth=13, score=0.376812 -  29.4s\n",
      "[CV] n_estimators=1000, max_depth=13 .................................\n",
      "[CV] ........ n_estimators=1000, max_depth=13, score=0.928571 -  33.9s\n",
      "[CV] n_estimators=1000, max_depth=13 .................................\n",
      "[CV] ........ n_estimators=1000, max_depth=13, score=0.885714 -  33.5s\n",
      "[CV] n_estimators=400, max_depth=14 ..................................\n"
     ]
    },
    {
     "name": "stderr",
     "output_type": "stream",
     "text": [
      "[Parallel(n_jobs=4)]: Done 137 tasks      | elapsed: 14.4min\n"
     ]
    },
    {
     "name": "stdout",
     "output_type": "stream",
     "text": [
      "[CV] ........ n_estimators=1000, max_depth=13, score=0.800000 -  33.0s\n",
      "[CV] n_estimators=400, max_depth=14 ..................................\n",
      "[CV] ......... n_estimators=400, max_depth=14, score=0.938095 -  17.0s\n",
      "[CV] n_estimators=400, max_depth=14 ..................................\n",
      "[CV] ........ n_estimators=1000, max_depth=13, score=0.676329 -  32.1s\n",
      "[CV] n_estimators=400, max_depth=14 ..................................\n",
      "[CV] ......... n_estimators=400, max_depth=14, score=0.876190 -  16.8s\n",
      "[CV] n_estimators=400, max_depth=14 ..................................\n",
      "[CV] ........ n_estimators=1000, max_depth=13, score=0.376812 -  31.4s\n",
      "[CV] n_estimators=500, max_depth=14 ..................................\n",
      "[CV] ......... n_estimators=400, max_depth=14, score=0.814286 -  17.0s\n",
      "[CV] n_estimators=500, max_depth=14 ..................................\n",
      "[CV] ......... n_estimators=400, max_depth=14, score=0.695652 -  16.5s\n",
      "[CV] n_estimators=500, max_depth=14 ..................................\n",
      "[CV] ......... n_estimators=400, max_depth=14, score=0.376812 -  16.2s\n",
      "[CV] n_estimators=500, max_depth=14 ..................................\n",
      "[CV] ......... n_estimators=500, max_depth=14, score=0.938095 -  20.2s\n",
      "[CV] n_estimators=500, max_depth=14 ..................................\n",
      "[CV] ......... n_estimators=500, max_depth=14, score=0.876190 -  19.8s\n",
      "[CV] n_estimators=600, max_depth=14 ..................................\n",
      "[CV] ......... n_estimators=500, max_depth=14, score=0.804762 -  19.7s\n",
      "[CV] n_estimators=600, max_depth=14 ..................................\n",
      "[CV] ......... n_estimators=500, max_depth=14, score=0.681159 -  19.3s\n",
      "[CV] n_estimators=600, max_depth=14 ..................................\n",
      "[CV] ......... n_estimators=500, max_depth=14, score=0.386473 -  19.1s\n",
      "[CV] n_estimators=600, max_depth=14 ..................................\n",
      "[CV] ......... n_estimators=600, max_depth=14, score=0.938095 -  23.2s\n",
      "[CV] n_estimators=600, max_depth=14 ..................................\n",
      "[CV] ......... n_estimators=600, max_depth=14, score=0.880952 -  22.9s\n",
      "[CV] n_estimators=700, max_depth=14 ..................................\n",
      "[CV] ......... n_estimators=600, max_depth=14, score=0.804762 -  22.6s\n",
      "[CV] n_estimators=700, max_depth=14 ..................................\n",
      "[CV] ......... n_estimators=600, max_depth=14, score=0.685990 -  21.9s\n",
      "[CV] n_estimators=700, max_depth=14 ..................................\n"
     ]
    },
    {
     "name": "stderr",
     "output_type": "stream",
     "text": [
      "[Parallel(n_jobs=4)]: Done 154 tasks      | elapsed: 15.8min\n"
     ]
    },
    {
     "name": "stdout",
     "output_type": "stream",
     "text": [
      "[CV] ......... n_estimators=600, max_depth=14, score=0.391304 -  21.7s\n",
      "[CV] n_estimators=700, max_depth=14 ..................................\n",
      "[CV] ......... n_estimators=700, max_depth=14, score=0.933333 -  26.0s\n",
      "[CV] n_estimators=700, max_depth=14 ..................................\n",
      "[CV] ......... n_estimators=700, max_depth=14, score=0.880952 -  25.7s\n",
      "[CV] n_estimators=800, max_depth=14 ..................................\n",
      "[CV] ......... n_estimators=700, max_depth=14, score=0.804762 -  25.4s\n",
      "[CV] n_estimators=800, max_depth=14 ..................................\n",
      "[CV] ......... n_estimators=700, max_depth=14, score=0.685990 -  24.5s\n",
      "[CV] n_estimators=800, max_depth=14 ..................................\n",
      "[CV] ......... n_estimators=700, max_depth=14, score=0.381643 -  24.2s\n",
      "[CV] n_estimators=800, max_depth=14 ..................................\n",
      "[CV] ......... n_estimators=800, max_depth=14, score=0.933333 -  28.7s\n",
      "[CV] n_estimators=800, max_depth=14 ..................................\n",
      "[CV] ......... n_estimators=800, max_depth=14, score=0.876190 -  28.4s\n",
      "[CV] n_estimators=900, max_depth=14 ..................................\n",
      "[CV] ......... n_estimators=800, max_depth=14, score=0.795238 -  28.0s\n",
      "[CV] n_estimators=900, max_depth=14 ..................................\n",
      "[CV] ......... n_estimators=800, max_depth=14, score=0.690821 -  27.1s\n",
      "[CV] n_estimators=900, max_depth=14 ..................................\n",
      "[CV] ......... n_estimators=800, max_depth=14, score=0.376812 -  27.0s\n",
      "[CV] n_estimators=900, max_depth=14 ..................................\n",
      "[CV] ......... n_estimators=900, max_depth=14, score=0.933333 -  31.4s\n",
      "[CV] n_estimators=900, max_depth=14 ..................................\n",
      "[CV] ......... n_estimators=900, max_depth=14, score=0.876190 -  30.9s\n",
      "[CV] n_estimators=1000, max_depth=14 .................................\n",
      "[CV] ......... n_estimators=900, max_depth=14, score=0.795238 -  30.6s\n",
      "[CV] n_estimators=1000, max_depth=14 .................................\n",
      "[CV] ......... n_estimators=900, max_depth=14, score=0.685990 -  29.5s\n",
      "[CV] n_estimators=1000, max_depth=14 .................................\n",
      "[CV] ......... n_estimators=900, max_depth=14, score=0.376812 -  29.0s\n",
      "[CV] n_estimators=1000, max_depth=14 .................................\n",
      "[CV] ........ n_estimators=1000, max_depth=14, score=0.933333 -  35.3s\n",
      "[CV] n_estimators=1000, max_depth=14 .................................\n",
      "[CV] ........ n_estimators=1000, max_depth=14, score=0.876190 -  35.6s\n",
      "[CV] ........ n_estimators=1000, max_depth=14, score=0.800000 -  33.7s\n",
      "[CV] ........ n_estimators=1000, max_depth=14, score=0.685990 -  30.6s\n",
      "[CV] ........ n_estimators=1000, max_depth=14, score=0.381643 -  21.6s\n"
     ]
    },
    {
     "name": "stderr",
     "output_type": "stream",
     "text": [
      "[Parallel(n_jobs=4)]: Done 175 out of 175 | elapsed: 18.4min finished\n"
     ]
    },
    {
     "data": {
      "text/plain": [
       "GridSearchCV(cv=5, error_score='raise',\n",
       "       estimator=XGBClassifier(base_score=0.5, colsample_bylevel=1, colsample_bytree=1,\n",
       "       gamma=0, learning_rate=0.1, max_delta_step=0, max_depth=3,\n",
       "       min_child_weight=1, missing=None, n_estimators=100, nthread=-1,\n",
       "       objective='binary:logistic', reg_alpha=0, reg_lambda=1,\n",
       "       scale_pos_weight=1, seed=0, silent=True, subsample=1),\n",
       "       fit_params={}, iid=True, n_jobs=4,\n",
       "       param_grid={'n_estimators': array([ 400,  500,  600,  700,  800,  900, 1000]), 'max_depth': array([10, 11, 12, 13, 14])},\n",
       "       pre_dispatch='2*n_jobs', refit=True, scoring=None, verbose=10)"
      ]
     },
     "execution_count": 449,
     "metadata": {},
     "output_type": "execute_result"
    }
   ],
   "source": [
    "params = {\n",
    "    \"max_depth\": np.arange(10, 15), \n",
    "    \"n_estimators\": np.arange(400, 1001, 100)\n",
    "}\n",
    "\n",
    "classifier = XGBClassifier()\n",
    "grid = GridSearchCV(classifier, param_grid=params, n_jobs=4, cv=5, verbose=10)\n",
    "grid.fit(X, Y.ix[:, 1])"
   ]
  },
  {
   "cell_type": "code",
   "execution_count": 450,
   "metadata": {
    "collapsed": false
   },
   "outputs": [
    {
     "name": "stdout",
     "output_type": "stream",
     "text": [
      "0.741379310345\n",
      "{'n_estimators': 400, 'max_depth': 14}\n"
     ]
    }
   ],
   "source": [
    "print(grid.best_score_)\n",
    "print(grid.best_params_)"
   ]
  },
  {
   "cell_type": "markdown",
   "metadata": {},
   "source": [
    "Well, finally, we have reached the plateau, so we can stop here. We need to get 10 most important features, so let's try extract feature importances from our XGB classifier"
   ]
  },
  {
   "cell_type": "code",
   "execution_count": 376,
   "metadata": {
    "collapsed": false,
    "scrolled": true
   },
   "outputs": [
    {
     "data": {
      "text/plain": [
       "[('absences', 0.067375004),\n",
       " ('G1', 0.035464268),\n",
       " ('G3', 0.035393197),\n",
       " ('G2', 0.033403218),\n",
       " ('romantic_yes', 0.025834192),\n",
       " ('sex_M', 0.025123484),\n",
       " ('activities_yes', 0.024697062),\n",
       " ('health_5', 0.024128497),\n",
       " ('famsup_yes', 0.023702072),\n",
       " ('freetime_4', 0.021392275),\n",
       " ('studytime_2', 0.02096585),\n",
       " ('goout_5', 0.020148538),\n",
       " ('traveltime_1', 0.019260155),\n",
       " ('reason_course', 0.019189084),\n",
       " ('famrel_4', 0.019046942),\n",
       " ('famsize_LE3', 0.018940337),\n",
       " ('goout_4', 0.017980883),\n",
       " ('age_17', 0.017945347),\n",
       " ('Mjob_other', 0.017732134),\n",
       " ('school_MS', 0.016666075),\n",
       " ('Fjob_other', 0.01663054),\n",
       " ('address_U', 0.016559469),\n",
       " ('studytime_1', 0.015990904),\n",
       " ('nursery_yes', 0.01563555),\n",
       " ('goout_3', 0.014747166),\n",
       " ('Fedu_1', 0.014533954),\n",
       " ('Fjob_services', 0.014285207),\n",
       " ('Medu_3', 0.014249671),\n",
       " ('freetime_3', 0.013965389),\n",
       " ('Fedu_2', 0.013325753),\n",
       " ('famrel_5', 0.012437369),\n",
       " ('guardian_mother', 0.012366299),\n",
       " ('traveltime_2', 0.012330763),\n",
       " ('internet_yes', 0.012295227),\n",
       " ('reason_home', 0.012295227),\n",
       " ('health_3', 0.011904339),\n",
       " ('age_18', 0.011584521),\n",
       " ('Medu_2', 0.01151345),\n",
       " ('reason_other', 0.011406844),\n",
       " ('Medu_4', 0.011371309),\n",
       " ('health_4', 0.011229168),\n",
       " ('age_16', 0.010198642),\n",
       " ('age_15', 0.0098788245),\n",
       " ('Mjob_teacher', 0.009594542),\n",
       " ('Mjob_services', 0.0094524007),\n",
       " ('reason_reputation', 0.0092747239),\n",
       " ('guardian_father', 0.0090970472),\n",
       " ('Fedu_4', 0.0090259761),\n",
       " ('Medu_1', 0.0087416936),\n",
       " ('Pstatus_T', 0.0079599163),\n",
       " ('health_2', 0.0077111688),\n",
       " ('Fedu_3', 0.0076400982),\n",
       " ('schoolsup_yes', 0.0074268859),\n",
       " ('paid_yes', 0.0068583204),\n",
       " ('famrel_3', 0.0068583204),\n",
       " ('studytime_3', 0.0068227854),\n",
       " ('goout_2', 0.0065029673),\n",
       " ('age_19', 0.006289755),\n",
       " ('freetime_2', 0.0062542199),\n",
       " ('Mjob_at_home', 0.0061120787),\n",
       " ('Mjob_health', 0.0060765431),\n",
       " ('Course', 0.0058277957),\n",
       " ('failures_1', 0.0047617354),\n",
       " ('failures_0', 0.0045485236),\n",
       " ('higher_yes', 0.0042642406),\n",
       " ('health_1', 0.0040154932),\n",
       " ('guardian_other', 0.0039444226),\n",
       " ('famrel_1', 0.0039444226),\n",
       " ('freetime_1', 0.0034824633),\n",
       " ('studytime_4', 0.0033758574),\n",
       " ('freetime_5', 0.0029494332),\n",
       " ('traveltime_3', 0.0028428272),\n",
       " ('traveltime_4', 0.0028072919),\n",
       " ('Fjob_at_home', 0.0025585445),\n",
       " ('Fjob_teacher', 0.0019899791),\n",
       " ('goout_1', 0.0018478377),\n",
       " ('famrel_2', 0.0014924842),\n",
       " ('failures_3', 0.00095945416),\n",
       " ('Fjob_health', 0.00078177749),\n",
       " ('failures_2', 0.00074624212),\n",
       " ('Medu_0', 3.553534e-05),\n",
       " ('age_20', 0.0),\n",
       " ('age_21', 0.0),\n",
       " ('age_22', 0.0),\n",
       " ('Fedu_0', 0.0)]"
      ]
     },
     "execution_count": 376,
     "metadata": {},
     "output_type": "execute_result"
    }
   ],
   "source": [
    "sorted(list(zip(X.columns, grid.best_estimator_.feature_importances_)), key=lambda r: -r[1])"
   ]
  },
  {
   "cell_type": "markdown",
   "metadata": {},
   "source": [
    "Remarkable thing here is that numerical features take first places in importance ranking. If we had used PCA here, we could have thought that it's because of data has not been normalized, but trees are invariant to normalization. However it's clear that these four variables hold large part of overall variance."
   ]
  },
  {
   "cell_type": "markdown",
   "metadata": {},
   "source": [
    "Therefore, the most important features are:  \n",
    " * absences\n",
    " * G1\n",
    " * G2\n",
    " * G3\n",
    " * romantic relationships\n",
    " * sex\n",
    " * activities\n",
    " * health\n",
    " * family support\n",
    " * free time"
   ]
  },
  {
   "cell_type": "code",
   "execution_count": 332,
   "metadata": {
    "collapsed": false
   },
   "outputs": [
    {
     "data": {
      "image/png": "[encoded data removed]",
      "text/plain": [
       "<matplotlib.figure.Figure at 0x1252d8978>"
      ]
     },
     "metadata": {},
     "output_type": "display_data"
    }
   ],
   "source": [
    "plt.hist(np.log(X[\"absences\"] + 1));"
   ]
  },
  {
   "cell_type": "code",
   "execution_count": 346,
   "metadata": {
    "collapsed": false
   },
   "outputs": [
    {
     "data": {
      "image/png": "[encoded data removed]",
      "text/plain": [
       "<matplotlib.figure.Figure at 0x12e619d30>"
      ]
     },
     "metadata": {},
     "output_type": "display_data"
    }
   ],
   "source": [
    "fig = plt.figure(figsize=(6, 6))\n",
    "ax = fig.add_subplot(111)\n",
    "ax.hist(Y.ix[:, 0], width=.6);\n",
    "ax.set_xlim(0, 6);"
   ]
  },
  {
   "cell_type": "code",
   "execution_count": 328,
   "metadata": {
    "collapsed": false
   },
   "outputs": [
    {
     "data": {
      "image/png": "[encoded data removed]",
      "text/plain": [
       "<matplotlib.figure.Figure at 0x130dd42b0>"
      ]
     },
     "metadata": {},
     "output_type": "display_data"
    }
   ],
   "source": [
    "fig = plt.figure(figsize=(6, 6))\n",
    "ax = fig.add_subplot(111)\n",
    "ax.hexbin(np.log(X[\"absences\"]), Y.ix[:, 0], gridsize=6);\n",
    "ax.set_xlabel(\"absences\");\n",
    "ax.set_ylabel(\"weekday alcohol consumption\");"
   ]
  },
  {
   "cell_type": "markdown",
   "metadata": {},
   "source": [
    "Firstly we do see skew to zeros: there are much more people who doesn't drink and attends (almost) all classses. After that we see that those who attend all classes drinks less. Reasonable.\n",
    "(We use log here because of severe skewness)"
   ]
  },
  {
   "cell_type": "code",
   "execution_count": 327,
   "metadata": {
    "collapsed": false
   },
   "outputs": [
    {
     "data": {
      "image/png": "[encoded data removed]",
      "text/plain": [
       "<matplotlib.figure.Figure at 0x12b122898>"
      ]
     },
     "metadata": {},
     "output_type": "display_data"
    }
   ],
   "source": [
    "fig = plt.figure(figsize=(6, 6))\n",
    "ax = fig.add_subplot(111)\n",
    "ax.hexbin(np.log(X[\"absences\"]), Y.ix[:, 1], gridsize=6);\n",
    "ax.set_xlabel(\"absences\");\n",
    "ax.set_ylabel(\"weekday alcohol consumption\");"
   ]
  },
  {
   "cell_type": "markdown",
   "metadata": {},
   "source": [
    "We see that alcohol consumption is higher in weekends than that in weekdays (surprise!)."
   ]
  },
  {
   "cell_type": "code",
   "execution_count": 329,
   "metadata": {
    "collapsed": false,
    "scrolled": true
   },
   "outputs": [
    {
     "data": {
      "image/png": "[encoded data removed]",
      "text/plain": [
       "<matplotlib.figure.Figure at 0x12b0fc320>"
      ]
     },
     "metadata": {},
     "output_type": "display_data"
    }
   ],
   "source": [
    "fig = plt.figure(figsize=(6, 6))\n",
    "ax = fig.add_subplot(111)\n",
    "ax.hexbin(np.log(X[\"G1\"]), Y.ix[:, 1], gridsize=6);\n",
    "ax.set_xlabel(\"G1\");\n",
    "ax.set_ylabel(\"weekday alcohol consumption\");"
   ]
  },
  {
   "cell_type": "markdown",
   "metadata": {},
   "source": [
    "Let's retrain our model on the features chosen."
   ]
  },
  {
   "cell_type": "code",
   "execution_count": 428,
   "metadata": {
    "collapsed": false
   },
   "outputs": [
    {
     "data": {
      "text/plain": [
       "Index(['school', 'sex', 'age', 'address', 'famsize', 'Pstatus', 'Medu', 'Fedu',\n",
       "       'Mjob', 'Fjob', 'reason', 'guardian', 'traveltime', 'studytime',\n",
       "       'failures', 'schoolsup', 'famsup', 'paid', 'activities', 'nursery',\n",
       "       'higher', 'internet', 'romantic', 'famrel', 'freetime', 'goout', 'Dalc',\n",
       "       'Walc', 'health', 'absences', 'G1', 'G2', 'G3', 'Course'],\n",
       "      dtype='object')"
      ]
     },
     "execution_count": 428,
     "metadata": {},
     "output_type": "execute_result"
    }
   ],
   "source": [
    "data.columns"
   ]
  },
  {
   "cell_type": "code",
   "execution_count": 429,
   "metadata": {
    "collapsed": false
   },
   "outputs": [],
   "source": [
    "data_trim = data[[\"absences\", \"G1\", \"G2\", \"G3\", \"romantic\", \\\n",
    "            \"sex\", \"activities\", \"health\", \"famsup\", \"freetime\"]]"
   ]
  },
  {
   "cell_type": "code",
   "execution_count": 430,
   "metadata": {
    "collapsed": true
   },
   "outputs": [],
   "source": [
    "binary_features = ['sex', 'famsup', 'activities', 'romantic']\n",
    "binary_vectors = pd.get_dummies(data[binary_features], drop_first=True).astype(np.int8)\n",
    "\n",
    "categorical_features = ['freetime', 'health']\n",
    "label_vectors = pd.get_dummies(data[categorical_features].astype(object)).astype(np.int8)\n",
    "\n",
    "numerical_features = ['absences', 'G1', 'G2', 'G3']\n",
    "numerical_features = data[numerical_features].astype(np.int8)"
   ]
  },
  {
   "cell_type": "code",
   "execution_count": 431,
   "metadata": {
    "collapsed": true
   },
   "outputs": [],
   "source": [
    "X_trim = pd.concat([binary_vectors, label_vectors, numerical_features], axis=1)"
   ]
  },
  {
   "cell_type": "code",
   "execution_count": 432,
   "metadata": {
    "collapsed": false
   },
   "outputs": [
    {
     "data": {
      "text/plain": [
       "(1044, 18)"
      ]
     },
     "execution_count": 432,
     "metadata": {},
     "output_type": "execute_result"
    }
   ],
   "source": [
    "X_trim.shape"
   ]
  },
  {
   "cell_type": "markdown",
   "metadata": {},
   "source": [
    "Yeah, 18 instead of 10 because of dumminess :)"
   ]
  },
  {
   "cell_type": "code",
   "execution_count": 434,
   "metadata": {
    "collapsed": false,
    "scrolled": true
   },
   "outputs": [
    {
     "name": "stdout",
     "output_type": "stream",
     "text": [
      "Fitting 5 folds for each of 8 candidates, totalling 40 fits\n",
      "[CV] n_estimators=300, max_depth=8 ...................................\n",
      "[CV] n_estimators=300, max_depth=8 ...................................\n",
      "[CV] n_estimators=300, max_depth=8 ...................................\n",
      "[CV] n_estimators=300, max_depth=8 ...................................\n",
      "[CV] .......... n_estimators=300, max_depth=8, score=0.653846 -   2.4s\n",
      "[CV] n_estimators=300, max_depth=8 ...................................\n",
      "[CV] .......... n_estimators=300, max_depth=8, score=0.663462 -   2.5s\n",
      "[CV] .......... n_estimators=300, max_depth=8, score=0.665072 -   2.6s\n",
      "[CV] n_estimators=400, max_depth=8 ...................................\n",
      "[CV] n_estimators=400, max_depth=8 ...................................\n",
      "[CV] .......... n_estimators=300, max_depth=8, score=0.636792 -   2.6s\n",
      "[CV] n_estimators=400, max_depth=8 ...................................\n",
      "[CV] .......... n_estimators=300, max_depth=8, score=0.657005 -   2.9s\n",
      "[CV] n_estimators=400, max_depth=8 ...................................\n"
     ]
    },
    {
     "name": "stderr",
     "output_type": "stream",
     "text": [
      "[Parallel(n_jobs=4)]: Done   5 tasks      | elapsed:    5.4s\n"
     ]
    },
    {
     "name": "stdout",
     "output_type": "stream",
     "text": [
      "[CV] .......... n_estimators=400, max_depth=8, score=0.641509 -   3.5s\n",
      "[CV] n_estimators=400, max_depth=8 ...................................\n",
      "[CV] .......... n_estimators=400, max_depth=8, score=0.653846 -   3.5s\n",
      "[CV] n_estimators=300, max_depth=9 ...................................\n",
      "[CV] .......... n_estimators=400, max_depth=8, score=0.669856 -   3.7s\n",
      "[CV] n_estimators=300, max_depth=9 ...................................\n",
      "[CV] .......... n_estimators=400, max_depth=8, score=0.663462 -   3.2s\n",
      "[CV] n_estimators=300, max_depth=9 ...................................\n",
      "[CV] .......... n_estimators=300, max_depth=9, score=0.655660 -   2.6s\n",
      "[CV] n_estimators=300, max_depth=9 ...................................\n",
      "[CV] .......... n_estimators=300, max_depth=9, score=0.645933 -   2.6s\n",
      "[CV] n_estimators=300, max_depth=9 ...................................\n"
     ]
    },
    {
     "name": "stderr",
     "output_type": "stream",
     "text": [
      "[Parallel(n_jobs=4)]: Done  10 tasks      | elapsed:    8.9s\n"
     ]
    },
    {
     "name": "stdout",
     "output_type": "stream",
     "text": [
      "[CV] .......... n_estimators=400, max_depth=8, score=0.652174 -   3.3s\n",
      "[CV] n_estimators=400, max_depth=9 ...................................\n",
      "[CV] .......... n_estimators=300, max_depth=9, score=0.663462 -   2.6s\n",
      "[CV] n_estimators=400, max_depth=9 ...................................\n",
      "[CV] .......... n_estimators=300, max_depth=9, score=0.668269 -   2.6s\n",
      "[CV] n_estimators=400, max_depth=9 ...................................\n",
      "[CV] .......... n_estimators=300, max_depth=9, score=0.666667 -   2.7s\n",
      "[CV] n_estimators=400, max_depth=9 ...................................\n",
      "[CV] .......... n_estimators=400, max_depth=9, score=0.646226 -   3.3s\n",
      "[CV] n_estimators=400, max_depth=9 ...................................\n",
      "[CV] .......... n_estimators=400, max_depth=9, score=0.641148 -   3.3s\n",
      "[CV] n_estimators=300, max_depth=10 ..................................\n",
      "[CV] .......... n_estimators=400, max_depth=9, score=0.668269 -   3.4s\n"
     ]
    },
    {
     "name": "stderr",
     "output_type": "stream",
     "text": [
      "[Parallel(n_jobs=4)]: Done  17 tasks      | elapsed:   14.7s\n"
     ]
    },
    {
     "name": "stdout",
     "output_type": "stream",
     "text": [
      "[CV] n_estimators=300, max_depth=10 ..................................\n",
      "[CV] .......... n_estimators=400, max_depth=9, score=0.658654 -   3.3s\n",
      "[CV] n_estimators=300, max_depth=10 ..................................\n",
      "[CV] .......... n_estimators=400, max_depth=9, score=0.661836 -   3.4s\n",
      "[CV] n_estimators=300, max_depth=10 ..................................\n",
      "[CV] ......... n_estimators=300, max_depth=10, score=0.650943 -   2.8s\n",
      "[CV] n_estimators=300, max_depth=10 ..................................\n",
      "[CV] ......... n_estimators=300, max_depth=10, score=0.650718 -   2.8s\n",
      "[CV] n_estimators=400, max_depth=10 ..................................\n",
      "[CV] ......... n_estimators=300, max_depth=10, score=0.653846 -   2.8s\n",
      "[CV] n_estimators=400, max_depth=10 ..................................\n",
      "[CV] ......... n_estimators=300, max_depth=10, score=0.673077 -   2.8s\n",
      "[CV] n_estimators=400, max_depth=10 ..................................\n"
     ]
    },
    {
     "name": "stderr",
     "output_type": "stream",
     "text": [
      "[Parallel(n_jobs=4)]: Done  24 tasks      | elapsed:   18.9s\n"
     ]
    },
    {
     "name": "stdout",
     "output_type": "stream",
     "text": [
      "[CV] ......... n_estimators=300, max_depth=10, score=0.652174 -   2.7s\n",
      "[CV] n_estimators=400, max_depth=10 ..................................\n",
      "[CV] ......... n_estimators=400, max_depth=10, score=0.650943 -   3.5s\n",
      "[CV] n_estimators=400, max_depth=10 ..................................\n",
      "[CV] ......... n_estimators=400, max_depth=10, score=0.645933 -   3.5s\n",
      "[CV] n_estimators=300, max_depth=11 ..................................\n",
      "[CV] ......... n_estimators=400, max_depth=10, score=0.653846 -   3.5s\n",
      "[CV] n_estimators=300, max_depth=11 ..................................\n",
      "[CV] ......... n_estimators=400, max_depth=10, score=0.653846 -   3.4s\n",
      "[CV] n_estimators=300, max_depth=11 ..................................\n",
      "[CV] ......... n_estimators=300, max_depth=11, score=0.641509 -   2.8s\n",
      "[CV] n_estimators=300, max_depth=11 ..................................\n",
      "[CV] ......... n_estimators=400, max_depth=10, score=0.637681 -   3.5s\n",
      "[CV] n_estimators=300, max_depth=11 ..................................\n",
      "[CV] ......... n_estimators=300, max_depth=11, score=0.641148 -   2.9s\n",
      "[CV] n_estimators=400, max_depth=11 ..................................\n",
      "[CV] ......... n_estimators=300, max_depth=11, score=0.658654 -   2.9s\n",
      "[CV] n_estimators=400, max_depth=11 ..................................\n"
     ]
    },
    {
     "name": "stderr",
     "output_type": "stream",
     "text": [
      "[Parallel(n_jobs=4)]: Done  33 tasks      | elapsed:   26.6s\n"
     ]
    },
    {
     "name": "stdout",
     "output_type": "stream",
     "text": [
      "[CV] ......... n_estimators=300, max_depth=11, score=0.658654 -   2.8s\n",
      "[CV] n_estimators=400, max_depth=11 ..................................\n",
      "[CV] ......... n_estimators=300, max_depth=11, score=0.666667 -   2.9s\n",
      "[CV] n_estimators=400, max_depth=11 ..................................\n",
      "[CV] ......... n_estimators=400, max_depth=11, score=0.650943 -   3.7s\n",
      "[CV] n_estimators=400, max_depth=11 ..................................\n",
      "[CV] ......... n_estimators=400, max_depth=11, score=0.631579 -   3.7s\n",
      "[CV] ......... n_estimators=400, max_depth=11, score=0.653846 -   3.6s\n",
      "[CV] ......... n_estimators=400, max_depth=11, score=0.644231 -   3.3s\n",
      "[CV] ......... n_estimators=400, max_depth=11, score=0.657005 -   2.9s\n"
     ]
    },
    {
     "name": "stderr",
     "output_type": "stream",
     "text": [
      "[Parallel(n_jobs=4)]: Done  40 out of  40 | elapsed:   32.0s finished\n"
     ]
    },
    {
     "data": {
      "text/plain": [
       "GridSearchCV(cv=5, error_score='raise',\n",
       "       estimator=XGBClassifier(base_score=0.5, colsample_bylevel=1, colsample_bytree=1,\n",
       "       gamma=0, learning_rate=0.1, max_delta_step=0, max_depth=3,\n",
       "       min_child_weight=1, missing=None, n_estimators=100, nthread=-1,\n",
       "       objective='binary:logistic', reg_alpha=0, reg_lambda=1,\n",
       "       scale_pos_weight=1, seed=0, silent=True, subsample=1),\n",
       "       fit_params={}, iid=True, n_jobs=4,\n",
       "       param_grid={'n_estimators': array([300, 400]), 'max_depth': array([ 8,  9, 10, 11])},\n",
       "       pre_dispatch='2*n_jobs', refit=True, scoring=None, verbose=10)"
      ]
     },
     "execution_count": 434,
     "metadata": {},
     "output_type": "execute_result"
    }
   ],
   "source": [
    "params = {\n",
    "    \"max_depth\": np.arange(8, 12), \n",
    "    \"n_estimators\": np.arange(300, 401, 100)\n",
    "}\n",
    "\n",
    "classifier = XGBClassifier()\n",
    "grid = GridSearchCV(classifier, param_grid=params, n_jobs=4, cv=5, verbose=10)\n",
    "grid.fit(X_trim, Y.ix[:, 0])"
   ]
  },
  {
   "cell_type": "code",
   "execution_count": 436,
   "metadata": {
    "collapsed": false
   },
   "outputs": [
    {
     "name": "stdout",
     "output_type": "stream",
     "text": [
      "0.659961685824\n",
      "{'n_estimators': 300, 'max_depth': 9}\n"
     ]
    }
   ],
   "source": [
    "print(grid.best_score_)\n",
    "print(grid.best_params_)"
   ]
  },
  {
   "cell_type": "code",
   "execution_count": 447,
   "metadata": {
    "collapsed": false,
    "scrolled": true
   },
   "outputs": [
    {
     "name": "stdout",
     "output_type": "stream",
     "text": [
      "Fitting 5 folds for each of 8 candidates, totalling 40 fits\n",
      "[CV] n_estimators=300, max_depth=8 ...................................\n",
      "[CV] n_estimators=300, max_depth=8 ...................................\n",
      "[CV] n_estimators=300, max_depth=8 ...................................\n",
      "[CV] n_estimators=300, max_depth=8 ...................................\n",
      "[CV] .......... n_estimators=300, max_depth=8, score=0.457143 -   2.9s\n",
      "[CV] n_estimators=300, max_depth=8 ...................................\n",
      "[CV] .......... n_estimators=300, max_depth=8, score=0.410628 -   2.9s\n",
      "[CV] n_estimators=400, max_depth=8 ...................................\n",
      "[CV] .......... n_estimators=300, max_depth=8, score=0.347619 -   2.9s\n",
      "[CV] .......... n_estimators=300, max_depth=8, score=0.438095 -   3.0s\n",
      "[CV] n_estimators=400, max_depth=8 ...................................\n",
      "[CV] n_estimators=400, max_depth=8 ...................................\n",
      "[CV] .......... n_estimators=300, max_depth=8, score=0.376812 -   3.0s\n",
      "[CV] n_estimators=400, max_depth=8 ...................................\n"
     ]
    },
    {
     "name": "stderr",
     "output_type": "stream",
     "text": [
      "[Parallel(n_jobs=4)]: Done   5 tasks      | elapsed:    6.0s\n"
     ]
    },
    {
     "name": "stdout",
     "output_type": "stream",
     "text": [
      "[CV] .......... n_estimators=400, max_depth=8, score=0.452381 -   3.9s\n",
      "[CV] n_estimators=400, max_depth=8 ...................................\n",
      "[CV] .......... n_estimators=400, max_depth=8, score=0.433333 -   4.0s\n",
      "[CV] n_estimators=300, max_depth=9 ...................................\n",
      "[CV] .......... n_estimators=400, max_depth=8, score=0.347619 -   4.1s\n",
      "[CV] n_estimators=300, max_depth=9 ...................................\n",
      "[CV] .......... n_estimators=400, max_depth=8, score=0.396135 -   4.0s\n",
      "[CV] n_estimators=300, max_depth=9 ...................................\n",
      "[CV] .......... n_estimators=300, max_depth=9, score=0.433333 -   3.3s\n",
      "[CV] n_estimators=300, max_depth=9 ...................................\n",
      "[CV] .......... n_estimators=300, max_depth=9, score=0.480952 -   3.3s\n",
      "[CV] n_estimators=300, max_depth=9 ...................................\n"
     ]
    },
    {
     "name": "stderr",
     "output_type": "stream",
     "text": [
      "[Parallel(n_jobs=4)]: Done  10 tasks      | elapsed:   10.3s\n"
     ]
    },
    {
     "name": "stdout",
     "output_type": "stream",
     "text": [
      "[CV] .......... n_estimators=400, max_depth=8, score=0.367150 -   3.9s\n",
      "[CV] n_estimators=400, max_depth=9 ...................................\n",
      "[CV] .......... n_estimators=300, max_depth=9, score=0.361905 -   3.4s\n",
      "[CV] n_estimators=400, max_depth=9 ...................................\n",
      "[CV] .......... n_estimators=300, max_depth=9, score=0.420290 -   3.5s\n",
      "[CV] n_estimators=400, max_depth=9 ...................................\n",
      "[CV] .......... n_estimators=300, max_depth=9, score=0.391304 -   3.6s\n",
      "[CV] n_estimators=400, max_depth=9 ...................................\n",
      "[CV] .......... n_estimators=400, max_depth=9, score=0.442857 -   4.8s\n",
      "[CV] n_estimators=400, max_depth=9 ...................................\n",
      "[CV] .......... n_estimators=400, max_depth=9, score=0.471429 -   4.5s\n",
      "[CV] n_estimators=300, max_depth=10 ..................................\n"
     ]
    },
    {
     "name": "stderr",
     "output_type": "stream",
     "text": [
      "[Parallel(n_jobs=4)]: Done  17 tasks      | elapsed:   18.0s\n"
     ]
    },
    {
     "name": "stdout",
     "output_type": "stream",
     "text": [
      "[CV] .......... n_estimators=400, max_depth=9, score=0.361905 -   4.6s\n",
      "[CV] n_estimators=300, max_depth=10 ..................................\n",
      "[CV] .......... n_estimators=400, max_depth=9, score=0.415459 -   4.4s\n",
      "[CV] n_estimators=300, max_depth=10 ..................................\n",
      "[CV] .......... n_estimators=400, max_depth=9, score=0.376812 -   4.1s\n",
      "[CV] n_estimators=300, max_depth=10 ..................................\n",
      "[CV] ......... n_estimators=300, max_depth=10, score=0.442857 -   3.5s\n",
      "[CV] n_estimators=300, max_depth=10 ..................................\n",
      "[CV] ......... n_estimators=300, max_depth=10, score=0.447619 -   3.4s\n",
      "[CV] n_estimators=400, max_depth=10 ..................................\n",
      "[CV] ......... n_estimators=300, max_depth=10, score=0.380952 -   3.5s\n",
      "[CV] n_estimators=400, max_depth=10 ..................................\n",
      "[CV] ......... n_estimators=300, max_depth=10, score=0.391304 -   3.4s\n",
      "[CV] n_estimators=400, max_depth=10 ..................................\n"
     ]
    },
    {
     "name": "stderr",
     "output_type": "stream",
     "text": [
      "[Parallel(n_jobs=4)]: Done  24 tasks      | elapsed:   23.3s\n"
     ]
    },
    {
     "name": "stdout",
     "output_type": "stream",
     "text": [
      "[CV] ......... n_estimators=300, max_depth=10, score=0.376812 -   3.4s\n",
      "[CV] n_estimators=400, max_depth=10 ..................................\n",
      "[CV] ......... n_estimators=400, max_depth=10, score=0.442857 -   4.4s\n",
      "[CV] n_estimators=400, max_depth=10 ..................................\n",
      "[CV] ......... n_estimators=400, max_depth=10, score=0.438095 -   4.6s\n",
      "[CV] n_estimators=300, max_depth=11 ..................................\n",
      "[CV] ......... n_estimators=400, max_depth=10, score=0.376190 -   4.7s\n",
      "[CV] n_estimators=300, max_depth=11 ..................................\n",
      "[CV] ......... n_estimators=400, max_depth=10, score=0.386473 -   5.0s\n",
      "[CV] n_estimators=300, max_depth=11 ..................................\n",
      "[CV] ......... n_estimators=300, max_depth=11, score=0.419048 -   4.3s\n",
      "[CV] n_estimators=300, max_depth=11 ..................................\n",
      "[CV] ......... n_estimators=400, max_depth=10, score=0.357488 -   5.2s\n",
      "[CV] n_estimators=300, max_depth=11 ..................................\n",
      "[CV] ......... n_estimators=300, max_depth=11, score=0.457143 -   4.1s\n",
      "[CV] n_estimators=400, max_depth=11 ..................................\n",
      "[CV] ......... n_estimators=300, max_depth=11, score=0.352381 -   4.4s\n",
      "[CV] n_estimators=400, max_depth=11 ..................................\n"
     ]
    },
    {
     "name": "stderr",
     "output_type": "stream",
     "text": [
      "[Parallel(n_jobs=4)]: Done  33 tasks      | elapsed:   34.3s\n"
     ]
    },
    {
     "name": "stdout",
     "output_type": "stream",
     "text": [
      "[CV] ......... n_estimators=300, max_depth=11, score=0.396135 -   4.7s\n",
      "[CV] n_estimators=400, max_depth=11 ..................................\n",
      "[CV] ......... n_estimators=300, max_depth=11, score=0.362319 -   4.4s\n",
      "[CV] n_estimators=400, max_depth=11 ..................................\n",
      "[CV] ......... n_estimators=400, max_depth=11, score=0.428571 -   5.4s\n",
      "[CV] n_estimators=400, max_depth=11 ..................................\n",
      "[CV] ......... n_estimators=400, max_depth=11, score=0.447619 -   4.9s\n",
      "[CV] ......... n_estimators=400, max_depth=11, score=0.352381 -   4.4s\n",
      "[CV] ......... n_estimators=400, max_depth=11, score=0.396135 -   4.3s\n",
      "[CV] ......... n_estimators=400, max_depth=11, score=0.362319 -   3.5s\n"
     ]
    },
    {
     "name": "stderr",
     "output_type": "stream",
     "text": [
      "[Parallel(n_jobs=4)]: Done  40 out of  40 | elapsed:   41.2s finished\n"
     ]
    },
    {
     "data": {
      "text/plain": [
       "GridSearchCV(cv=5, error_score='raise',\n",
       "       estimator=XGBClassifier(base_score=0.5, colsample_bylevel=1, colsample_bytree=1,\n",
       "       gamma=0, learning_rate=0.1, max_delta_step=0, max_depth=3,\n",
       "       min_child_weight=1, missing=None, n_estimators=100, nthread=-1,\n",
       "       objective='binary:logistic', reg_alpha=0, reg_lambda=1,\n",
       "       scale_pos_weight=1, seed=0, silent=True, subsample=1),\n",
       "       fit_params={}, iid=True, n_jobs=4,\n",
       "       param_grid={'n_estimators': array([300, 400]), 'max_depth': array([ 8,  9, 10, 11])},\n",
       "       pre_dispatch='2*n_jobs', refit=True, scoring=None, verbose=10)"
      ]
     },
     "execution_count": 447,
     "metadata": {},
     "output_type": "execute_result"
    }
   ],
   "source": [
    "params = {\n",
    "    \"max_depth\": np.arange(8, 12), \n",
    "    \"n_estimators\": np.arange(300, 401, 100)\n",
    "}\n",
    "\n",
    "classifier = XGBClassifier()\n",
    "grid = GridSearchCV(classifier, param_grid=params, n_jobs=4, cv=5, verbose=10)\n",
    "grid.fit(X_trim, Y.ix[:, 1])"
   ]
  },
  {
   "cell_type": "code",
   "execution_count": 448,
   "metadata": {
    "collapsed": false
   },
   "outputs": [
    {
     "name": "stdout",
     "output_type": "stream",
     "text": [
      "0.417624521073\n",
      "{'n_estimators': 300, 'max_depth': 9}\n"
     ]
    }
   ],
   "source": [
    "print(grid.best_score_)\n",
    "print(grid.best_params_)"
   ]
  },
  {
   "cell_type": "markdown",
   "metadata": {},
   "source": [
    "So, here are results. They are a bit modest. There are several ways for subsequent improvement:  \n",
    " * train linear models (one-vs-one or one-vs-rest LinearSVC)\n",
    " * train knn, however a sophisticated metric is needed\n",
    " * apply stacking over these three models"
   ]
  }
 ],
 "metadata": {
  "anaconda-cloud": {},
  "kernelspec": {
   "display_name": "Python [conda root]",
   "language": "python",
   "name": "conda-root-py"
  },
  "language_info": {
   "codemirror_mode": {
    "name": "ipython",
    "version": 3
   },
   "file_extension": ".py",
   "mimetype": "text/x-python",
   "name": "python",
   "nbconvert_exporter": "python",
   "pygments_lexer": "ipython3",
   "version": "3.5.2"
  }
 },
 "nbformat": 4,
 "nbformat_minor": 0
}
